{
 "cells": [
  {
   "cell_type": "code",
   "execution_count": 1,
   "id": "fb528639",
   "metadata": {
    "_cell_guid": "b1076dfc-b9ad-4769-8c92-a6c4dae69d19",
    "_uuid": "8f2839f25d086af736a60e9eeb907d3b93b6e0e5",
    "execution": {
     "iopub.execute_input": "2024-03-15T14:50:04.031110Z",
     "iopub.status.busy": "2024-03-15T14:50:04.030748Z",
     "iopub.status.idle": "2024-03-15T14:50:04.882686Z",
     "shell.execute_reply": "2024-03-15T14:50:04.881558Z"
    },
    "papermill": {
     "duration": 0.863789,
     "end_time": "2024-03-15T14:50:04.886743",
     "exception": false,
     "start_time": "2024-03-15T14:50:04.022954",
     "status": "completed"
    },
    "tags": []
   },
   "outputs": [
    {
     "name": "stdout",
     "output_type": "stream",
     "text": [
      "/kaggle/input/salary-dataset-simple-linear-regression/Salary_dataset.csv\n",
      "/kaggle/input/salary-dataset-csv/Salary_dataset.csv\n"
     ]
    }
   ],
   "source": [
    "# This Python 3 environment comes with many helpful analytics libraries installed\n",
    "# It is defined by the kaggle/python Docker image: https://github.com/kaggle/docker-python\n",
    "# For example, here's several helpful packages to load\n",
    "\n",
    "import numpy as np # linear algebra\n",
    "import pandas as pd # data processing, CSV file I/O (e.g. pd.read_csv)\n",
    "\n",
    "# Input data files are available in the read-only \"../input/\" directory\n",
    "# For example, running this (by clicking run or pressing Shift+Enter) will list all files under the input directory\n",
    "\n",
    "import os\n",
    "for dirname, _, filenames in os.walk('/kaggle/input'):\n",
    "    for filename in filenames:\n",
    "        print(os.path.join(dirname, filename))\n",
    "\n",
    "# You can write up to 20GB to the current directory (/kaggle/working/) that gets preserved as output when you create a version using \"Save & Run All\" \n",
    "# You can also write temporary files to /kaggle/temp/, but they won't be saved outside of the current session"
   ]
  },
  {
   "cell_type": "code",
   "execution_count": 2,
   "id": "46e11b6e",
   "metadata": {
    "execution": {
     "iopub.execute_input": "2024-03-15T14:50:04.899525Z",
     "iopub.status.busy": "2024-03-15T14:50:04.898690Z",
     "iopub.status.idle": "2024-03-15T14:50:06.635340Z",
     "shell.execute_reply": "2024-03-15T14:50:06.633889Z"
    },
    "papermill": {
     "duration": 1.74609,
     "end_time": "2024-03-15T14:50:06.638235",
     "exception": false,
     "start_time": "2024-03-15T14:50:04.892145",
     "status": "completed"
    },
    "tags": []
   },
   "outputs": [],
   "source": [
    "#data visualization\n",
    "import seaborn as sns\n",
    "import matplotlib.pyplot as plt\n",
    "from sklearn.linear_model import LinearRegression\n",
    "from sklearn.model_selection import train_test_split\n",
    "from sklearn.metrics import mean_squared_error"
   ]
  },
  {
   "cell_type": "code",
   "execution_count": 3,
   "id": "ba91678e",
   "metadata": {
    "execution": {
     "iopub.execute_input": "2024-03-15T14:50:06.651124Z",
     "iopub.status.busy": "2024-03-15T14:50:06.649996Z",
     "iopub.status.idle": "2024-03-15T14:50:06.668365Z",
     "shell.execute_reply": "2024-03-15T14:50:06.667200Z"
    },
    "papermill": {
     "duration": 0.027477,
     "end_time": "2024-03-15T14:50:06.671038",
     "exception": false,
     "start_time": "2024-03-15T14:50:06.643561",
     "status": "completed"
    },
    "tags": []
   },
   "outputs": [],
   "source": [
    "#loading the dataset\n",
    "df=pd.read_csv(\"/kaggle/input/salary-dataset-simple-linear-regression/Salary_dataset.csv\")"
   ]
  },
  {
   "cell_type": "code",
   "execution_count": 4,
   "id": "ea01eae1",
   "metadata": {
    "execution": {
     "iopub.execute_input": "2024-03-15T14:50:06.683644Z",
     "iopub.status.busy": "2024-03-15T14:50:06.682633Z",
     "iopub.status.idle": "2024-03-15T14:50:06.698618Z",
     "shell.execute_reply": "2024-03-15T14:50:06.697522Z"
    },
    "papermill": {
     "duration": 0.024817,
     "end_time": "2024-03-15T14:50:06.701011",
     "exception": false,
     "start_time": "2024-03-15T14:50:06.676194",
     "status": "completed"
    },
    "tags": []
   },
   "outputs": [
    {
     "data": {
      "text/plain": [
       "<bound method NDFrame.head of     Unnamed: 0  YearsExperience    Salary\n",
       "0            0              1.2   39344.0\n",
       "1            1              1.4   46206.0\n",
       "2            2              1.6   37732.0\n",
       "3            3              2.1   43526.0\n",
       "4            4              2.3   39892.0\n",
       "5            5              3.0   56643.0\n",
       "6            6              3.1   60151.0\n",
       "7            7              3.3   54446.0\n",
       "8            8              3.3   64446.0\n",
       "9            9              3.8   57190.0\n",
       "10          10              4.0   63219.0\n",
       "11          11              4.1   55795.0\n",
       "12          12              4.1   56958.0\n",
       "13          13              4.2   57082.0\n",
       "14          14              4.6   61112.0\n",
       "15          15              5.0   67939.0\n",
       "16          16              5.2   66030.0\n",
       "17          17              5.4   83089.0\n",
       "18          18              6.0   81364.0\n",
       "19          19              6.1   93941.0\n",
       "20          20              6.9   91739.0\n",
       "21          21              7.2   98274.0\n",
       "22          22              8.0  101303.0\n",
       "23          23              8.3  113813.0\n",
       "24          24              8.8  109432.0\n",
       "25          25              9.1  105583.0\n",
       "26          26              9.6  116970.0\n",
       "27          27              9.7  112636.0\n",
       "28          28             10.4  122392.0\n",
       "29          29             10.6  121873.0>"
      ]
     },
     "execution_count": 4,
     "metadata": {},
     "output_type": "execute_result"
    }
   ],
   "source": [
    "df.head"
   ]
  },
  {
   "cell_type": "code",
   "execution_count": 5,
   "id": "b6227cc6",
   "metadata": {
    "execution": {
     "iopub.execute_input": "2024-03-15T14:50:06.713332Z",
     "iopub.status.busy": "2024-03-15T14:50:06.712977Z",
     "iopub.status.idle": "2024-03-15T14:50:06.719040Z",
     "shell.execute_reply": "2024-03-15T14:50:06.717894Z"
    },
    "papermill": {
     "duration": 0.014999,
     "end_time": "2024-03-15T14:50:06.721329",
     "exception": false,
     "start_time": "2024-03-15T14:50:06.706330",
     "status": "completed"
    },
    "tags": []
   },
   "outputs": [
    {
     "data": {
      "text/plain": [
       "(30, 3)"
      ]
     },
     "execution_count": 5,
     "metadata": {},
     "output_type": "execute_result"
    }
   ],
   "source": [
    "#shape of the data\n",
    "df.shape"
   ]
  },
  {
   "cell_type": "code",
   "execution_count": 6,
   "id": "1c25d6ee",
   "metadata": {
    "execution": {
     "iopub.execute_input": "2024-03-15T14:50:06.733998Z",
     "iopub.status.busy": "2024-03-15T14:50:06.733600Z",
     "iopub.status.idle": "2024-03-15T14:50:06.746341Z",
     "shell.execute_reply": "2024-03-15T14:50:06.745250Z"
    },
    "papermill": {
     "duration": 0.021724,
     "end_time": "2024-03-15T14:50:06.748527",
     "exception": false,
     "start_time": "2024-03-15T14:50:06.726803",
     "status": "completed"
    },
    "tags": []
   },
   "outputs": [
    {
     "data": {
      "text/plain": [
       "0"
      ]
     },
     "execution_count": 6,
     "metadata": {},
     "output_type": "execute_result"
    }
   ],
   "source": [
    "#checking for duplicates\n",
    "df.duplicated().sum()"
   ]
  },
  {
   "cell_type": "code",
   "execution_count": 7,
   "id": "eb4b74f6",
   "metadata": {
    "execution": {
     "iopub.execute_input": "2024-03-15T14:50:06.761393Z",
     "iopub.status.busy": "2024-03-15T14:50:06.761039Z",
     "iopub.status.idle": "2024-03-15T14:50:06.771314Z",
     "shell.execute_reply": "2024-03-15T14:50:06.770138Z"
    },
    "papermill": {
     "duration": 0.019312,
     "end_time": "2024-03-15T14:50:06.773403",
     "exception": false,
     "start_time": "2024-03-15T14:50:06.754091",
     "status": "completed"
    },
    "tags": []
   },
   "outputs": [
    {
     "data": {
      "text/plain": [
       "Unnamed: 0         0\n",
       "YearsExperience    0\n",
       "Salary             0\n",
       "dtype: int64"
      ]
     },
     "execution_count": 7,
     "metadata": {},
     "output_type": "execute_result"
    }
   ],
   "source": [
    "#checking for missing values\n",
    "df.isnull().sum()"
   ]
  },
  {
   "cell_type": "code",
   "execution_count": 8,
   "id": "a31c30ee",
   "metadata": {
    "execution": {
     "iopub.execute_input": "2024-03-15T14:50:06.786355Z",
     "iopub.status.busy": "2024-03-15T14:50:06.785989Z",
     "iopub.status.idle": "2024-03-15T14:50:06.798663Z",
     "shell.execute_reply": "2024-03-15T14:50:06.797583Z"
    },
    "papermill": {
     "duration": 0.021966,
     "end_time": "2024-03-15T14:50:06.800981",
     "exception": false,
     "start_time": "2024-03-15T14:50:06.779015",
     "status": "completed"
    },
    "tags": []
   },
   "outputs": [
    {
     "data": {
      "text/html": [
       "<div>\n",
       "<style scoped>\n",
       "    .dataframe tbody tr th:only-of-type {\n",
       "        vertical-align: middle;\n",
       "    }\n",
       "\n",
       "    .dataframe tbody tr th {\n",
       "        vertical-align: top;\n",
       "    }\n",
       "\n",
       "    .dataframe thead th {\n",
       "        text-align: right;\n",
       "    }\n",
       "</style>\n",
       "<table border=\"1\" class=\"dataframe\">\n",
       "  <thead>\n",
       "    <tr style=\"text-align: right;\">\n",
       "      <th></th>\n",
       "      <th>Unnamed: 0</th>\n",
       "      <th>YearsExperience</th>\n",
       "      <th>Salary</th>\n",
       "    </tr>\n",
       "  </thead>\n",
       "  <tbody>\n",
       "    <tr>\n",
       "      <th>0</th>\n",
       "      <td>0</td>\n",
       "      <td>1.2</td>\n",
       "      <td>39344.0</td>\n",
       "    </tr>\n",
       "    <tr>\n",
       "      <th>1</th>\n",
       "      <td>1</td>\n",
       "      <td>1.4</td>\n",
       "      <td>46206.0</td>\n",
       "    </tr>\n",
       "    <tr>\n",
       "      <th>2</th>\n",
       "      <td>2</td>\n",
       "      <td>1.6</td>\n",
       "      <td>37732.0</td>\n",
       "    </tr>\n",
       "    <tr>\n",
       "      <th>3</th>\n",
       "      <td>3</td>\n",
       "      <td>2.1</td>\n",
       "      <td>43526.0</td>\n",
       "    </tr>\n",
       "    <tr>\n",
       "      <th>4</th>\n",
       "      <td>4</td>\n",
       "      <td>2.3</td>\n",
       "      <td>39892.0</td>\n",
       "    </tr>\n",
       "  </tbody>\n",
       "</table>\n",
       "</div>"
      ],
      "text/plain": [
       "   Unnamed: 0  YearsExperience   Salary\n",
       "0           0              1.2  39344.0\n",
       "1           1              1.4  46206.0\n",
       "2           2              1.6  37732.0\n",
       "3           3              2.1  43526.0\n",
       "4           4              2.3  39892.0"
      ]
     },
     "execution_count": 8,
     "metadata": {},
     "output_type": "execute_result"
    }
   ],
   "source": [
    "df.head()"
   ]
  },
  {
   "cell_type": "markdown",
   "id": "66b7c616",
   "metadata": {
    "papermill": {
     "duration": 0.005432,
     "end_time": "2024-03-15T14:50:06.812290",
     "exception": false,
     "start_time": "2024-03-15T14:50:06.806858",
     "status": "completed"
    },
    "tags": []
   },
   "source": [
    "### Bivariete Analysis"
   ]
  },
  {
   "cell_type": "code",
   "execution_count": 9,
   "id": "7e8f0a4c",
   "metadata": {
    "execution": {
     "iopub.execute_input": "2024-03-15T14:50:06.825391Z",
     "iopub.status.busy": "2024-03-15T14:50:06.825035Z",
     "iopub.status.idle": "2024-03-15T14:50:07.104972Z",
     "shell.execute_reply": "2024-03-15T14:50:07.103882Z"
    },
    "papermill": {
     "duration": 0.289721,
     "end_time": "2024-03-15T14:50:07.107711",
     "exception": false,
     "start_time": "2024-03-15T14:50:06.817990",
     "status": "completed"
    },
    "tags": []
   },
   "outputs": [
    {
     "data": {
      "text/plain": [
       "<Axes: xlabel='YearsExperience', ylabel='Salary'>"
      ]
     },
     "execution_count": 9,
     "metadata": {},
     "output_type": "execute_result"
    },
    {
     "data": {
      "image/png": "[encoded data removed]",
      "text/plain": [
       "<Figure size 640x480 with 1 Axes>"
      ]
     },
     "metadata": {},
     "output_type": "display_data"
    }
   ],
   "source": [
    "sns.scatterplot(data=df,x='YearsExperience', y='Salary')"
   ]
  },
  {
   "cell_type": "code",
   "execution_count": 10,
   "id": "5a819ceb",
   "metadata": {
    "execution": {
     "iopub.execute_input": "2024-03-15T14:50:07.122753Z",
     "iopub.status.busy": "2024-03-15T14:50:07.122041Z",
     "iopub.status.idle": "2024-03-15T14:50:07.136997Z",
     "shell.execute_reply": "2024-03-15T14:50:07.135775Z"
    },
    "papermill": {
     "duration": 0.02556,
     "end_time": "2024-03-15T14:50:07.139626",
     "exception": false,
     "start_time": "2024-03-15T14:50:07.114066",
     "status": "completed"
    },
    "tags": []
   },
   "outputs": [
    {
     "data": {
      "text/html": [
       "<div>\n",
       "<style scoped>\n",
       "    .dataframe tbody tr th:only-of-type {\n",
       "        vertical-align: middle;\n",
       "    }\n",
       "\n",
       "    .dataframe tbody tr th {\n",
       "        vertical-align: top;\n",
       "    }\n",
       "\n",
       "    .dataframe thead th {\n",
       "        text-align: right;\n",
       "    }\n",
       "</style>\n",
       "<table border=\"1\" class=\"dataframe\">\n",
       "  <thead>\n",
       "    <tr style=\"text-align: right;\">\n",
       "      <th></th>\n",
       "      <th>Unnamed: 0</th>\n",
       "      <th>YearsExperience</th>\n",
       "    </tr>\n",
       "  </thead>\n",
       "  <tbody>\n",
       "    <tr>\n",
       "      <th>0</th>\n",
       "      <td>0</td>\n",
       "      <td>1.2</td>\n",
       "    </tr>\n",
       "    <tr>\n",
       "      <th>1</th>\n",
       "      <td>1</td>\n",
       "      <td>1.4</td>\n",
       "    </tr>\n",
       "    <tr>\n",
       "      <th>2</th>\n",
       "      <td>2</td>\n",
       "      <td>1.6</td>\n",
       "    </tr>\n",
       "    <tr>\n",
       "      <th>3</th>\n",
       "      <td>3</td>\n",
       "      <td>2.1</td>\n",
       "    </tr>\n",
       "    <tr>\n",
       "      <th>4</th>\n",
       "      <td>4</td>\n",
       "      <td>2.3</td>\n",
       "    </tr>\n",
       "  </tbody>\n",
       "</table>\n",
       "</div>"
      ],
      "text/plain": [
       "   Unnamed: 0  YearsExperience\n",
       "0           0              1.2\n",
       "1           1              1.4\n",
       "2           2              1.6\n",
       "3           3              2.1\n",
       "4           4              2.3"
      ]
     },
     "execution_count": 10,
     "metadata": {},
     "output_type": "execute_result"
    }
   ],
   "source": [
    "#splitting the data\n",
    "X=df.drop(['Salary'],axis=1)\n",
    "y=df['Salary']\n",
    "X.head()"
   ]
  },
  {
   "cell_type": "code",
   "execution_count": 11,
   "id": "f9b1bd4a",
   "metadata": {
    "execution": {
     "iopub.execute_input": "2024-03-15T14:50:07.155283Z",
     "iopub.status.busy": "2024-03-15T14:50:07.154889Z",
     "iopub.status.idle": "2024-03-15T14:50:07.164530Z",
     "shell.execute_reply": "2024-03-15T14:50:07.163445Z"
    },
    "papermill": {
     "duration": 0.020021,
     "end_time": "2024-03-15T14:50:07.167133",
     "exception": false,
     "start_time": "2024-03-15T14:50:07.147112",
     "status": "completed"
    },
    "tags": []
   },
   "outputs": [],
   "source": [
    "from sklearn.model_selection import train_test_split\n",
    "X_train,X_test,y_train,y_test=train_test_split(X,y,test_size=0.15, random_state=1)"
   ]
  },
  {
   "cell_type": "markdown",
   "id": "e583d4f0",
   "metadata": {
    "papermill": {
     "duration": 0.006109,
     "end_time": "2024-03-15T14:50:07.179664",
     "exception": false,
     "start_time": "2024-03-15T14:50:07.173555",
     "status": "completed"
    },
    "tags": []
   },
   "source": [
    "### Initialize Linear Regression Model"
   ]
  },
  {
   "cell_type": "code",
   "execution_count": 12,
   "id": "e4ffc906",
   "metadata": {
    "execution": {
     "iopub.execute_input": "2024-03-15T14:50:07.194615Z",
     "iopub.status.busy": "2024-03-15T14:50:07.193893Z",
     "iopub.status.idle": "2024-03-15T14:50:07.225460Z",
     "shell.execute_reply": "2024-03-15T14:50:07.223927Z"
    },
    "papermill": {
     "duration": 0.041909,
     "end_time": "2024-03-15T14:50:07.227946",
     "exception": false,
     "start_time": "2024-03-15T14:50:07.186037",
     "status": "completed"
    },
    "tags": []
   },
   "outputs": [
    {
     "data": {
      "text/html": [
       "<style>#sk-container-id-1 {color: black;background-color: white;}#sk-container-id-1 pre{padding: 0;}#sk-container-id-1 div.sk-toggleable {background-color: white;}#sk-container-id-1 label.sk-toggleable__label {cursor: pointer;display: block;width: 100%;margin-bottom: 0;padding: 0.3em;box-sizing: border-box;text-align: center;}#sk-container-id-1 label.sk-toggleable__label-arrow:before {content: \"▸\";float: left;margin-right: 0.25em;color: #696969;}#sk-container-id-1 label.sk-toggleable__label-arrow:hover:before {color: black;}#sk-container-id-1 div.sk-estimator:hover label.sk-toggleable__label-arrow:before {color: black;}#sk-container-id-1 div.sk-toggleable__content {max-height: 0;max-width: 0;overflow: hidden;text-align: left;background-color: #f0f8ff;}#sk-container-id-1 div.sk-toggleable__content pre {margin: 0.2em;color: black;border-radius: 0.25em;background-color: #f0f8ff;}#sk-container-id-1 input.sk-toggleable__control:checked~div.sk-toggleable__content {max-height: 200px;max-width: 100%;overflow: auto;}#sk-container-id-1 input.sk-toggleable__control:checked~label.sk-toggleable__label-arrow:before {content: \"▾\";}#sk-container-id-1 div.sk-estimator input.sk-toggleable__control:checked~label.sk-toggleable__label {background-color: #d4ebff;}#sk-container-id-1 div.sk-label input.sk-toggleable__control:checked~label.sk-toggleable__label {background-color: #d4ebff;}#sk-container-id-1 input.sk-hidden--visually {border: 0;clip: rect(1px 1px 1px 1px);clip: rect(1px, 1px, 1px, 1px);height: 1px;margin: -1px;overflow: hidden;padding: 0;position: absolute;width: 1px;}#sk-container-id-1 div.sk-estimator {font-family: monospace;background-color: #f0f8ff;border: 1px dotted black;border-radius: 0.25em;box-sizing: border-box;margin-bottom: 0.5em;}#sk-container-id-1 div.sk-estimator:hover {background-color: #d4ebff;}#sk-container-id-1 div.sk-parallel-item::after {content: \"\";width: 100%;border-bottom: 1px solid gray;flex-grow: 1;}#sk-container-id-1 div.sk-label:hover label.sk-toggleable__label {background-color: #d4ebff;}#sk-container-id-1 div.sk-serial::before {content: \"\";position: absolute;border-left: 1px solid gray;box-sizing: border-box;top: 0;bottom: 0;left: 50%;z-index: 0;}#sk-container-id-1 div.sk-serial {display: flex;flex-direction: column;align-items: center;background-color: white;padding-right: 0.2em;padding-left: 0.2em;position: relative;}#sk-container-id-1 div.sk-item {position: relative;z-index: 1;}#sk-container-id-1 div.sk-parallel {display: flex;align-items: stretch;justify-content: center;background-color: white;position: relative;}#sk-container-id-1 div.sk-item::before, #sk-container-id-1 div.sk-parallel-item::before {content: \"\";position: absolute;border-left: 1px solid gray;box-sizing: border-box;top: 0;bottom: 0;left: 50%;z-index: -1;}#sk-container-id-1 div.sk-parallel-item {display: flex;flex-direction: column;z-index: 1;position: relative;background-color: white;}#sk-container-id-1 div.sk-parallel-item:first-child::after {align-self: flex-end;width: 50%;}#sk-container-id-1 div.sk-parallel-item:last-child::after {align-self: flex-start;width: 50%;}#sk-container-id-1 div.sk-parallel-item:only-child::after {width: 0;}#sk-container-id-1 div.sk-dashed-wrapped {border: 1px dashed gray;margin: 0 0.4em 0.5em 0.4em;box-sizing: border-box;padding-bottom: 0.4em;background-color: white;}#sk-container-id-1 div.sk-label label {font-family: monospace;font-weight: bold;display: inline-block;line-height: 1.2em;}#sk-container-id-1 div.sk-label-container {text-align: center;}#sk-container-id-1 div.sk-container {/* jupyter's `normalize.less` sets `[hidden] { display: none; }` but bootstrap.min.css set `[hidden] { display: none !important; }` so we also need the `!important` here to be able to override the default hidden behavior on the sphinx rendered scikit-learn.org. See: https://github.com/scikit-learn/scikit-learn/issues/21755 */display: inline-block !important;position: relative;}#sk-container-id-1 div.sk-text-repr-fallback {display: none;}</style><div id=\"sk-container-id-1\" class=\"sk-top-container\"><div class=\"sk-text-repr-fallback\"><pre>LinearRegression()</pre><b>In a Jupyter environment, please rerun this cell to show the HTML representation or trust the notebook. <br />On GitHub, the HTML representation is unable to render, please try loading this page with nbviewer.org.</b></div><div class=\"sk-container\" hidden><div class=\"sk-item\"><div class=\"sk-estimator sk-toggleable\"><input class=\"sk-toggleable__control sk-hidden--visually\" id=\"sk-estimator-id-1\" type=\"checkbox\" checked><label for=\"sk-estimator-id-1\" class=\"sk-toggleable__label sk-toggleable__label-arrow\">LinearRegression</label><div class=\"sk-toggleable__content\"><pre>LinearRegression()</pre></div></div></div></div></div>"
      ],
      "text/plain": [
       "LinearRegression()"
      ]
     },
     "execution_count": 12,
     "metadata": {},
     "output_type": "execute_result"
    }
   ],
   "source": [
    "#Initialize the Model\n",
    "le=LinearRegression()\n",
    "le.fit(X_train,y_train)"
   ]
  },
  {
   "cell_type": "code",
   "execution_count": 13,
   "id": "581412df",
   "metadata": {
    "execution": {
     "iopub.execute_input": "2024-03-15T14:50:07.244446Z",
     "iopub.status.busy": "2024-03-15T14:50:07.243432Z",
     "iopub.status.idle": "2024-03-15T14:50:07.254016Z",
     "shell.execute_reply": "2024-03-15T14:50:07.252853Z"
    },
    "papermill": {
     "duration": 0.021511,
     "end_time": "2024-03-15T14:50:07.256250",
     "exception": false,
     "start_time": "2024-03-15T14:50:07.234739",
     "status": "completed"
    },
    "tags": []
   },
   "outputs": [
    {
     "data": {
      "text/html": [
       "<div>\n",
       "<style scoped>\n",
       "    .dataframe tbody tr th:only-of-type {\n",
       "        vertical-align: middle;\n",
       "    }\n",
       "\n",
       "    .dataframe tbody tr th {\n",
       "        vertical-align: top;\n",
       "    }\n",
       "\n",
       "    .dataframe thead th {\n",
       "        text-align: right;\n",
       "    }\n",
       "</style>\n",
       "<table border=\"1\" class=\"dataframe\">\n",
       "  <thead>\n",
       "    <tr style=\"text-align: right;\">\n",
       "      <th></th>\n",
       "      <th>Unnamed: 0</th>\n",
       "      <th>YearsExperience</th>\n",
       "    </tr>\n",
       "  </thead>\n",
       "  <tbody>\n",
       "    <tr>\n",
       "      <th>17</th>\n",
       "      <td>17</td>\n",
       "      <td>5.4</td>\n",
       "    </tr>\n",
       "    <tr>\n",
       "      <th>21</th>\n",
       "      <td>21</td>\n",
       "      <td>7.2</td>\n",
       "    </tr>\n",
       "    <tr>\n",
       "      <th>10</th>\n",
       "      <td>10</td>\n",
       "      <td>4.0</td>\n",
       "    </tr>\n",
       "    <tr>\n",
       "      <th>19</th>\n",
       "      <td>19</td>\n",
       "      <td>6.1</td>\n",
       "    </tr>\n",
       "    <tr>\n",
       "      <th>14</th>\n",
       "      <td>14</td>\n",
       "      <td>4.6</td>\n",
       "    </tr>\n",
       "  </tbody>\n",
       "</table>\n",
       "</div>"
      ],
      "text/plain": [
       "    Unnamed: 0  YearsExperience\n",
       "17          17              5.4\n",
       "21          21              7.2\n",
       "10          10              4.0\n",
       "19          19              6.1\n",
       "14          14              4.6"
      ]
     },
     "execution_count": 13,
     "metadata": {},
     "output_type": "execute_result"
    }
   ],
   "source": [
    "X_test"
   ]
  },
  {
   "cell_type": "code",
   "execution_count": 14,
   "id": "04e6eae1",
   "metadata": {
    "execution": {
     "iopub.execute_input": "2024-03-15T14:50:07.272137Z",
     "iopub.status.busy": "2024-03-15T14:50:07.271448Z",
     "iopub.status.idle": "2024-03-15T14:50:07.279572Z",
     "shell.execute_reply": "2024-03-15T14:50:07.277992Z"
    },
    "papermill": {
     "duration": 0.018715,
     "end_time": "2024-03-15T14:50:07.281888",
     "exception": false,
     "start_time": "2024-03-15T14:50:07.263173",
     "status": "completed"
    },
    "tags": []
   },
   "outputs": [
    {
     "name": "stdout",
     "output_type": "stream",
     "text": [
      "[70159.6279292  89616.06739385 61874.68660298 76943.41020588\n",
      " 63664.50133375]\n"
     ]
    }
   ],
   "source": [
    "preds=le.predict(X_test)\n",
    "print(preds)"
   ]
  },
  {
   "cell_type": "code",
   "execution_count": 15,
   "id": "fbdfc949",
   "metadata": {
    "execution": {
     "iopub.execute_input": "2024-03-15T14:50:07.298435Z",
     "iopub.status.busy": "2024-03-15T14:50:07.297458Z",
     "iopub.status.idle": "2024-03-15T14:50:07.304312Z",
     "shell.execute_reply": "2024-03-15T14:50:07.303306Z"
    },
    "papermill": {
     "duration": 0.017171,
     "end_time": "2024-03-15T14:50:07.306345",
     "exception": false,
     "start_time": "2024-03-15T14:50:07.289174",
     "status": "completed"
    },
    "tags": []
   },
   "outputs": [
    {
     "data": {
      "text/plain": [
       "107873791.9069992"
      ]
     },
     "execution_count": 15,
     "metadata": {},
     "output_type": "execute_result"
    }
   ],
   "source": [
    "#evaluate\n",
    "mse = mean_squared_error(y_test,preds)\n",
    "mse"
   ]
  },
  {
   "cell_type": "code",
   "execution_count": 16,
   "id": "8d653e34",
   "metadata": {
    "execution": {
     "iopub.execute_input": "2024-03-15T14:50:07.321995Z",
     "iopub.status.busy": "2024-03-15T14:50:07.321584Z",
     "iopub.status.idle": "2024-03-15T14:50:07.325866Z",
     "shell.execute_reply": "2024-03-15T14:50:07.325070Z"
    },
    "papermill": {
     "duration": 0.015001,
     "end_time": "2024-03-15T14:50:07.328366",
     "exception": false,
     "start_time": "2024-03-15T14:50:07.313365",
     "status": "completed"
    },
    "tags": []
   },
   "outputs": [],
   "source": [
    "#importing the mean absolute error\n",
    "from sklearn.metrics import mean_absolute_error"
   ]
  },
  {
   "cell_type": "code",
   "execution_count": 17,
   "id": "aca0ecef",
   "metadata": {
    "execution": {
     "iopub.execute_input": "2024-03-15T14:50:07.344693Z",
     "iopub.status.busy": "2024-03-15T14:50:07.343935Z",
     "iopub.status.idle": "2024-03-15T14:50:07.350794Z",
     "shell.execute_reply": "2024-03-15T14:50:07.349500Z"
    },
    "papermill": {
     "duration": 0.01763,
     "end_time": "2024-03-15T14:50:07.352975",
     "exception": false,
     "start_time": "2024-03-15T14:50:07.335345",
     "status": "completed"
    },
    "tags": []
   },
   "outputs": [
    {
     "name": "stdout",
     "output_type": "stream",
     "text": [
      "8496.341840365942\n"
     ]
    }
   ],
   "source": [
    "mae = mean_absolute_error(y_test,preds)\n",
    "print(mae)"
   ]
  },
  {
   "cell_type": "code",
   "execution_count": null,
   "id": "8d757c75",
   "metadata": {
    "papermill": {
     "duration": 0.007018,
     "end_time": "2024-03-15T14:50:07.367518",
     "exception": false,
     "start_time": "2024-03-15T14:50:07.360500",
     "status": "completed"
    },
    "tags": []
   },
   "outputs": [],
   "source": []
  }
 ],
 "metadata": {
  "kaggle": {
   "accelerator": "none",
   "dataSources": [
    {
     "datasetId": 2799910,
     "sourceId": 4832081,
     "sourceType": "datasetVersion"
    },
    {
     "datasetId": 4592627,
     "sourceId": 7835264,
     "sourceType": "datasetVersion"
    }
   ],
   "dockerImageVersionId": 30664,
   "isGpuEnabled": false,
   "isInternetEnabled": true,
   "language": "python",
   "sourceType": "notebook"
  },
  "kernelspec": {
   "display_name": "Python 3",
   "language": "python",
   "name": "python3"
  },
  "language_info": {
   "codemirror_mode": {
    "name": "ipython",
    "version": 3
   },
   "file_extension": ".py",
   "mimetype": "text/x-python",
   "name": "python",
   "nbconvert_exporter": "python",
   "pygments_lexer": "ipython3",
   "version": "3.10.13"
  },
  "papermill": {
   "default_parameters": {},
   "duration": 6.717044,
   "end_time": "2024-03-15T14:50:07.995689",
   "environment_variables": {},
   "exception": null,
   "input_path": "__notebook__.ipynb",
   "output_path": "__notebook__.ipynb",
   "parameters": {},
   "start_time": "2024-03-15T14:50:01.278645",
   "version": "2.5.0"
  }
 },
 "nbformat": 4,
 "nbformat_minor": 5
}
