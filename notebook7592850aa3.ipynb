{
 "cells": [
  {
   "cell_type": "code",
   "execution_count": 1,
   "id": "61ec070b",
   "metadata": {
    "_cell_guid": "b1076dfc-b9ad-4769-8c92-a6c4dae69d19",
    "_uuid": "8f2839f25d086af736a60e9eeb907d3b93b6e0e5",
    "execution": {
     "iopub.execute_input": "2024-02-29T13:51:37.213066Z",
     "iopub.status.busy": "2024-02-29T13:51:37.212483Z",
     "iopub.status.idle": "2024-02-29T13:51:38.058415Z",
     "shell.execute_reply": "2024-02-29T13:51:38.057587Z"
    },
    "papermill": {
     "duration": 0.860438,
     "end_time": "2024-02-29T13:51:38.060989",
     "exception": false,
     "start_time": "2024-02-29T13:51:37.200551",
     "status": "completed"
    },
    "tags": []
   },
   "outputs": [
    {
     "name": "stdout",
     "output_type": "stream",
     "text": [
      "/kaggle/input/Electricity Connections.csv\n"
     ]
    }
   ],
   "source": [
    "# This Python 3 environment comes with many helpful analytics libraries installed\n",
    "# It is defined by the kaggle/python Docker image: https://github.com/kaggle/docker-python\n",
    "# For example, here's several helpful packages to load\n",
    "\n",
    "import numpy as np # linear algebra\n",
    "import pandas as pd # data processing, CSV file I/O (e.g. pd.read_csv)\n",
    "\n",
    "# Input data files are available in the read-only \"../input/\" directory\n",
    "# For example, running this (by clicking run or pressing Shift+Enter) will list all files under the input directory\n",
    "\n",
    "import os\n",
    "for dirname, _, filenames in os.walk('/kaggle/input'):\n",
    "    for filename in filenames:\n",
    "        print(os.path.join(dirname, filename))\n",
    "\n",
    "# You can write up to 20GB to the current directory (/kaggle/working/) that gets preserved as output when you create a version using \"Save & Run All\" \n",
    "# You can also write temporary files to /kaggle/temp/, but they won't be saved outside of the current session"
   ]
  },
  {
   "cell_type": "code",
   "execution_count": 2,
   "id": "60dda042",
   "metadata": {
    "execution": {
     "iopub.execute_input": "2024-02-29T13:51:38.082307Z",
     "iopub.status.busy": "2024-02-29T13:51:38.081666Z",
     "iopub.status.idle": "2024-02-29T13:51:38.097021Z",
     "shell.execute_reply": "2024-02-29T13:51:38.095936Z"
    },
    "papermill": {
     "duration": 0.028765,
     "end_time": "2024-02-29T13:51:38.099576",
     "exception": false,
     "start_time": "2024-02-29T13:51:38.070811",
     "status": "completed"
    },
    "tags": []
   },
   "outputs": [],
   "source": [
    "#importing the data\n",
    "df=pd.read_csv(\"/kaggle/input/Electricity Connections.csv\")"
   ]
  },
  {
   "cell_type": "code",
   "execution_count": 3,
   "id": "dffcd428",
   "metadata": {
    "execution": {
     "iopub.execute_input": "2024-02-29T13:51:38.121000Z",
     "iopub.status.busy": "2024-02-29T13:51:38.120174Z",
     "iopub.status.idle": "2024-02-29T13:51:38.138351Z",
     "shell.execute_reply": "2024-02-29T13:51:38.137274Z"
    },
    "papermill": {
     "duration": 0.03113,
     "end_time": "2024-02-29T13:51:38.140684",
     "exception": false,
     "start_time": "2024-02-29T13:51:38.109554",
     "status": "completed"
    },
    "tags": []
   },
   "outputs": [
    {
     "data": {
      "text/html": [
       "<div>\n",
       "<style scoped>\n",
       "    .dataframe tbody tr th:only-of-type {\n",
       "        vertical-align: middle;\n",
       "    }\n",
       "\n",
       "    .dataframe tbody tr th {\n",
       "        vertical-align: top;\n",
       "    }\n",
       "\n",
       "    .dataframe thead th {\n",
       "        text-align: right;\n",
       "    }\n",
       "</style>\n",
       "<table border=\"1\" class=\"dataframe\">\n",
       "  <thead>\n",
       "    <tr style=\"text-align: right;\">\n",
       "      <th></th>\n",
       "      <th>Districts</th>\n",
       "      <th>Domestic Connections</th>\n",
       "      <th>Industrial Connections</th>\n",
       "      <th>Agriculture Connections</th>\n",
       "      <th>Commercial Connections</th>\n",
       "      <th>Other Connections</th>\n",
       "    </tr>\n",
       "  </thead>\n",
       "  <tbody>\n",
       "    <tr>\n",
       "      <th>0</th>\n",
       "      <td>ADILABAD</td>\n",
       "      <td>151936</td>\n",
       "      <td>1074</td>\n",
       "      <td>17948</td>\n",
       "      <td>14641</td>\n",
       "      <td>3302</td>\n",
       "    </tr>\n",
       "    <tr>\n",
       "      <th>1</th>\n",
       "      <td>BHADRADRI</td>\n",
       "      <td>272987</td>\n",
       "      <td>1396</td>\n",
       "      <td>29951</td>\n",
       "      <td>25990</td>\n",
       "      <td>5911</td>\n",
       "    </tr>\n",
       "    <tr>\n",
       "      <th>2</th>\n",
       "      <td>HYDERABAD</td>\n",
       "      <td>1469633</td>\n",
       "      <td>13041</td>\n",
       "      <td>86</td>\n",
       "      <td>324781</td>\n",
       "      <td>18987</td>\n",
       "    </tr>\n",
       "    <tr>\n",
       "      <th>3</th>\n",
       "      <td>JAGTIAL</td>\n",
       "      <td>267097</td>\n",
       "      <td>2132</td>\n",
       "      <td>113165</td>\n",
       "      <td>23109</td>\n",
       "      <td>6499</td>\n",
       "    </tr>\n",
       "    <tr>\n",
       "      <th>4</th>\n",
       "      <td>JANGAON</td>\n",
       "      <td>148566</td>\n",
       "      <td>1536</td>\n",
       "      <td>80002</td>\n",
       "      <td>11366</td>\n",
       "      <td>4432</td>\n",
       "    </tr>\n",
       "  </tbody>\n",
       "</table>\n",
       "</div>"
      ],
      "text/plain": [
       "   Districts  Domestic Connections  Industrial Connections  \\\n",
       "0   ADILABAD                151936                    1074   \n",
       "1  BHADRADRI                272987                    1396   \n",
       "2  HYDERABAD               1469633                   13041   \n",
       "3   JAGTIAL                 267097                    2132   \n",
       "4   JANGAON                 148566                    1536   \n",
       "\n",
       "   Agriculture Connections  Commercial Connections  Other Connections  \n",
       "0                    17948                   14641               3302  \n",
       "1                    29951                   25990               5911  \n",
       "2                       86                  324781              18987  \n",
       "3                   113165                   23109               6499  \n",
       "4                    80002                   11366               4432  "
      ]
     },
     "execution_count": 3,
     "metadata": {},
     "output_type": "execute_result"
    }
   ],
   "source": [
    "df.head()"
   ]
  },
  {
   "cell_type": "code",
   "execution_count": 4,
   "id": "4b18c8a0",
   "metadata": {
    "execution": {
     "iopub.execute_input": "2024-02-29T13:51:38.162153Z",
     "iopub.status.busy": "2024-02-29T13:51:38.161758Z",
     "iopub.status.idle": "2024-02-29T13:51:38.173126Z",
     "shell.execute_reply": "2024-02-29T13:51:38.172173Z"
    },
    "papermill": {
     "duration": 0.02445,
     "end_time": "2024-02-29T13:51:38.175172",
     "exception": false,
     "start_time": "2024-02-29T13:51:38.150722",
     "status": "completed"
    },
    "tags": []
   },
   "outputs": [
    {
     "data": {
      "text/html": [
       "<div>\n",
       "<style scoped>\n",
       "    .dataframe tbody tr th:only-of-type {\n",
       "        vertical-align: middle;\n",
       "    }\n",
       "\n",
       "    .dataframe tbody tr th {\n",
       "        vertical-align: top;\n",
       "    }\n",
       "\n",
       "    .dataframe thead th {\n",
       "        text-align: right;\n",
       "    }\n",
       "</style>\n",
       "<table border=\"1\" class=\"dataframe\">\n",
       "  <thead>\n",
       "    <tr style=\"text-align: right;\">\n",
       "      <th></th>\n",
       "      <th>Districts</th>\n",
       "      <th>Domestic Connections</th>\n",
       "      <th>Industrial Connections</th>\n",
       "      <th>Agriculture Connections</th>\n",
       "      <th>Commercial Connections</th>\n",
       "      <th>Other Connections</th>\n",
       "    </tr>\n",
       "  </thead>\n",
       "  <tbody>\n",
       "    <tr>\n",
       "      <th>26</th>\n",
       "      <td>VIKARABAD</td>\n",
       "      <td>178574</td>\n",
       "      <td>3063</td>\n",
       "      <td>51409</td>\n",
       "      <td>15044</td>\n",
       "      <td>2685</td>\n",
       "    </tr>\n",
       "    <tr>\n",
       "      <th>27</th>\n",
       "      <td>WANAPARTHY</td>\n",
       "      <td>108511</td>\n",
       "      <td>1194</td>\n",
       "      <td>37317</td>\n",
       "      <td>11195</td>\n",
       "      <td>2362</td>\n",
       "    </tr>\n",
       "    <tr>\n",
       "      <th>28</th>\n",
       "      <td>WARANGAL (R)</td>\n",
       "      <td>147718</td>\n",
       "      <td>1576</td>\n",
       "      <td>67698</td>\n",
       "      <td>12536</td>\n",
       "      <td>3056</td>\n",
       "    </tr>\n",
       "    <tr>\n",
       "      <th>29</th>\n",
       "      <td>WARANGAL (U)</td>\n",
       "      <td>366159</td>\n",
       "      <td>3275</td>\n",
       "      <td>41144</td>\n",
       "      <td>47177</td>\n",
       "      <td>5205</td>\n",
       "    </tr>\n",
       "    <tr>\n",
       "      <th>30</th>\n",
       "      <td>YADADRI</td>\n",
       "      <td>191627</td>\n",
       "      <td>3011</td>\n",
       "      <td>85404</td>\n",
       "      <td>20708</td>\n",
       "      <td>5033</td>\n",
       "    </tr>\n",
       "  </tbody>\n",
       "</table>\n",
       "</div>"
      ],
      "text/plain": [
       "        Districts  Domestic Connections  Industrial Connections  \\\n",
       "26     VIKARABAD                 178574                    3063   \n",
       "27    WANAPARTHY                 108511                    1194   \n",
       "28  WARANGAL (R)                 147718                    1576   \n",
       "29   WARANGAL (U)                366159                    3275   \n",
       "30       YADADRI                 191627                    3011   \n",
       "\n",
       "    Agriculture Connections  Commercial Connections  Other Connections  \n",
       "26                    51409                   15044               2685  \n",
       "27                    37317                   11195               2362  \n",
       "28                    67698                   12536               3056  \n",
       "29                    41144                   47177               5205  \n",
       "30                    85404                   20708               5033  "
      ]
     },
     "execution_count": 4,
     "metadata": {},
     "output_type": "execute_result"
    }
   ],
   "source": [
    "df.tail()"
   ]
  },
  {
   "cell_type": "code",
   "execution_count": 5,
   "id": "b6bd3940",
   "metadata": {
    "execution": {
     "iopub.execute_input": "2024-02-29T13:51:38.197941Z",
     "iopub.status.busy": "2024-02-29T13:51:38.196847Z",
     "iopub.status.idle": "2024-02-29T13:51:38.201518Z",
     "shell.execute_reply": "2024-02-29T13:51:38.200610Z"
    },
    "papermill": {
     "duration": 0.018206,
     "end_time": "2024-02-29T13:51:38.203671",
     "exception": false,
     "start_time": "2024-02-29T13:51:38.185465",
     "status": "completed"
    },
    "tags": []
   },
   "outputs": [],
   "source": [
    "###Data Sanity Checks"
   ]
  },
  {
   "cell_type": "code",
   "execution_count": 6,
   "id": "49f2aed2",
   "metadata": {
    "execution": {
     "iopub.execute_input": "2024-02-29T13:51:38.225777Z",
     "iopub.status.busy": "2024-02-29T13:51:38.225406Z",
     "iopub.status.idle": "2024-02-29T13:51:38.231095Z",
     "shell.execute_reply": "2024-02-29T13:51:38.230046Z"
    },
    "papermill": {
     "duration": 0.019761,
     "end_time": "2024-02-29T13:51:38.233641",
     "exception": false,
     "start_time": "2024-02-29T13:51:38.213880",
     "status": "completed"
    },
    "tags": []
   },
   "outputs": [
    {
     "data": {
      "text/plain": [
       "(31, 6)"
      ]
     },
     "execution_count": 6,
     "metadata": {},
     "output_type": "execute_result"
    }
   ],
   "source": [
    "#checking the shape of the dataset\n",
    "df.shape"
   ]
  },
  {
   "cell_type": "code",
   "execution_count": 7,
   "id": "9ab6d3fa",
   "metadata": {
    "execution": {
     "iopub.execute_input": "2024-02-29T13:51:38.255944Z",
     "iopub.status.busy": "2024-02-29T13:51:38.255603Z",
     "iopub.status.idle": "2024-02-29T13:51:38.266486Z",
     "shell.execute_reply": "2024-02-29T13:51:38.265471Z"
    },
    "papermill": {
     "duration": 0.024676,
     "end_time": "2024-02-29T13:51:38.268664",
     "exception": false,
     "start_time": "2024-02-29T13:51:38.243988",
     "status": "completed"
    },
    "tags": []
   },
   "outputs": [
    {
     "data": {
      "text/plain": [
       "Districts                  0\n",
       "Domestic Connections       0\n",
       "Industrial Connections     0\n",
       "Agriculture Connections    0\n",
       "Commercial Connections     0\n",
       "Other Connections          0\n",
       "dtype: int64"
      ]
     },
     "execution_count": 7,
     "metadata": {},
     "output_type": "execute_result"
    }
   ],
   "source": [
    "#checking the missing values\n",
    "df.isnull().sum()"
   ]
  },
  {
   "cell_type": "code",
   "execution_count": 8,
   "id": "389a1724",
   "metadata": {
    "execution": {
     "iopub.execute_input": "2024-02-29T13:51:38.292419Z",
     "iopub.status.busy": "2024-02-29T13:51:38.291834Z",
     "iopub.status.idle": "2024-02-29T13:51:38.304216Z",
     "shell.execute_reply": "2024-02-29T13:51:38.303449Z"
    },
    "papermill": {
     "duration": 0.026202,
     "end_time": "2024-02-29T13:51:38.306248",
     "exception": false,
     "start_time": "2024-02-29T13:51:38.280046",
     "status": "completed"
    },
    "tags": []
   },
   "outputs": [
    {
     "data": {
      "text/plain": [
       "0"
      ]
     },
     "execution_count": 8,
     "metadata": {},
     "output_type": "execute_result"
    }
   ],
   "source": [
    "#checking duplicate values\n",
    "df.duplicated().sum()"
   ]
  },
  {
   "cell_type": "code",
   "execution_count": 9,
   "id": "f27b4614",
   "metadata": {
    "execution": {
     "iopub.execute_input": "2024-02-29T13:51:38.329634Z",
     "iopub.status.busy": "2024-02-29T13:51:38.328931Z",
     "iopub.status.idle": "2024-02-29T13:51:38.344485Z",
     "shell.execute_reply": "2024-02-29T13:51:38.343764Z"
    },
    "papermill": {
     "duration": 0.029555,
     "end_time": "2024-02-29T13:51:38.346433",
     "exception": false,
     "start_time": "2024-02-29T13:51:38.316878",
     "status": "completed"
    },
    "tags": []
   },
   "outputs": [
    {
     "data": {
      "text/html": [
       "<div>\n",
       "<style scoped>\n",
       "    .dataframe tbody tr th:only-of-type {\n",
       "        vertical-align: middle;\n",
       "    }\n",
       "\n",
       "    .dataframe tbody tr th {\n",
       "        vertical-align: top;\n",
       "    }\n",
       "\n",
       "    .dataframe thead th {\n",
       "        text-align: right;\n",
       "    }\n",
       "</style>\n",
       "<table border=\"1\" class=\"dataframe\">\n",
       "  <thead>\n",
       "    <tr style=\"text-align: right;\">\n",
       "      <th></th>\n",
       "      <th>Districts</th>\n",
       "      <th>Domestic Connections</th>\n",
       "      <th>Industrial Connections</th>\n",
       "      <th>Agriculture Connections</th>\n",
       "      <th>Commercial Connections</th>\n",
       "      <th>Other Connections</th>\n",
       "    </tr>\n",
       "  </thead>\n",
       "  <tbody>\n",
       "    <tr>\n",
       "      <th>0</th>\n",
       "      <td>ADILABAD</td>\n",
       "      <td>151936</td>\n",
       "      <td>1074</td>\n",
       "      <td>17948</td>\n",
       "      <td>14641</td>\n",
       "      <td>3302</td>\n",
       "    </tr>\n",
       "    <tr>\n",
       "      <th>1</th>\n",
       "      <td>BHADRADRI</td>\n",
       "      <td>272987</td>\n",
       "      <td>1396</td>\n",
       "      <td>29951</td>\n",
       "      <td>25990</td>\n",
       "      <td>5911</td>\n",
       "    </tr>\n",
       "    <tr>\n",
       "      <th>2</th>\n",
       "      <td>HYDERABAD</td>\n",
       "      <td>1469633</td>\n",
       "      <td>13041</td>\n",
       "      <td>86</td>\n",
       "      <td>324781</td>\n",
       "      <td>18987</td>\n",
       "    </tr>\n",
       "    <tr>\n",
       "      <th>3</th>\n",
       "      <td>JAGTIAL</td>\n",
       "      <td>267097</td>\n",
       "      <td>2132</td>\n",
       "      <td>113165</td>\n",
       "      <td>23109</td>\n",
       "      <td>6499</td>\n",
       "    </tr>\n",
       "    <tr>\n",
       "      <th>4</th>\n",
       "      <td>JANGAON</td>\n",
       "      <td>148566</td>\n",
       "      <td>1536</td>\n",
       "      <td>80002</td>\n",
       "      <td>11366</td>\n",
       "      <td>4432</td>\n",
       "    </tr>\n",
       "    <tr>\n",
       "      <th>5</th>\n",
       "      <td>JAYASHANKAR</td>\n",
       "      <td>144768</td>\n",
       "      <td>1053</td>\n",
       "      <td>48042</td>\n",
       "      <td>9719</td>\n",
       "      <td>3377</td>\n",
       "    </tr>\n",
       "    <tr>\n",
       "      <th>6</th>\n",
       "      <td>JOGULAMBA</td>\n",
       "      <td>92452</td>\n",
       "      <td>1020</td>\n",
       "      <td>31602</td>\n",
       "      <td>9403</td>\n",
       "      <td>1907</td>\n",
       "    </tr>\n",
       "    <tr>\n",
       "      <th>7</th>\n",
       "      <td>KAMAREDDY</td>\n",
       "      <td>210720</td>\n",
       "      <td>2206</td>\n",
       "      <td>82132</td>\n",
       "      <td>19376</td>\n",
       "      <td>6364</td>\n",
       "    </tr>\n",
       "    <tr>\n",
       "      <th>8</th>\n",
       "      <td>KARIMNAGAR</td>\n",
       "      <td>309030</td>\n",
       "      <td>3512</td>\n",
       "      <td>91361</td>\n",
       "      <td>33644</td>\n",
       "      <td>6290</td>\n",
       "    </tr>\n",
       "    <tr>\n",
       "      <th>9</th>\n",
       "      <td>KHAMMAM</td>\n",
       "      <td>397024</td>\n",
       "      <td>3193</td>\n",
       "      <td>81374</td>\n",
       "      <td>36443</td>\n",
       "      <td>7601</td>\n",
       "    </tr>\n",
       "    <tr>\n",
       "      <th>10</th>\n",
       "      <td>KOMARAM BHEEM</td>\n",
       "      <td>101064</td>\n",
       "      <td>484</td>\n",
       "      <td>6672</td>\n",
       "      <td>6332</td>\n",
       "      <td>2950</td>\n",
       "    </tr>\n",
       "    <tr>\n",
       "      <th>11</th>\n",
       "      <td>MAHABUBABAD</td>\n",
       "      <td>153923</td>\n",
       "      <td>1226</td>\n",
       "      <td>73394</td>\n",
       "      <td>12720</td>\n",
       "      <td>4980</td>\n",
       "    </tr>\n",
       "    <tr>\n",
       "      <th>12</th>\n",
       "      <td>MAHABUBNAGAR</td>\n",
       "      <td>257680</td>\n",
       "      <td>2902</td>\n",
       "      <td>82140</td>\n",
       "      <td>30826</td>\n",
       "      <td>6261</td>\n",
       "    </tr>\n",
       "    <tr>\n",
       "      <th>13</th>\n",
       "      <td>MANCHERIAL</td>\n",
       "      <td>185999</td>\n",
       "      <td>1241</td>\n",
       "      <td>31118</td>\n",
       "      <td>17112</td>\n",
       "      <td>3270</td>\n",
       "    </tr>\n",
       "    <tr>\n",
       "      <th>14</th>\n",
       "      <td>MEDAK</td>\n",
       "      <td>175678</td>\n",
       "      <td>2148</td>\n",
       "      <td>88951</td>\n",
       "      <td>18580</td>\n",
       "      <td>3464</td>\n",
       "    </tr>\n",
       "    <tr>\n",
       "      <th>15</th>\n",
       "      <td>MEDCHAL</td>\n",
       "      <td>1047202</td>\n",
       "      <td>57749</td>\n",
       "      <td>18755</td>\n",
       "      <td>121581</td>\n",
       "      <td>20580</td>\n",
       "    </tr>\n",
       "    <tr>\n",
       "      <th>16</th>\n",
       "      <td>NAGARKURNOOL</td>\n",
       "      <td>123314</td>\n",
       "      <td>1477</td>\n",
       "      <td>61106</td>\n",
       "      <td>13899</td>\n",
       "      <td>3276</td>\n",
       "    </tr>\n",
       "    <tr>\n",
       "      <th>17</th>\n",
       "      <td>NALGONDA</td>\n",
       "      <td>363927</td>\n",
       "      <td>3891</td>\n",
       "      <td>165131</td>\n",
       "      <td>42466</td>\n",
       "      <td>6805</td>\n",
       "    </tr>\n",
       "    <tr>\n",
       "      <th>18</th>\n",
       "      <td>NIRMAL</td>\n",
       "      <td>167496</td>\n",
       "      <td>1037</td>\n",
       "      <td>48230</td>\n",
       "      <td>14835</td>\n",
       "      <td>3143</td>\n",
       "    </tr>\n",
       "    <tr>\n",
       "      <th>19</th>\n",
       "      <td>NIZAMABAD</td>\n",
       "      <td>422763</td>\n",
       "      <td>3830</td>\n",
       "      <td>149416</td>\n",
       "      <td>50760</td>\n",
       "      <td>12700</td>\n",
       "    </tr>\n",
       "    <tr>\n",
       "      <th>20</th>\n",
       "      <td>PEDDAPALLI</td>\n",
       "      <td>206547</td>\n",
       "      <td>2009</td>\n",
       "      <td>61719</td>\n",
       "      <td>17060</td>\n",
       "      <td>3389</td>\n",
       "    </tr>\n",
       "    <tr>\n",
       "      <th>21</th>\n",
       "      <td>RAJANNA</td>\n",
       "      <td>135896</td>\n",
       "      <td>1308</td>\n",
       "      <td>64543</td>\n",
       "      <td>9896</td>\n",
       "      <td>8075</td>\n",
       "    </tr>\n",
       "    <tr>\n",
       "      <th>22</th>\n",
       "      <td>RANGAREDDY</td>\n",
       "      <td>960744</td>\n",
       "      <td>15070</td>\n",
       "      <td>100395</td>\n",
       "      <td>122460</td>\n",
       "      <td>10879</td>\n",
       "    </tr>\n",
       "    <tr>\n",
       "      <th>23</th>\n",
       "      <td>SANGAREDDY</td>\n",
       "      <td>224515</td>\n",
       "      <td>2260</td>\n",
       "      <td>64002</td>\n",
       "      <td>24769</td>\n",
       "      <td>3930</td>\n",
       "    </tr>\n",
       "    <tr>\n",
       "      <th>24</th>\n",
       "      <td>SIDDIPET</td>\n",
       "      <td>271284</td>\n",
       "      <td>4105</td>\n",
       "      <td>96698</td>\n",
       "      <td>29115</td>\n",
       "      <td>8478</td>\n",
       "    </tr>\n",
       "    <tr>\n",
       "      <th>25</th>\n",
       "      <td>SURYAPET</td>\n",
       "      <td>249471</td>\n",
       "      <td>2688</td>\n",
       "      <td>109801</td>\n",
       "      <td>24448</td>\n",
       "      <td>3855</td>\n",
       "    </tr>\n",
       "    <tr>\n",
       "      <th>26</th>\n",
       "      <td>VIKARABAD</td>\n",
       "      <td>178574</td>\n",
       "      <td>3063</td>\n",
       "      <td>51409</td>\n",
       "      <td>15044</td>\n",
       "      <td>2685</td>\n",
       "    </tr>\n",
       "    <tr>\n",
       "      <th>27</th>\n",
       "      <td>WANAPARTHY</td>\n",
       "      <td>108511</td>\n",
       "      <td>1194</td>\n",
       "      <td>37317</td>\n",
       "      <td>11195</td>\n",
       "      <td>2362</td>\n",
       "    </tr>\n",
       "    <tr>\n",
       "      <th>28</th>\n",
       "      <td>WARANGAL (R)</td>\n",
       "      <td>147718</td>\n",
       "      <td>1576</td>\n",
       "      <td>67698</td>\n",
       "      <td>12536</td>\n",
       "      <td>3056</td>\n",
       "    </tr>\n",
       "    <tr>\n",
       "      <th>29</th>\n",
       "      <td>WARANGAL (U)</td>\n",
       "      <td>366159</td>\n",
       "      <td>3275</td>\n",
       "      <td>41144</td>\n",
       "      <td>47177</td>\n",
       "      <td>5205</td>\n",
       "    </tr>\n",
       "    <tr>\n",
       "      <th>30</th>\n",
       "      <td>YADADRI</td>\n",
       "      <td>191627</td>\n",
       "      <td>3011</td>\n",
       "      <td>85404</td>\n",
       "      <td>20708</td>\n",
       "      <td>5033</td>\n",
       "    </tr>\n",
       "  </tbody>\n",
       "</table>\n",
       "</div>"
      ],
      "text/plain": [
       "         Districts  Domestic Connections  Industrial Connections  \\\n",
       "0         ADILABAD                151936                    1074   \n",
       "1        BHADRADRI                272987                    1396   \n",
       "2        HYDERABAD               1469633                   13041   \n",
       "3         JAGTIAL                 267097                    2132   \n",
       "4         JANGAON                 148566                    1536   \n",
       "5     JAYASHANKAR                 144768                    1053   \n",
       "6       JOGULAMBA                  92452                    1020   \n",
       "7       KAMAREDDY                 210720                    2206   \n",
       "8      KARIMNAGAR                 309030                    3512   \n",
       "9         KHAMMAM                 397024                    3193   \n",
       "10  KOMARAM BHEEM                 101064                     484   \n",
       "11     MAHABUBABAD                153923                    1226   \n",
       "12    MAHABUBNAGAR                257680                    2902   \n",
       "13     MANCHERIAL                 185999                    1241   \n",
       "14          MEDAK                 175678                    2148   \n",
       "15         MEDCHAL               1047202                   57749   \n",
       "16   NAGARKURNOOL                 123314                    1477   \n",
       "17       NALGONDA                 363927                    3891   \n",
       "18         NIRMAL                 167496                    1037   \n",
       "19      NIZAMABAD                 422763                    3830   \n",
       "20     PEDDAPALLI                 206547                    2009   \n",
       "21        RAJANNA                 135896                    1308   \n",
       "22     RANGAREDDY                 960744                   15070   \n",
       "23     SANGAREDDY                 224515                    2260   \n",
       "24       SIDDIPET                 271284                    4105   \n",
       "25       SURYAPET                 249471                    2688   \n",
       "26      VIKARABAD                 178574                    3063   \n",
       "27     WANAPARTHY                 108511                    1194   \n",
       "28   WARANGAL (R)                 147718                    1576   \n",
       "29    WARANGAL (U)                366159                    3275   \n",
       "30        YADADRI                 191627                    3011   \n",
       "\n",
       "    Agriculture Connections  Commercial Connections  Other Connections  \n",
       "0                     17948                   14641               3302  \n",
       "1                     29951                   25990               5911  \n",
       "2                        86                  324781              18987  \n",
       "3                    113165                   23109               6499  \n",
       "4                     80002                   11366               4432  \n",
       "5                     48042                    9719               3377  \n",
       "6                     31602                    9403               1907  \n",
       "7                     82132                   19376               6364  \n",
       "8                     91361                   33644               6290  \n",
       "9                     81374                   36443               7601  \n",
       "10                     6672                    6332               2950  \n",
       "11                    73394                   12720               4980  \n",
       "12                    82140                   30826               6261  \n",
       "13                    31118                   17112               3270  \n",
       "14                    88951                   18580               3464  \n",
       "15                    18755                  121581              20580  \n",
       "16                    61106                   13899               3276  \n",
       "17                   165131                   42466               6805  \n",
       "18                    48230                   14835               3143  \n",
       "19                   149416                   50760              12700  \n",
       "20                    61719                   17060               3389  \n",
       "21                    64543                    9896               8075  \n",
       "22                   100395                  122460              10879  \n",
       "23                    64002                   24769               3930  \n",
       "24                    96698                   29115               8478  \n",
       "25                   109801                   24448               3855  \n",
       "26                    51409                   15044               2685  \n",
       "27                    37317                   11195               2362  \n",
       "28                    67698                   12536               3056  \n",
       "29                    41144                   47177               5205  \n",
       "30                    85404                   20708               5033  "
      ]
     },
     "execution_count": 9,
     "metadata": {},
     "output_type": "execute_result"
    }
   ],
   "source": [
    "#dropping duplicates\n",
    "df.drop_duplicates()\n"
   ]
  },
  {
   "cell_type": "code",
   "execution_count": 10,
   "id": "6c58d0a1",
   "metadata": {
    "execution": {
     "iopub.execute_input": "2024-02-29T13:51:38.370332Z",
     "iopub.status.busy": "2024-02-29T13:51:38.369788Z",
     "iopub.status.idle": "2024-02-29T13:51:38.399637Z",
     "shell.execute_reply": "2024-02-29T13:51:38.398548Z"
    },
    "papermill": {
     "duration": 0.044349,
     "end_time": "2024-02-29T13:51:38.401876",
     "exception": false,
     "start_time": "2024-02-29T13:51:38.357527",
     "status": "completed"
    },
    "tags": []
   },
   "outputs": [
    {
     "data": {
      "text/html": [
       "<div>\n",
       "<style scoped>\n",
       "    .dataframe tbody tr th:only-of-type {\n",
       "        vertical-align: middle;\n",
       "    }\n",
       "\n",
       "    .dataframe tbody tr th {\n",
       "        vertical-align: top;\n",
       "    }\n",
       "\n",
       "    .dataframe thead th {\n",
       "        text-align: right;\n",
       "    }\n",
       "</style>\n",
       "<table border=\"1\" class=\"dataframe\">\n",
       "  <thead>\n",
       "    <tr style=\"text-align: right;\">\n",
       "      <th></th>\n",
       "      <th>count</th>\n",
       "      <th>mean</th>\n",
       "      <th>std</th>\n",
       "      <th>min</th>\n",
       "      <th>25%</th>\n",
       "      <th>50%</th>\n",
       "      <th>75%</th>\n",
       "      <th>max</th>\n",
       "    </tr>\n",
       "  </thead>\n",
       "  <tbody>\n",
       "    <tr>\n",
       "      <th>Domestic Connections</th>\n",
       "      <td>31.0</td>\n",
       "      <td>306590.483871</td>\n",
       "      <td>304819.519429</td>\n",
       "      <td>92452.0</td>\n",
       "      <td>150251.0</td>\n",
       "      <td>206547.0</td>\n",
       "      <td>291008.5</td>\n",
       "      <td>1469633.0</td>\n",
       "    </tr>\n",
       "    <tr>\n",
       "      <th>Industrial Connections</th>\n",
       "      <td>31.0</td>\n",
       "      <td>4700.225806</td>\n",
       "      <td>10334.744750</td>\n",
       "      <td>484.0</td>\n",
       "      <td>1274.5</td>\n",
       "      <td>2148.0</td>\n",
       "      <td>3234.0</td>\n",
       "      <td>57749.0</td>\n",
       "    </tr>\n",
       "    <tr>\n",
       "      <th>Agriculture Connections</th>\n",
       "      <td>31.0</td>\n",
       "      <td>67119.548387</td>\n",
       "      <td>38304.516342</td>\n",
       "      <td>86.0</td>\n",
       "      <td>39230.5</td>\n",
       "      <td>64543.0</td>\n",
       "      <td>87177.5</td>\n",
       "      <td>165131.0</td>\n",
       "    </tr>\n",
       "    <tr>\n",
       "      <th>Commercial Connections</th>\n",
       "      <td>31.0</td>\n",
       "      <td>37806.161290</td>\n",
       "      <td>59921.755225</td>\n",
       "      <td>6332.0</td>\n",
       "      <td>13309.5</td>\n",
       "      <td>19376.0</td>\n",
       "      <td>32235.0</td>\n",
       "      <td>324781.0</td>\n",
       "    </tr>\n",
       "    <tr>\n",
       "      <th>Other Connections</th>\n",
       "      <td>31.0</td>\n",
       "      <td>6098.258065</td>\n",
       "      <td>4424.081758</td>\n",
       "      <td>1907.0</td>\n",
       "      <td>3289.0</td>\n",
       "      <td>4980.0</td>\n",
       "      <td>6652.0</td>\n",
       "      <td>20580.0</td>\n",
       "    </tr>\n",
       "  </tbody>\n",
       "</table>\n",
       "</div>"
      ],
      "text/plain": [
       "                         count           mean            std      min  \\\n",
       "Domestic Connections      31.0  306590.483871  304819.519429  92452.0   \n",
       "Industrial Connections    31.0    4700.225806   10334.744750    484.0   \n",
       "Agriculture Connections   31.0   67119.548387   38304.516342     86.0   \n",
       "Commercial Connections    31.0   37806.161290   59921.755225   6332.0   \n",
       "Other Connections         31.0    6098.258065    4424.081758   1907.0   \n",
       "\n",
       "                              25%       50%       75%        max  \n",
       "Domestic Connections     150251.0  206547.0  291008.5  1469633.0  \n",
       "Industrial Connections     1274.5    2148.0    3234.0    57749.0  \n",
       "Agriculture Connections   39230.5   64543.0   87177.5   165131.0  \n",
       "Commercial Connections    13309.5   19376.0   32235.0   324781.0  \n",
       "Other Connections          3289.0    4980.0    6652.0    20580.0  "
      ]
     },
     "execution_count": 10,
     "metadata": {},
     "output_type": "execute_result"
    }
   ],
   "source": [
    "#descriptive statistics\n",
    "#NUMERICAL COLUMNS\n",
    "df.describe().T"
   ]
  },
  {
   "cell_type": "code",
   "execution_count": 11,
   "id": "ffe8b20b",
   "metadata": {
    "execution": {
     "iopub.execute_input": "2024-02-29T13:51:38.426243Z",
     "iopub.status.busy": "2024-02-29T13:51:38.425899Z",
     "iopub.status.idle": "2024-02-29T13:51:38.442201Z",
     "shell.execute_reply": "2024-02-29T13:51:38.441116Z"
    },
    "papermill": {
     "duration": 0.031085,
     "end_time": "2024-02-29T13:51:38.444256",
     "exception": false,
     "start_time": "2024-02-29T13:51:38.413171",
     "status": "completed"
    },
    "tags": []
   },
   "outputs": [
    {
     "data": {
      "text/html": [
       "<div>\n",
       "<style scoped>\n",
       "    .dataframe tbody tr th:only-of-type {\n",
       "        vertical-align: middle;\n",
       "    }\n",
       "\n",
       "    .dataframe tbody tr th {\n",
       "        vertical-align: top;\n",
       "    }\n",
       "\n",
       "    .dataframe thead th {\n",
       "        text-align: right;\n",
       "    }\n",
       "</style>\n",
       "<table border=\"1\" class=\"dataframe\">\n",
       "  <thead>\n",
       "    <tr style=\"text-align: right;\">\n",
       "      <th></th>\n",
       "      <th>count</th>\n",
       "      <th>unique</th>\n",
       "      <th>top</th>\n",
       "      <th>freq</th>\n",
       "    </tr>\n",
       "  </thead>\n",
       "  <tbody>\n",
       "    <tr>\n",
       "      <th>Districts</th>\n",
       "      <td>31</td>\n",
       "      <td>31</td>\n",
       "      <td>ADILABAD</td>\n",
       "      <td>1</td>\n",
       "    </tr>\n",
       "  </tbody>\n",
       "</table>\n",
       "</div>"
      ],
      "text/plain": [
       "          count unique       top freq\n",
       "Districts    31     31  ADILABAD    1"
      ]
     },
     "execution_count": 11,
     "metadata": {},
     "output_type": "execute_result"
    }
   ],
   "source": [
    "#Object Columns\n",
    "df.describe(include='object').T"
   ]
  },
  {
   "cell_type": "code",
   "execution_count": 12,
   "id": "99340a25",
   "metadata": {
    "execution": {
     "iopub.execute_input": "2024-02-29T13:51:38.468941Z",
     "iopub.status.busy": "2024-02-29T13:51:38.468575Z",
     "iopub.status.idle": "2024-02-29T13:51:38.476367Z",
     "shell.execute_reply": "2024-02-29T13:51:38.475697Z"
    },
    "papermill": {
     "duration": 0.022732,
     "end_time": "2024-02-29T13:51:38.478506",
     "exception": false,
     "start_time": "2024-02-29T13:51:38.455774",
     "status": "completed"
    },
    "tags": []
   },
   "outputs": [
    {
     "data": {
      "text/plain": [
       "Districts\n",
       "ADILABAD          1\n",
       "NAGARKURNOOL      1\n",
       "WARANGAL (U)      1\n",
       "WARANGAL (R)      1\n",
       "WANAPARTHY        1\n",
       "VIKARABAD         1\n",
       "SURYAPET          1\n",
       "SIDDIPET          1\n",
       "SANGAREDDY        1\n",
       "RANGAREDDY        1\n",
       "RAJANNA           1\n",
       "PEDDAPALLI        1\n",
       "NIZAMABAD         1\n",
       "NIRMAL            1\n",
       "NALGONDA          1\n",
       "MEDCHAL           1\n",
       "BHADRADRI         1\n",
       "MEDAK             1\n",
       "MANCHERIAL        1\n",
       "MAHABUBNAGAR      1\n",
       "MAHABUBABAD       1\n",
       "KOMARAM BHEEM     1\n",
       "KHAMMAM           1\n",
       "KARIMNAGAR        1\n",
       "KAMAREDDY         1\n",
       "JOGULAMBA         1\n",
       "JAYASHANKAR       1\n",
       "JANGAON           1\n",
       "JAGTIAL           1\n",
       "HYDERABAD         1\n",
       "YADADRI           1\n",
       "Name: count, dtype: int64"
      ]
     },
     "execution_count": 12,
     "metadata": {},
     "output_type": "execute_result"
    }
   ],
   "source": [
    "#Method 2\n",
    "#Value counts\n",
    "df['Districts'].value_counts()"
   ]
  },
  {
   "cell_type": "code",
   "execution_count": 13,
   "id": "36f68b81",
   "metadata": {
    "execution": {
     "iopub.execute_input": "2024-02-29T13:51:38.504201Z",
     "iopub.status.busy": "2024-02-29T13:51:38.503849Z",
     "iopub.status.idle": "2024-02-29T13:51:38.511077Z",
     "shell.execute_reply": "2024-02-29T13:51:38.510056Z"
    },
    "papermill": {
     "duration": 0.022835,
     "end_time": "2024-02-29T13:51:38.513278",
     "exception": false,
     "start_time": "2024-02-29T13:51:38.490443",
     "status": "completed"
    },
    "tags": []
   },
   "outputs": [
    {
     "data": {
      "text/plain": [
       "<bound method Series.unique of 0           ADILABAD\n",
       "1          BHADRADRI\n",
       "2          HYDERABAD\n",
       "3           JAGTIAL \n",
       "4           JANGAON \n",
       "5       JAYASHANKAR \n",
       "6         JOGULAMBA \n",
       "7         KAMAREDDY \n",
       "8        KARIMNAGAR \n",
       "9           KHAMMAM \n",
       "10    KOMARAM BHEEM \n",
       "11       MAHABUBABAD\n",
       "12      MAHABUBNAGAR\n",
       "13       MANCHERIAL \n",
       "14            MEDAK \n",
       "15           MEDCHAL\n",
       "16     NAGARKURNOOL \n",
       "17         NALGONDA \n",
       "18           NIRMAL \n",
       "19        NIZAMABAD \n",
       "20       PEDDAPALLI \n",
       "21          RAJANNA \n",
       "22       RANGAREDDY \n",
       "23       SANGAREDDY \n",
       "24         SIDDIPET \n",
       "25         SURYAPET \n",
       "26        VIKARABAD \n",
       "27       WANAPARTHY \n",
       "28     WARANGAL (R) \n",
       "29      WARANGAL (U)\n",
       "30          YADADRI \n",
       "Name: Districts, dtype: object>"
      ]
     },
     "execution_count": 13,
     "metadata": {},
     "output_type": "execute_result"
    }
   ],
   "source": [
    "#Method 3\n",
    "#Unique\n",
    "df['Districts'].unique"
   ]
  },
  {
   "cell_type": "code",
   "execution_count": 14,
   "id": "9c1af0f8",
   "metadata": {
    "execution": {
     "iopub.execute_input": "2024-02-29T13:51:38.538882Z",
     "iopub.status.busy": "2024-02-29T13:51:38.538546Z",
     "iopub.status.idle": "2024-02-29T13:51:38.554673Z",
     "shell.execute_reply": "2024-02-29T13:51:38.553564Z"
    },
    "papermill": {
     "duration": 0.031815,
     "end_time": "2024-02-29T13:51:38.557219",
     "exception": false,
     "start_time": "2024-02-29T13:51:38.525404",
     "status": "completed"
    },
    "tags": []
   },
   "outputs": [
    {
     "name": "stdout",
     "output_type": "stream",
     "text": [
      "<class 'pandas.core.frame.DataFrame'>\n",
      "RangeIndex: 31 entries, 0 to 30\n",
      "Data columns (total 6 columns):\n",
      " #   Column                   Non-Null Count  Dtype \n",
      "---  ------                   --------------  ----- \n",
      " 0   Districts                31 non-null     object\n",
      " 1   Domestic Connections     31 non-null     int64 \n",
      " 2   Industrial Connections   31 non-null     int64 \n",
      " 3   Agriculture Connections  31 non-null     int64 \n",
      " 4   Commercial Connections   31 non-null     int64 \n",
      " 5   Other Connections        31 non-null     int64 \n",
      "dtypes: int64(5), object(1)\n",
      "memory usage: 1.6+ KB\n"
     ]
    }
   ],
   "source": [
    "df.info()"
   ]
  },
  {
   "cell_type": "code",
   "execution_count": 15,
   "id": "41b5dc05",
   "metadata": {
    "execution": {
     "iopub.execute_input": "2024-02-29T13:51:38.583984Z",
     "iopub.status.busy": "2024-02-29T13:51:38.583638Z",
     "iopub.status.idle": "2024-02-29T13:51:38.588100Z",
     "shell.execute_reply": "2024-02-29T13:51:38.587015Z"
    },
    "papermill": {
     "duration": 0.020061,
     "end_time": "2024-02-29T13:51:38.590137",
     "exception": false,
     "start_time": "2024-02-29T13:51:38.570076",
     "status": "completed"
    },
    "tags": []
   },
   "outputs": [],
   "source": [
    "###Univariate Analysis"
   ]
  },
  {
   "cell_type": "code",
   "execution_count": 16,
   "id": "d59b28bb",
   "metadata": {
    "execution": {
     "iopub.execute_input": "2024-02-29T13:51:38.616883Z",
     "iopub.status.busy": "2024-02-29T13:51:38.616181Z",
     "iopub.status.idle": "2024-02-29T13:51:38.621170Z",
     "shell.execute_reply": "2024-02-29T13:51:38.620062Z"
    },
    "papermill": {
     "duration": 0.020806,
     "end_time": "2024-02-29T13:51:38.623292",
     "exception": false,
     "start_time": "2024-02-29T13:51:38.602486",
     "status": "completed"
    },
    "tags": []
   },
   "outputs": [],
   "source": [
    "#Visualizations\n",
    "#Matplotlib\n",
    "import matplotlib.pyplot as plt\n"
   ]
  },
  {
   "cell_type": "code",
   "execution_count": 17,
   "id": "dca3a861",
   "metadata": {
    "execution": {
     "iopub.execute_input": "2024-02-29T13:51:38.649274Z",
     "iopub.status.busy": "2024-02-29T13:51:38.648900Z",
     "iopub.status.idle": "2024-02-29T13:51:38.658179Z",
     "shell.execute_reply": "2024-02-29T13:51:38.657445Z"
    },
    "papermill": {
     "duration": 0.024524,
     "end_time": "2024-02-29T13:51:38.660220",
     "exception": false,
     "start_time": "2024-02-29T13:51:38.635696",
     "status": "completed"
    },
    "tags": []
   },
   "outputs": [
    {
     "data": {
      "text/plain": [
       "Domestic Connections\n",
       "151936     1\n",
       "123314     1\n",
       "366159     1\n",
       "147718     1\n",
       "108511     1\n",
       "178574     1\n",
       "249471     1\n",
       "271284     1\n",
       "224515     1\n",
       "960744     1\n",
       "135896     1\n",
       "206547     1\n",
       "422763     1\n",
       "167496     1\n",
       "363927     1\n",
       "1047202    1\n",
       "272987     1\n",
       "175678     1\n",
       "185999     1\n",
       "257680     1\n",
       "153923     1\n",
       "101064     1\n",
       "397024     1\n",
       "309030     1\n",
       "210720     1\n",
       "92452      1\n",
       "144768     1\n",
       "148566     1\n",
       "267097     1\n",
       "1469633    1\n",
       "191627     1\n",
       "Name: count, dtype: int64"
      ]
     },
     "execution_count": 17,
     "metadata": {},
     "output_type": "execute_result"
    }
   ],
   "source": [
    "df['Domestic Connections'].value_counts()"
   ]
  },
  {
   "cell_type": "code",
   "execution_count": 18,
   "id": "4dfc46e0",
   "metadata": {
    "execution": {
     "iopub.execute_input": "2024-02-29T13:51:38.686216Z",
     "iopub.status.busy": "2024-02-29T13:51:38.685877Z",
     "iopub.status.idle": "2024-02-29T13:51:39.134165Z",
     "shell.execute_reply": "2024-02-29T13:51:39.133267Z"
    },
    "papermill": {
     "duration": 0.46406,
     "end_time": "2024-02-29T13:51:39.136509",
     "exception": false,
     "start_time": "2024-02-29T13:51:38.672449",
     "status": "completed"
    },
    "tags": []
   },
   "outputs": [
    {
     "data": {
      "text/plain": [
       "<function matplotlib.pyplot.show(close=None, block=None)>"
      ]
     },
     "execution_count": 18,
     "metadata": {},
     "output_type": "execute_result"
    },
    {
     "data": {
      "image/png": "[encoded data removed]",
      "text/plain": [
       "<Figure size 1500x700 with 1 Axes>"
      ]
     },
     "metadata": {},
     "output_type": "display_data"
    }
   ],
   "source": [
    "plt.figure(figsize=(15,7))\n",
    "df['Domestic Connections'].hist()\n",
    "plt.xlabel('Domestic Connections')\n",
    "plt.ylabel('Frequency')\n",
    "plt.title('A Plot Showing Domestic Connections')\n",
    "plt.show"
   ]
  },
  {
   "cell_type": "code",
   "execution_count": 19,
   "id": "e018c847",
   "metadata": {
    "execution": {
     "iopub.execute_input": "2024-02-29T13:51:39.165017Z",
     "iopub.status.busy": "2024-02-29T13:51:39.164632Z",
     "iopub.status.idle": "2024-02-29T13:51:39.176965Z",
     "shell.execute_reply": "2024-02-29T13:51:39.175858Z"
    },
    "papermill": {
     "duration": 0.029033,
     "end_time": "2024-02-29T13:51:39.179218",
     "exception": false,
     "start_time": "2024-02-29T13:51:39.150185",
     "status": "completed"
    },
    "tags": []
   },
   "outputs": [
    {
     "data": {
      "text/html": [
       "<div>\n",
       "<style scoped>\n",
       "    .dataframe tbody tr th:only-of-type {\n",
       "        vertical-align: middle;\n",
       "    }\n",
       "\n",
       "    .dataframe tbody tr th {\n",
       "        vertical-align: top;\n",
       "    }\n",
       "\n",
       "    .dataframe thead th {\n",
       "        text-align: right;\n",
       "    }\n",
       "</style>\n",
       "<table border=\"1\" class=\"dataframe\">\n",
       "  <thead>\n",
       "    <tr style=\"text-align: right;\">\n",
       "      <th></th>\n",
       "      <th>Districts</th>\n",
       "      <th>Domestic Connections</th>\n",
       "      <th>Industrial Connections</th>\n",
       "      <th>Agriculture Connections</th>\n",
       "      <th>Commercial Connections</th>\n",
       "      <th>Other Connections</th>\n",
       "    </tr>\n",
       "  </thead>\n",
       "  <tbody>\n",
       "    <tr>\n",
       "      <th>0</th>\n",
       "      <td>ADILABAD</td>\n",
       "      <td>151936</td>\n",
       "      <td>1074</td>\n",
       "      <td>17948</td>\n",
       "      <td>14641</td>\n",
       "      <td>3302</td>\n",
       "    </tr>\n",
       "    <tr>\n",
       "      <th>1</th>\n",
       "      <td>BHADRADRI</td>\n",
       "      <td>272987</td>\n",
       "      <td>1396</td>\n",
       "      <td>29951</td>\n",
       "      <td>25990</td>\n",
       "      <td>5911</td>\n",
       "    </tr>\n",
       "    <tr>\n",
       "      <th>2</th>\n",
       "      <td>HYDERABAD</td>\n",
       "      <td>1469633</td>\n",
       "      <td>13041</td>\n",
       "      <td>86</td>\n",
       "      <td>324781</td>\n",
       "      <td>18987</td>\n",
       "    </tr>\n",
       "    <tr>\n",
       "      <th>3</th>\n",
       "      <td>JAGTIAL</td>\n",
       "      <td>267097</td>\n",
       "      <td>2132</td>\n",
       "      <td>113165</td>\n",
       "      <td>23109</td>\n",
       "      <td>6499</td>\n",
       "    </tr>\n",
       "    <tr>\n",
       "      <th>4</th>\n",
       "      <td>JANGAON</td>\n",
       "      <td>148566</td>\n",
       "      <td>1536</td>\n",
       "      <td>80002</td>\n",
       "      <td>11366</td>\n",
       "      <td>4432</td>\n",
       "    </tr>\n",
       "  </tbody>\n",
       "</table>\n",
       "</div>"
      ],
      "text/plain": [
       "   Districts  Domestic Connections  Industrial Connections  \\\n",
       "0   ADILABAD                151936                    1074   \n",
       "1  BHADRADRI                272987                    1396   \n",
       "2  HYDERABAD               1469633                   13041   \n",
       "3   JAGTIAL                 267097                    2132   \n",
       "4   JANGAON                 148566                    1536   \n",
       "\n",
       "   Agriculture Connections  Commercial Connections  Other Connections  \n",
       "0                    17948                   14641               3302  \n",
       "1                    29951                   25990               5911  \n",
       "2                       86                  324781              18987  \n",
       "3                   113165                   23109               6499  \n",
       "4                    80002                   11366               4432  "
      ]
     },
     "execution_count": 19,
     "metadata": {},
     "output_type": "execute_result"
    }
   ],
   "source": [
    "df.head()"
   ]
  },
  {
   "cell_type": "code",
   "execution_count": 20,
   "id": "7c9ac696",
   "metadata": {
    "execution": {
     "iopub.execute_input": "2024-02-29T13:51:39.207774Z",
     "iopub.status.busy": "2024-02-29T13:51:39.207394Z",
     "iopub.status.idle": "2024-02-29T13:51:39.798986Z",
     "shell.execute_reply": "2024-02-29T13:51:39.798113Z"
    },
    "papermill": {
     "duration": 0.60859,
     "end_time": "2024-02-29T13:51:39.801253",
     "exception": false,
     "start_time": "2024-02-29T13:51:39.192663",
     "status": "completed"
    },
    "tags": []
   },
   "outputs": [
    {
     "data": {
      "text/plain": [
       "<function matplotlib.pyplot.show(close=None, block=None)>"
      ]
     },
     "execution_count": 20,
     "metadata": {},
     "output_type": "execute_result"
    },
    {
     "data": {
      "image/png": "[encoded data removed]",
      "text/plain": [
       "<Figure size 1500x700 with 1 Axes>"
      ]
     },
     "metadata": {},
     "output_type": "display_data"
    }
   ],
   "source": [
    "plt.figure(figsize=(15,7))\n",
    "df['Agriculture Connections'].plot(kind='bar')\n",
    "plt.title('Bar Plot Showing Agricultural Connections')\n",
    "plt.xlabel('Agricultural Connections')\n",
    "plt.ylabel('Frequency')\n",
    "plt.show"
   ]
  },
  {
   "cell_type": "code",
   "execution_count": 21,
   "id": "c1ed9fda",
   "metadata": {
    "execution": {
     "iopub.execute_input": "2024-02-29T13:51:39.834774Z",
     "iopub.status.busy": "2024-02-29T13:51:39.834317Z",
     "iopub.status.idle": "2024-02-29T13:51:39.846337Z",
     "shell.execute_reply": "2024-02-29T13:51:39.845240Z"
    },
    "papermill": {
     "duration": 0.031716,
     "end_time": "2024-02-29T13:51:39.848443",
     "exception": false,
     "start_time": "2024-02-29T13:51:39.816727",
     "status": "completed"
    },
    "tags": []
   },
   "outputs": [
    {
     "data": {
      "text/html": [
       "<div>\n",
       "<style scoped>\n",
       "    .dataframe tbody tr th:only-of-type {\n",
       "        vertical-align: middle;\n",
       "    }\n",
       "\n",
       "    .dataframe tbody tr th {\n",
       "        vertical-align: top;\n",
       "    }\n",
       "\n",
       "    .dataframe thead th {\n",
       "        text-align: right;\n",
       "    }\n",
       "</style>\n",
       "<table border=\"1\" class=\"dataframe\">\n",
       "  <thead>\n",
       "    <tr style=\"text-align: right;\">\n",
       "      <th></th>\n",
       "      <th>Districts</th>\n",
       "      <th>Domestic Connections</th>\n",
       "      <th>Industrial Connections</th>\n",
       "      <th>Agriculture Connections</th>\n",
       "      <th>Commercial Connections</th>\n",
       "      <th>Other Connections</th>\n",
       "    </tr>\n",
       "  </thead>\n",
       "  <tbody>\n",
       "    <tr>\n",
       "      <th>0</th>\n",
       "      <td>ADILABAD</td>\n",
       "      <td>151936</td>\n",
       "      <td>1074</td>\n",
       "      <td>17948</td>\n",
       "      <td>14641</td>\n",
       "      <td>3302</td>\n",
       "    </tr>\n",
       "    <tr>\n",
       "      <th>1</th>\n",
       "      <td>BHADRADRI</td>\n",
       "      <td>272987</td>\n",
       "      <td>1396</td>\n",
       "      <td>29951</td>\n",
       "      <td>25990</td>\n",
       "      <td>5911</td>\n",
       "    </tr>\n",
       "    <tr>\n",
       "      <th>2</th>\n",
       "      <td>HYDERABAD</td>\n",
       "      <td>1469633</td>\n",
       "      <td>13041</td>\n",
       "      <td>86</td>\n",
       "      <td>324781</td>\n",
       "      <td>18987</td>\n",
       "    </tr>\n",
       "    <tr>\n",
       "      <th>3</th>\n",
       "      <td>JAGTIAL</td>\n",
       "      <td>267097</td>\n",
       "      <td>2132</td>\n",
       "      <td>113165</td>\n",
       "      <td>23109</td>\n",
       "      <td>6499</td>\n",
       "    </tr>\n",
       "    <tr>\n",
       "      <th>4</th>\n",
       "      <td>JANGAON</td>\n",
       "      <td>148566</td>\n",
       "      <td>1536</td>\n",
       "      <td>80002</td>\n",
       "      <td>11366</td>\n",
       "      <td>4432</td>\n",
       "    </tr>\n",
       "  </tbody>\n",
       "</table>\n",
       "</div>"
      ],
      "text/plain": [
       "   Districts  Domestic Connections  Industrial Connections  \\\n",
       "0   ADILABAD                151936                    1074   \n",
       "1  BHADRADRI                272987                    1396   \n",
       "2  HYDERABAD               1469633                   13041   \n",
       "3   JAGTIAL                 267097                    2132   \n",
       "4   JANGAON                 148566                    1536   \n",
       "\n",
       "   Agriculture Connections  Commercial Connections  Other Connections  \n",
       "0                    17948                   14641               3302  \n",
       "1                    29951                   25990               5911  \n",
       "2                       86                  324781              18987  \n",
       "3                   113165                   23109               6499  \n",
       "4                    80002                   11366               4432  "
      ]
     },
     "execution_count": 21,
     "metadata": {},
     "output_type": "execute_result"
    }
   ],
   "source": [
    "df.head()"
   ]
  },
  {
   "cell_type": "code",
   "execution_count": 22,
   "id": "d7462485",
   "metadata": {
    "execution": {
     "iopub.execute_input": "2024-02-29T13:51:39.879950Z",
     "iopub.status.busy": "2024-02-29T13:51:39.879560Z",
     "iopub.status.idle": "2024-02-29T13:51:40.407338Z",
     "shell.execute_reply": "2024-02-29T13:51:40.406606Z"
    },
    "papermill": {
     "duration": 0.546083,
     "end_time": "2024-02-29T13:51:40.409425",
     "exception": false,
     "start_time": "2024-02-29T13:51:39.863342",
     "status": "completed"
    },
    "tags": []
   },
   "outputs": [
    {
     "data": {
      "text/plain": [
       "<function matplotlib.pyplot.show(close=None, block=None)>"
      ]
     },
     "execution_count": 22,
     "metadata": {},
     "output_type": "execute_result"
    },
    {
     "data": {
      "image/png": "[encoded data removed]",
      "text/plain": [
       "<Figure size 1000x500 with 1 Axes>"
      ]
     },
     "metadata": {},
     "output_type": "display_data"
    }
   ],
   "source": [
    "plt.figure(figsize=(10,5))\n",
    "df['Commercial Connections'].plot(kind='bar')\n",
    "plt.xlabel('Commercial Connections')\n",
    "plt.ylabel('Frequency')\n",
    "plt.xticks(rotation=45)\n",
    "plt.title('Bar Plot Showing Commercial Connections')\n",
    "plt.show"
   ]
  },
  {
   "cell_type": "code",
   "execution_count": 23,
   "id": "e2bc2f17",
   "metadata": {
    "execution": {
     "iopub.execute_input": "2024-02-29T13:51:40.442363Z",
     "iopub.status.busy": "2024-02-29T13:51:40.441446Z",
     "iopub.status.idle": "2024-02-29T13:51:40.452927Z",
     "shell.execute_reply": "2024-02-29T13:51:40.451981Z"
    },
    "papermill": {
     "duration": 0.030929,
     "end_time": "2024-02-29T13:51:40.455277",
     "exception": false,
     "start_time": "2024-02-29T13:51:40.424348",
     "status": "completed"
    },
    "tags": []
   },
   "outputs": [
    {
     "data": {
      "text/html": [
       "<div>\n",
       "<style scoped>\n",
       "    .dataframe tbody tr th:only-of-type {\n",
       "        vertical-align: middle;\n",
       "    }\n",
       "\n",
       "    .dataframe tbody tr th {\n",
       "        vertical-align: top;\n",
       "    }\n",
       "\n",
       "    .dataframe thead th {\n",
       "        text-align: right;\n",
       "    }\n",
       "</style>\n",
       "<table border=\"1\" class=\"dataframe\">\n",
       "  <thead>\n",
       "    <tr style=\"text-align: right;\">\n",
       "      <th></th>\n",
       "      <th>Districts</th>\n",
       "      <th>Domestic Connections</th>\n",
       "      <th>Industrial Connections</th>\n",
       "      <th>Agriculture Connections</th>\n",
       "      <th>Commercial Connections</th>\n",
       "      <th>Other Connections</th>\n",
       "    </tr>\n",
       "  </thead>\n",
       "  <tbody>\n",
       "    <tr>\n",
       "      <th>0</th>\n",
       "      <td>ADILABAD</td>\n",
       "      <td>151936</td>\n",
       "      <td>1074</td>\n",
       "      <td>17948</td>\n",
       "      <td>14641</td>\n",
       "      <td>3302</td>\n",
       "    </tr>\n",
       "    <tr>\n",
       "      <th>1</th>\n",
       "      <td>BHADRADRI</td>\n",
       "      <td>272987</td>\n",
       "      <td>1396</td>\n",
       "      <td>29951</td>\n",
       "      <td>25990</td>\n",
       "      <td>5911</td>\n",
       "    </tr>\n",
       "    <tr>\n",
       "      <th>2</th>\n",
       "      <td>HYDERABAD</td>\n",
       "      <td>1469633</td>\n",
       "      <td>13041</td>\n",
       "      <td>86</td>\n",
       "      <td>324781</td>\n",
       "      <td>18987</td>\n",
       "    </tr>\n",
       "    <tr>\n",
       "      <th>3</th>\n",
       "      <td>JAGTIAL</td>\n",
       "      <td>267097</td>\n",
       "      <td>2132</td>\n",
       "      <td>113165</td>\n",
       "      <td>23109</td>\n",
       "      <td>6499</td>\n",
       "    </tr>\n",
       "    <tr>\n",
       "      <th>4</th>\n",
       "      <td>JANGAON</td>\n",
       "      <td>148566</td>\n",
       "      <td>1536</td>\n",
       "      <td>80002</td>\n",
       "      <td>11366</td>\n",
       "      <td>4432</td>\n",
       "    </tr>\n",
       "  </tbody>\n",
       "</table>\n",
       "</div>"
      ],
      "text/plain": [
       "   Districts  Domestic Connections  Industrial Connections  \\\n",
       "0   ADILABAD                151936                    1074   \n",
       "1  BHADRADRI                272987                    1396   \n",
       "2  HYDERABAD               1469633                   13041   \n",
       "3   JAGTIAL                 267097                    2132   \n",
       "4   JANGAON                 148566                    1536   \n",
       "\n",
       "   Agriculture Connections  Commercial Connections  Other Connections  \n",
       "0                    17948                   14641               3302  \n",
       "1                    29951                   25990               5911  \n",
       "2                       86                  324781              18987  \n",
       "3                   113165                   23109               6499  \n",
       "4                    80002                   11366               4432  "
      ]
     },
     "execution_count": 23,
     "metadata": {},
     "output_type": "execute_result"
    }
   ],
   "source": [
    "df.head()"
   ]
  },
  {
   "cell_type": "code",
   "execution_count": 24,
   "id": "78bd43d7",
   "metadata": {
    "execution": {
     "iopub.execute_input": "2024-02-29T13:51:40.487744Z",
     "iopub.status.busy": "2024-02-29T13:51:40.487383Z",
     "iopub.status.idle": "2024-02-29T13:51:41.862984Z",
     "shell.execute_reply": "2024-02-29T13:51:41.862064Z"
    },
    "papermill": {
     "duration": 1.394674,
     "end_time": "2024-02-29T13:51:41.865431",
     "exception": false,
     "start_time": "2024-02-29T13:51:40.470757",
     "status": "completed"
    },
    "tags": []
   },
   "outputs": [],
   "source": [
    "import seaborn as sns"
   ]
  },
  {
   "cell_type": "code",
   "execution_count": 25,
   "id": "a7940467",
   "metadata": {
    "execution": {
     "iopub.execute_input": "2024-02-29T13:51:41.898015Z",
     "iopub.status.busy": "2024-02-29T13:51:41.897507Z",
     "iopub.status.idle": "2024-02-29T13:51:42.433135Z",
     "shell.execute_reply": "2024-02-29T13:51:42.432095Z"
    },
    "papermill": {
     "duration": 0.554783,
     "end_time": "2024-02-29T13:51:42.435663",
     "exception": false,
     "start_time": "2024-02-29T13:51:41.880880",
     "status": "completed"
    },
    "tags": []
   },
   "outputs": [
    {
     "name": "stderr",
     "output_type": "stream",
     "text": [
      "/opt/conda/lib/python3.10/site-packages/seaborn/_oldcore.py:1119: FutureWarning: use_inf_as_na option is deprecated and will be removed in a future version. Convert inf values to NaN before operating instead.\n",
      "  with pd.option_context('mode.use_inf_as_na', True):\n",
      "/opt/conda/lib/python3.10/site-packages/seaborn/_oldcore.py:1119: FutureWarning: use_inf_as_na option is deprecated and will be removed in a future version. Convert inf values to NaN before operating instead.\n",
      "  with pd.option_context('mode.use_inf_as_na', True):\n",
      "/opt/conda/lib/python3.10/site-packages/seaborn/_oldcore.py:1075: FutureWarning: When grouping with a length-1 list-like, you will need to pass a length-1 tuple to get_group in a future version of pandas. Pass `(name,)` instead of `name` to silence this warning.\n",
      "  data_subset = grouped_data.get_group(pd_key)\n"
     ]
    },
    {
     "data": {
      "text/plain": [
       "<function matplotlib.pyplot.show(close=None, block=None)>"
      ]
     },
     "execution_count": 25,
     "metadata": {},
     "output_type": "execute_result"
    },
    {
     "data": {
      "image/png": "[encoded data removed]",
      "text/plain": [
       "<Figure size 500x500 with 1 Axes>"
      ]
     },
     "metadata": {},
     "output_type": "display_data"
    }
   ],
   "source": [
    "sns.catplot(df['Districts'])\n",
    "plt.show"
   ]
  },
  {
   "cell_type": "code",
   "execution_count": 26,
   "id": "94e743c9",
   "metadata": {
    "execution": {
     "iopub.execute_input": "2024-02-29T13:51:42.470055Z",
     "iopub.status.busy": "2024-02-29T13:51:42.468935Z",
     "iopub.status.idle": "2024-02-29T13:51:42.884349Z",
     "shell.execute_reply": "2024-02-29T13:51:42.883395Z"
    },
    "papermill": {
     "duration": 0.437246,
     "end_time": "2024-02-29T13:51:42.888741",
     "exception": false,
     "start_time": "2024-02-29T13:51:42.451495",
     "status": "completed"
    },
    "tags": []
   },
   "outputs": [
    {
     "name": "stderr",
     "output_type": "stream",
     "text": [
      "/opt/conda/lib/python3.10/site-packages/seaborn/_oldcore.py:1119: FutureWarning: use_inf_as_na option is deprecated and will be removed in a future version. Convert inf values to NaN before operating instead.\n",
      "  with pd.option_context('mode.use_inf_as_na', True):\n",
      "/opt/conda/lib/python3.10/site-packages/seaborn/_oldcore.py:1119: FutureWarning: use_inf_as_na option is deprecated and will be removed in a future version. Convert inf values to NaN before operating instead.\n",
      "  with pd.option_context('mode.use_inf_as_na', True):\n",
      "/opt/conda/lib/python3.10/site-packages/seaborn/_oldcore.py:1075: FutureWarning: When grouping with a length-1 list-like, you will need to pass a length-1 tuple to get_group in a future version of pandas. Pass `(name,)` instead of `name` to silence this warning.\n",
      "  data_subset = grouped_data.get_group(pd_key)\n"
     ]
    },
    {
     "data": {
      "text/plain": [
       "<function matplotlib.pyplot.show(close=None, block=None)>"
      ]
     },
     "execution_count": 26,
     "metadata": {},
     "output_type": "execute_result"
    },
    {
     "data": {
      "image/png": "[encoded data removed]",
      "text/plain": [
       "<Figure size 640x480 with 1 Axes>"
      ]
     },
     "metadata": {},
     "output_type": "display_data"
    }
   ],
   "source": [
    "sns.stripplot(df,x= 'Districts')\n",
    "plt.xticks(rotation=90)\n",
    "plt.show"
   ]
  },
  {
   "cell_type": "code",
   "execution_count": 27,
   "id": "4aff3d8f",
   "metadata": {
    "execution": {
     "iopub.execute_input": "2024-02-29T13:51:42.928155Z",
     "iopub.status.busy": "2024-02-29T13:51:42.927550Z",
     "iopub.status.idle": "2024-02-29T13:51:43.511052Z",
     "shell.execute_reply": "2024-02-29T13:51:43.510003Z"
    },
    "papermill": {
     "duration": 0.605547,
     "end_time": "2024-02-29T13:51:43.513799",
     "exception": false,
     "start_time": "2024-02-29T13:51:42.908252",
     "status": "completed"
    },
    "tags": []
   },
   "outputs": [
    {
     "name": "stderr",
     "output_type": "stream",
     "text": [
      "/opt/conda/lib/python3.10/site-packages/seaborn/_oldcore.py:1119: FutureWarning: use_inf_as_na option is deprecated and will be removed in a future version. Convert inf values to NaN before operating instead.\n",
      "  with pd.option_context('mode.use_inf_as_na', True):\n",
      "/opt/conda/lib/python3.10/site-packages/seaborn/_oldcore.py:1119: FutureWarning: use_inf_as_na option is deprecated and will be removed in a future version. Convert inf values to NaN before operating instead.\n",
      "  with pd.option_context('mode.use_inf_as_na', True):\n",
      "/opt/conda/lib/python3.10/site-packages/seaborn/_oldcore.py:1075: FutureWarning: When grouping with a length-1 list-like, you will need to pass a length-1 tuple to get_group in a future version of pandas. Pass `(name,)` instead of `name` to silence this warning.\n",
      "  data_subset = grouped_data.get_group(pd_key)\n"
     ]
    },
    {
     "data": {
      "text/plain": [
       "<function matplotlib.pyplot.show(close=None, block=None)>"
      ]
     },
     "execution_count": 27,
     "metadata": {},
     "output_type": "execute_result"
    },
    {
     "data": {
      "image/png": "[encoded data removed]",
      "text/plain": [
       "<Figure size 500x500 with 1 Axes>"
      ]
     },
     "metadata": {},
     "output_type": "display_data"
    }
   ],
   "source": [
    "sns.catplot(df,x='Districts')\n",
    "plt.xlabel('Districts')\n",
    "plt.ylabel('Frequency')\n",
    "plt.title('Districts Distribution')\n",
    "plt.xticks(rotation=90)\n",
    "plt.show"
   ]
  },
  {
   "cell_type": "code",
   "execution_count": 28,
   "id": "37d1588c",
   "metadata": {
    "execution": {
     "iopub.execute_input": "2024-02-29T13:51:43.551885Z",
     "iopub.status.busy": "2024-02-29T13:51:43.551456Z",
     "iopub.status.idle": "2024-02-29T13:51:43.563880Z",
     "shell.execute_reply": "2024-02-29T13:51:43.562781Z"
    },
    "papermill": {
     "duration": 0.033692,
     "end_time": "2024-02-29T13:51:43.566023",
     "exception": false,
     "start_time": "2024-02-29T13:51:43.532331",
     "status": "completed"
    },
    "tags": []
   },
   "outputs": [
    {
     "data": {
      "text/html": [
       "<div>\n",
       "<style scoped>\n",
       "    .dataframe tbody tr th:only-of-type {\n",
       "        vertical-align: middle;\n",
       "    }\n",
       "\n",
       "    .dataframe tbody tr th {\n",
       "        vertical-align: top;\n",
       "    }\n",
       "\n",
       "    .dataframe thead th {\n",
       "        text-align: right;\n",
       "    }\n",
       "</style>\n",
       "<table border=\"1\" class=\"dataframe\">\n",
       "  <thead>\n",
       "    <tr style=\"text-align: right;\">\n",
       "      <th></th>\n",
       "      <th>Districts</th>\n",
       "      <th>Domestic Connections</th>\n",
       "      <th>Industrial Connections</th>\n",
       "      <th>Agriculture Connections</th>\n",
       "      <th>Commercial Connections</th>\n",
       "      <th>Other Connections</th>\n",
       "    </tr>\n",
       "  </thead>\n",
       "  <tbody>\n",
       "    <tr>\n",
       "      <th>0</th>\n",
       "      <td>ADILABAD</td>\n",
       "      <td>151936</td>\n",
       "      <td>1074</td>\n",
       "      <td>17948</td>\n",
       "      <td>14641</td>\n",
       "      <td>3302</td>\n",
       "    </tr>\n",
       "    <tr>\n",
       "      <th>1</th>\n",
       "      <td>BHADRADRI</td>\n",
       "      <td>272987</td>\n",
       "      <td>1396</td>\n",
       "      <td>29951</td>\n",
       "      <td>25990</td>\n",
       "      <td>5911</td>\n",
       "    </tr>\n",
       "    <tr>\n",
       "      <th>2</th>\n",
       "      <td>HYDERABAD</td>\n",
       "      <td>1469633</td>\n",
       "      <td>13041</td>\n",
       "      <td>86</td>\n",
       "      <td>324781</td>\n",
       "      <td>18987</td>\n",
       "    </tr>\n",
       "    <tr>\n",
       "      <th>3</th>\n",
       "      <td>JAGTIAL</td>\n",
       "      <td>267097</td>\n",
       "      <td>2132</td>\n",
       "      <td>113165</td>\n",
       "      <td>23109</td>\n",
       "      <td>6499</td>\n",
       "    </tr>\n",
       "    <tr>\n",
       "      <th>4</th>\n",
       "      <td>JANGAON</td>\n",
       "      <td>148566</td>\n",
       "      <td>1536</td>\n",
       "      <td>80002</td>\n",
       "      <td>11366</td>\n",
       "      <td>4432</td>\n",
       "    </tr>\n",
       "  </tbody>\n",
       "</table>\n",
       "</div>"
      ],
      "text/plain": [
       "   Districts  Domestic Connections  Industrial Connections  \\\n",
       "0   ADILABAD                151936                    1074   \n",
       "1  BHADRADRI                272987                    1396   \n",
       "2  HYDERABAD               1469633                   13041   \n",
       "3   JAGTIAL                 267097                    2132   \n",
       "4   JANGAON                 148566                    1536   \n",
       "\n",
       "   Agriculture Connections  Commercial Connections  Other Connections  \n",
       "0                    17948                   14641               3302  \n",
       "1                    29951                   25990               5911  \n",
       "2                       86                  324781              18987  \n",
       "3                   113165                   23109               6499  \n",
       "4                    80002                   11366               4432  "
      ]
     },
     "execution_count": 28,
     "metadata": {},
     "output_type": "execute_result"
    }
   ],
   "source": [
    "df.head()"
   ]
  },
  {
   "cell_type": "code",
   "execution_count": 29,
   "id": "22b7b6d0",
   "metadata": {
    "execution": {
     "iopub.execute_input": "2024-02-29T13:51:43.606597Z",
     "iopub.status.busy": "2024-02-29T13:51:43.606159Z",
     "iopub.status.idle": "2024-02-29T13:51:43.772713Z",
     "shell.execute_reply": "2024-02-29T13:51:43.771655Z"
    },
    "papermill": {
     "duration": 0.190121,
     "end_time": "2024-02-29T13:51:43.775254",
     "exception": false,
     "start_time": "2024-02-29T13:51:43.585133",
     "status": "completed"
    },
    "tags": []
   },
   "outputs": [
    {
     "data": {
      "text/plain": [
       "<function matplotlib.pyplot.show(close=None, block=None)>"
      ]
     },
     "execution_count": 29,
     "metadata": {},
     "output_type": "execute_result"
    },
    {
     "data": {
      "image/png": "[encoded data removed]",
      "text/plain": [
       "<Figure size 640x480 with 1 Axes>"
      ]
     },
     "metadata": {},
     "output_type": "display_data"
    }
   ],
   "source": [
    "sns.boxplot(df,x='Domestic Connections')\n",
    "plt.show"
   ]
  },
  {
   "cell_type": "code",
   "execution_count": 30,
   "id": "1cc4407d",
   "metadata": {
    "execution": {
     "iopub.execute_input": "2024-02-29T13:51:43.817453Z",
     "iopub.status.busy": "2024-02-29T13:51:43.816699Z",
     "iopub.status.idle": "2024-02-29T13:51:44.045565Z",
     "shell.execute_reply": "2024-02-29T13:51:44.044345Z"
    },
    "papermill": {
     "duration": 0.252435,
     "end_time": "2024-02-29T13:51:44.047732",
     "exception": false,
     "start_time": "2024-02-29T13:51:43.795297",
     "status": "completed"
    },
    "tags": []
   },
   "outputs": [
    {
     "data": {
      "text/plain": [
       "<function matplotlib.pyplot.show(close=None, block=None)>"
      ]
     },
     "execution_count": 30,
     "metadata": {},
     "output_type": "execute_result"
    },
    {
     "data": {
      "image/png": "[encoded data removed]",
      "text/plain": [
       "<Figure size 640x480 with 1 Axes>"
      ]
     },
     "metadata": {},
     "output_type": "display_data"
    }
   ],
   "source": [
    "sns.boxplot(df,y='Agriculture Connections')\n",
    "plt.show"
   ]
  }
 ],
 "metadata": {
  "kaggle": {
   "accelerator": "none",
   "dataSources": [
    {
     "datasetId": 4513698,
     "sourceId": 7725947,
     "sourceType": "datasetVersion"
    }
   ],
   "dockerImageVersionId": 30664,
   "isGpuEnabled": false,
   "isInternetEnabled": true,
   "language": "python",
   "sourceType": "notebook"
  },
  "kernelspec": {
   "display_name": "Python 3",
   "language": "python",
   "name": "python3"
  },
  "language_info": {
   "codemirror_mode": {
    "name": "ipython",
    "version": 3
   },
   "file_extension": ".py",
   "mimetype": "text/x-python",
   "name": "python",
   "nbconvert_exporter": "python",
   "pygments_lexer": "ipython3",
   "version": "3.10.13"
  },
  "papermill": {
   "default_parameters": {},
   "duration": 10.181126,
   "end_time": "2024-02-29T13:51:44.588015",
   "environment_variables": {},
   "exception": null,
   "input_path": "__notebook__.ipynb",
   "output_path": "__notebook__.ipynb",
   "parameters": {},
   "start_time": "2024-02-29T13:51:34.406889",
   "version": "2.5.0"
  }
 },
 "nbformat": 4,
 "nbformat_minor": 5
}
