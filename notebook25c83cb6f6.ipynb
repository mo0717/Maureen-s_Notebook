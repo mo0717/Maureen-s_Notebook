{
 "cells": [
  {
   "cell_type": "code",
   "execution_count": 1,
   "id": "361fd122",
   "metadata": {
    "_cell_guid": "b1076dfc-b9ad-4769-8c92-a6c4dae69d19",
    "_uuid": "8f2839f25d086af736a60e9eeb907d3b93b6e0e5",
    "execution": {
     "iopub.execute_input": "2024-03-11T13:12:43.166275Z",
     "iopub.status.busy": "2024-03-11T13:12:43.165822Z",
     "iopub.status.idle": "2024-03-11T13:12:44.558168Z",
     "shell.execute_reply": "2024-03-11T13:12:44.556783Z"
    },
    "papermill": {
     "duration": 1.403531,
     "end_time": "2024-03-11T13:12:44.561164",
     "exception": false,
     "start_time": "2024-03-11T13:12:43.157633",
     "status": "completed"
    },
    "tags": []
   },
   "outputs": [],
   "source": [
    "# This Python 3 environment comes with many helpful analytics libraries installed\n",
    "# It is defined by the kaggle/python Docker image: https://github.com/kaggle/docker-python\n",
    "# For example, here's several helpful packages to load\n",
    "\n",
    "import numpy as np # linear algebra\n",
    "import pandas as pd # data processing, CSV file I/O (e.g. pd.read_csv)\n",
    "import requests\n",
    "from bs4 import BeautifulSoup\n",
    "from urllib import request\n",
    "from PIL import Image\n",
    "import matplotlib.pyplot as plt\n",
    "from io import BytesIO\n",
    "\n",
    "# Input data files are available in the read-only \"../input/\" directory\n",
    "# For example, running this (by clicking run or pressing Shift+Enter) will list all files under the input directory\n",
    "\n",
    "import os\n",
    "for dirname, _, filenames in os.walk('/kaggle/input'):\n",
    "    for filename in filenames:\n",
    "        print(os.path.join(dirname, filename))\n",
    "\n",
    "# You can write up to 20GB to the current directory (/kaggle/working/) that gets preserved as output when you create a version using \"Save & Run All\" \n",
    "# You can also write temporary files to /kaggle/temp/, but they won't be saved outside of the current session"
   ]
  },
  {
   "cell_type": "code",
   "execution_count": 2,
   "id": "00abad16",
   "metadata": {
    "execution": {
     "iopub.execute_input": "2024-03-11T13:12:44.575594Z",
     "iopub.status.busy": "2024-03-11T13:12:44.575007Z",
     "iopub.status.idle": "2024-03-11T13:12:45.266604Z",
     "shell.execute_reply": "2024-03-11T13:12:45.265224Z"
    },
    "papermill": {
     "duration": 0.701729,
     "end_time": "2024-03-11T13:12:45.269322",
     "exception": false,
     "start_time": "2024-03-11T13:12:44.567593",
     "status": "completed"
    },
    "tags": []
   },
   "outputs": [],
   "source": [
    "url = \"https://www.jumia.co.ke/all-products/\"\n",
    "requests = requests.get(url)\n",
    "## Parsing the html soup\n",
    "soup = BeautifulSoup(requests.text,\"html.parser\")\n",
    "items = soup.find_all(\"article\", attrs = {\"class\":\"prd _fb col c-prd\"})"
   ]
  },
  {
   "cell_type": "code",
   "execution_count": 3,
   "id": "75228a77",
   "metadata": {
    "execution": {
     "iopub.execute_input": "2024-03-11T13:12:45.282706Z",
     "iopub.status.busy": "2024-03-11T13:12:45.282304Z",
     "iopub.status.idle": "2024-03-11T13:12:45.287661Z",
     "shell.execute_reply": "2024-03-11T13:12:45.286598Z"
    },
    "papermill": {
     "duration": 0.015682,
     "end_time": "2024-03-11T13:12:45.291086",
     "exception": false,
     "start_time": "2024-03-11T13:12:45.275404",
     "status": "completed"
    },
    "tags": []
   },
   "outputs": [
    {
     "name": "stdout",
     "output_type": "stream",
     "text": [
      "40\n"
     ]
    }
   ],
   "source": [
    "print(len(items))"
   ]
  },
  {
   "cell_type": "code",
   "execution_count": 4,
   "id": "fb908e50",
   "metadata": {
    "execution": {
     "iopub.execute_input": "2024-03-11T13:12:45.304927Z",
     "iopub.status.busy": "2024-03-11T13:12:45.304520Z",
     "iopub.status.idle": "2024-03-11T13:12:45.311365Z",
     "shell.execute_reply": "2024-03-11T13:12:45.310039Z"
    },
    "papermill": {
     "duration": 0.017388,
     "end_time": "2024-03-11T13:12:45.314602",
     "exception": false,
     "start_time": "2024-03-11T13:12:45.297214",
     "status": "completed"
    },
    "tags": []
   },
   "outputs": [
    {
     "name": "stdout",
     "output_type": "stream",
     "text": [
      "<article class=\"prd _fb col c-prd\"><a class=\"btn _i _rnd -mas -fsh0 -me-start _wslt _sec\" data-pop-open=\"addToWishlist\" data-pop-trig=\"atw\" data-sku=\"GA297ST2BTNHJNAFAMZ\" href=\"/customer/account/login/?tkWl=GA297ST2BTNHJNAFAMZ-158186998&amp;return=%2Fall-products%2F\" rel=\"nofollow\"><svg aria-label=\"Add to wishlist\" class=\"ic -f-or5\" height=\"16\" viewbox=\"0 0 24 24\" width=\"16\"><use xlink:href=\"https://www.jumia.co.ke/assets_he/images/i-icons.a66628fd.svg#saved-items\"></use></svg></a><a class=\"core\" data-gtm-brand=\"Garnier\" data-gtm-category=\"Health &amp; Beauty/Beauty &amp; Personal Care/Personal Care/Skin Care/Face/Treatments &amp; Masks/Serums\" data-gtm-dimension23=\"5662\" data-gtm-dimension26=\"1502\" data-gtm-dimension27=\"4.3\" data-gtm-dimension28=\"1\" data-gtm-dimension37=\"0\" data-gtm-dimension43=\"BDEAL|BF2018|BLF|BLF_02|Boost|COL_260|COL_268|COL_269|COL_272|COL_275|COL_276|COL_278|COL_317|CP_24|CP_26|CP_MT123|CP_UN104|CP_UN105|CP_UN132|CP_UN34|DOW_10|DOW_100|JMALL|TBOOST|TOP\" data-gtm-dimension44=\"0\" data-gtm-id=\"GA297ST2BTNHJNAFAMZ\" data-gtm-list=\"\" data-gtm-name=\"Anti-Blemish Charcoal Serum With AHA + BHA &amp; Niacinamide For Acne Prone Skin\" data-gtm-position=\"1\" data-gtm-price=\"8.87\" data-track-onclick=\"eecProduct\" data-track-onview=\"eecProduct\" href=\"/garnier-anti-blemish-charcoal-serum-with-aha-bha-niacinamide-for-acne-prone-skin-119519704.html\"><div class=\"img-c\"><img alt=\"\" class=\"img\" data-lazy=\"true\" data-src=\"https://ke.jumia.is/unsafe/fit-in/300x300/filters:fill(white)/product/40/7915911/1.jpg?2728\" height=\"208\" src=\"data:image/gif;base64,R0lGODlhAQABAIAAAAAAAP///yH5BAEAAAAALAAAAAABAAEAAAIBRAA7\" width=\"208\"/></div><div class=\"info\"><div class=\"bdg _mall _xs\">Official Store</div><h3 class=\"name\">Garnier Anti-Blemish Charcoal Serum With AHA + BHA &amp; Niacinamide For Acne Prone Skin</h3><div class=\"prc\">KSh 1,400</div><div class=\"s-prc-w\"><div class=\"old\">KSh 1,750</div><div class=\"bdg _dsct _sm\">20%</div></div><div class=\"rev\"><div class=\"stars _s\">4.3 out of 5<div class=\"in\" style=\"width:86%\"></div></div>(1502)</div><svg aria-label=\"Express Shipping\" class=\"ic xprss\" height=\"10\" viewbox=\"0 0 114 12\" width=\"94\"><use xlink:href=\"https://www.jumia.co.ke/assets_he/images/i-shop-jumia.9f5451c7.svg#express\"></use></svg></div></a><footer class=\"ft\"><form action=\"/cart/products/GA297ST2BTNHJNAFAMZ-158186998/quantity/\" class=\"-df -i-ctr -pr -j-bet\" data-add-cart=\"\" data-gtm-brand=\"Garnier\" data-gtm-category=\"Health &amp; Beauty/Beauty &amp; Personal Care/Personal Care/Skin Care/Face/Treatments &amp; Masks/Serums\" data-gtm-dimension23=\"5662\" data-gtm-dimension26=\"1502\" data-gtm-dimension27=\"4.3\" data-gtm-dimension28=\"1\" data-gtm-dimension37=\"0\" data-gtm-dimension43=\"BDEAL|BF2018|BLF|BLF_02|Boost|COL_260|COL_268|COL_269|COL_272|COL_275|COL_276|COL_278|COL_317|CP_24|CP_26|CP_MT123|CP_UN104|CP_UN105|CP_UN132|CP_UN34|DOW_10|DOW_100|JMALL|TBOOST|TOP\" data-gtm-dimension44=\"0\" data-gtm-id=\"GA297ST2BTNHJNAFAMZ\" data-gtm-name=\"Anti-Blemish Charcoal Serum With AHA + BHA &amp; Niacinamide For Acne Prone Skin\" data-gtm-price=\"8.87\" data-gtm-simplesku=\"GA297ST2BTNHJNAFAMZ-158186998\" data-gtm-variant=\"\" data-sku=\"GA297ST2BTNHJNAFAMZ\" data-svar=\"GA297ST2BTNHJNAFAMZ-158186998\" data-track-onsubmit=\"addToCart\" data-xhr=\"true\" method=\"post\"><button class=\"add btn _prim -pea _md\" data-submit=\"\" name=\"action\" type=\"button\" value=\"in\">Add To Cart</button><input name=\"capiId\" type=\"hidden\" value=\"_1710162764_{eventType}\"/><input name=\"csrfToken\" type=\"hidden\" value=\"2a74526db50c7c3deab232696ea467d0\"/></form></footer></article>\n"
     ]
    }
   ],
   "source": [
    "print(items[0])"
   ]
  },
  {
   "cell_type": "code",
   "execution_count": 5,
   "id": "8fc08027",
   "metadata": {
    "execution": {
     "iopub.execute_input": "2024-03-11T13:12:45.328438Z",
     "iopub.status.busy": "2024-03-11T13:12:45.328005Z",
     "iopub.status.idle": "2024-03-11T13:12:45.334512Z",
     "shell.execute_reply": "2024-03-11T13:12:45.333199Z"
    },
    "papermill": {
     "duration": 0.016457,
     "end_time": "2024-03-11T13:12:45.336998",
     "exception": false,
     "start_time": "2024-03-11T13:12:45.320541",
     "status": "completed"
    },
    "tags": []
   },
   "outputs": [
    {
     "name": "stdout",
     "output_type": "stream",
     "text": [
      "Garnier Anti-Blemish Charcoal Serum With AHA + BHA & Niacinamide For Acne Prone Skin\n"
     ]
    }
   ],
   "source": [
    "first_items = items[0]\n",
    "first_items_name =first_items.find(\"h3\",attrs = {\"class\":\"name\"}).text\n",
    "print(first_items_name)"
   ]
  },
  {
   "cell_type": "code",
   "execution_count": 6,
   "id": "22c4abf5",
   "metadata": {
    "execution": {
     "iopub.execute_input": "2024-03-11T13:12:45.351902Z",
     "iopub.status.busy": "2024-03-11T13:12:45.351504Z",
     "iopub.status.idle": "2024-03-11T13:12:45.360246Z",
     "shell.execute_reply": "2024-03-11T13:12:45.359013Z"
    },
    "papermill": {
     "duration": 0.019781,
     "end_time": "2024-03-11T13:12:45.362758",
     "exception": false,
     "start_time": "2024-03-11T13:12:45.342977",
     "status": "completed"
    },
    "tags": []
   },
   "outputs": [
    {
     "data": {
      "text/plain": [
       "'KSh 1,400'"
      ]
     },
     "execution_count": 6,
     "metadata": {},
     "output_type": "execute_result"
    }
   ],
   "source": [
    "first_items_price = first_items.find(\"div\", attrs = {\"class\":\"prc\"}).text\n",
    "first_items_price"
   ]
  },
  {
   "cell_type": "code",
   "execution_count": 7,
   "id": "24f48cae",
   "metadata": {
    "execution": {
     "iopub.execute_input": "2024-03-11T13:12:45.377624Z",
     "iopub.status.busy": "2024-03-11T13:12:45.377225Z",
     "iopub.status.idle": "2024-03-11T13:12:45.383411Z",
     "shell.execute_reply": "2024-03-11T13:12:45.382190Z"
    },
    "papermill": {
     "duration": 0.016503,
     "end_time": "2024-03-11T13:12:45.386010",
     "exception": false,
     "start_time": "2024-03-11T13:12:45.369507",
     "status": "completed"
    },
    "tags": []
   },
   "outputs": [
    {
     "name": "stdout",
     "output_type": "stream",
     "text": [
      "/garnier-anti-blemish-charcoal-serum-with-aha-bha-niacinamide-for-acne-prone-skin-119519704.html\n"
     ]
    }
   ],
   "source": [
    "first_items = items[0]\n",
    "first_items_link = first_items.find(\"a\", attrs = {\"class\":\"core\"}).get(\"href\")\n",
    "print(first_items_link)"
   ]
  },
  {
   "cell_type": "code",
   "execution_count": 8,
   "id": "923f0698",
   "metadata": {
    "execution": {
     "iopub.execute_input": "2024-03-11T13:12:45.400564Z",
     "iopub.status.busy": "2024-03-11T13:12:45.400070Z",
     "iopub.status.idle": "2024-03-11T13:12:45.406534Z",
     "shell.execute_reply": "2024-03-11T13:12:45.405332Z"
    },
    "papermill": {
     "duration": 0.016935,
     "end_time": "2024-03-11T13:12:45.409198",
     "exception": false,
     "start_time": "2024-03-11T13:12:45.392263",
     "status": "completed"
    },
    "tags": []
   },
   "outputs": [
    {
     "name": "stdout",
     "output_type": "stream",
     "text": [
      "20%\n"
     ]
    }
   ],
   "source": [
    "##discount\n",
    "first_items = items[0]\n",
    "first_items_discount = first_items.find(\"div\", attrs = {\"class\":\"bdg _dsct _sm\"}).text\n",
    "print(first_items_discount)"
   ]
  },
  {
   "cell_type": "code",
   "execution_count": 9,
   "id": "692aa12b",
   "metadata": {
    "execution": {
     "iopub.execute_input": "2024-03-11T13:12:45.424257Z",
     "iopub.status.busy": "2024-03-11T13:12:45.423793Z",
     "iopub.status.idle": "2024-03-11T13:12:45.463784Z",
     "shell.execute_reply": "2024-03-11T13:12:45.462439Z"
    },
    "papermill": {
     "duration": 0.050398,
     "end_time": "2024-03-11T13:12:45.466342",
     "exception": false,
     "start_time": "2024-03-11T13:12:45.415944",
     "status": "completed"
    },
    "tags": []
   },
   "outputs": [
    {
     "name": "stdout",
     "output_type": "stream",
     "text": [
      "40\n"
     ]
    },
    {
     "data": {
      "text/plain": [
       "[('Garnier Anti-Blemish Charcoal Serum With AHA + BHA & Niacinamide For Acne Prone Skin',\n",
       "  'KSh 1,400',\n",
       "  'KSh 1,750',\n",
       "  '20%',\n",
       "  '/garnier-anti-blemish-charcoal-serum-with-aha-bha-niacinamide-for-acne-prone-skin-119519704.html'),\n",
       " ('Garnier Even & Matte  Vitamin C Booster Serum 15ml',\n",
       "  'KSh 850',\n",
       "  None,\n",
       "  '20%',\n",
       "  '/garnier-even-matte-vitamin-c-booster-serum-15ml-115443314.html'),\n",
       " ('Garnier Pure Active 3 In1 Charcoal Anti Blackhead Mask Wash Scrub -150ml',\n",
       "  'KSh 1,036',\n",
       "  'KSh 1,295',\n",
       "  '20%',\n",
       "  '/garnier-pure-active-3-in1-charcoal-anti-blackhead-mask-wash-scrub-150ml-15855244.html'),\n",
       " ('Garnier Even & Matte  Vitamin C Booster Serum 30ml.',\n",
       "  'KSh 1,400',\n",
       "  'KSh 1,750',\n",
       "  '20%',\n",
       "  '/garnier-even-matte-vitamin-c-booster-serum-30ml.-47090194.html'),\n",
       " ('Garnier Bye Acne & Dark Spots Kit.',\n",
       "  'KSh 3,608',\n",
       "  'KSh 4,245',\n",
       "  '15%',\n",
       "  '/garnier-bye-acne-dark-spots-kit.-74339805.html'),\n",
       " ('Garnier Brightening Night Serum With 10% Pure Vitamin C',\n",
       "  'KSh 2,495',\n",
       "  None,\n",
       "  '15%',\n",
       "  '/garnier-brightening-night-serum-with-10-pure-vitamin-c-171384874.html'),\n",
       " ('Garnier Even & Matte Dark Spot Corrector',\n",
       "  'KSh 1,050',\n",
       "  None,\n",
       "  '15%',\n",
       "  '/garnier-even-matte-dark-spot-corrector-33005024.html'),\n",
       " (\"L'Oreal GLYCOLIC BRIGHT FACE CLEANSER FOAM 100ML\",\n",
       "  'KSh 649',\n",
       "  'KSh 850',\n",
       "  '24%',\n",
       "  '/loreal-glycolic-bright-face-cleanser-foam-100ml-153491395.html'),\n",
       " ('Garnier Vitamin C Booster Serum 30ml Twin Pack',\n",
       "  'KSh 2,975',\n",
       "  'KSh 3,500',\n",
       "  '15%',\n",
       "  '/garnier-vitamin-c-booster-serum-30ml-twin-pack-122217050.html'),\n",
       " ('Garnier AHA+BHA Charcoal Serum + Pure Active 3-in-1 Charcoal Mask',\n",
       "  'KSh 2,588',\n",
       "  'KSh 3,045',\n",
       "  '15%',\n",
       "  '/garnier-ahabha-charcoal-serum-pure-active-3-in-1-charcoal-mask-122287793.html'),\n",
       " ('Infinix Smart 8, 6.6\", 64GB + 3GB RAM, 5000mAh, 4G, DUAL SIM - Shinny Gold',\n",
       "  'KSh 12,999',\n",
       "  'KSh 14,999',\n",
       "  '13%',\n",
       "  '/infinix-smart-8-6.6-64gb-3gb-ram-5000mah-4g-dual-sim-shinny-gold-181508575.html'),\n",
       " ('Maybelline Lasting Fix Setting Spray',\n",
       "  'KSh 1,785',\n",
       "  'KSh 2,100',\n",
       "  '15%',\n",
       "  '/maybelline-lasting-fix-setting-spray-19673223.html'),\n",
       " ('Red Berry RSF810 Insulated Double Wall Vacuum Bottle – 700ml - Black',\n",
       "  'KSh 792',\n",
       "  None,\n",
       "  '15%',\n",
       "  '/red-berry-rsf810-insulated-double-wall-vacuum-bottle-700ml-black-183592272.html'),\n",
       " ('Maybelline Fit Me Mattifying Primer Matte And Poreless',\n",
       "  'KSh 1,400',\n",
       "  None,\n",
       "  '15%',\n",
       "  '/maybelline-fit-me-mattifying-primer-matte-and-poreless-43716991.html'),\n",
       " ('Boma SANDWICH TOASTER BM-722',\n",
       "  'KSh 1,584',\n",
       "  None,\n",
       "  '15%',\n",
       "  '/boma-sandwich-toaster-bm-722-185748991.html'),\n",
       " (\"L'Oreal GLYCOLIC BRIGHT INSTANT GLOWING SERUM 30ML\",\n",
       "  'KSh 1,840',\n",
       "  'KSh 2,300',\n",
       "  '20%',\n",
       "  '/loreal-glycolic-bright-instant-glowing-serum-30ml-153491391.html'),\n",
       " ('Chivas Chivas Regal Whisky 18 Years - 750ml',\n",
       "  'KSh 8,264',\n",
       "  'KSh 8,934',\n",
       "  '7%',\n",
       "  '/chivas-chivas-regal-whisky-18-years-750ml-96994430.html'),\n",
       " ('Campo Viejo Campo Viejo Reserva Red Wine - 750 ML',\n",
       "  'KSh 1,599',\n",
       "  'KSh 2,066',\n",
       "  '23%',\n",
       "  '/campo-viejo-campo-viejo-reserva-red-wine-750-ml-58537922.html'),\n",
       " ('Garnier Even & Matte Oily Skin Face Moisturizer',\n",
       "  'KSh 1,050',\n",
       "  None,\n",
       "  '23%',\n",
       "  '/garnier-even-matte-oily-skin-face-moisturizer-929056.html'),\n",
       " ('Huggies Unisex Pants Gold Size 3 Count 36',\n",
       "  'KSh 859',\n",
       "  'KSh 1,231',\n",
       "  '30%',\n",
       "  '/huggies-unisex-pants-gold-size-3-count-36-58597341.html'),\n",
       " ('Garnier Day & Night Serum Routine Kit',\n",
       "  'KSh 3,400',\n",
       "  'KSh 4,245',\n",
       "  '20%',\n",
       "  '/garnier-day-night-serum-routine-kit-185382915.html'),\n",
       " ('Garnier Charcoal Serum With AHA+BHA 30ml Twin Pack',\n",
       "  'KSh 2,975',\n",
       "  'KSh 3,500',\n",
       "  '15%',\n",
       "  '/garnier-charcoal-serum-with-ahabha-30ml-twin-pack-148758570.html'),\n",
       " ('Red Berry RSF1001- Insulated Double Wall Vacuum Flask - 1L - Red.',\n",
       "  'KSh 1,020',\n",
       "  None,\n",
       "  '15%',\n",
       "  '/red-berry-rsf1001-insulated-double-wall-vacuum-flask-1l-red.-183613787.html'),\n",
       " ('Red Berry RSF811 Insulated Double Wall Vacuum Bottle – 800ml - Black',\n",
       "  'KSh 840',\n",
       "  None,\n",
       "  '15%',\n",
       "  '/red-berry-rsf811-insulated-double-wall-vacuum-bottle-800ml-black-183592281.html'),\n",
       " ('Rashnik RN-8011 200w Solar Light',\n",
       "  'KSh 1,595',\n",
       "  'KSh 1,668',\n",
       "  '4%',\n",
       "  '/rashnik-rn-8011-200w-solar-light-167130931.html'),\n",
       " ('Absolut Absolut Vanilla Flavoured Vodka - 750ml',\n",
       "  'KSh 1,499',\n",
       "  'KSh 2,348',\n",
       "  '36%',\n",
       "  '/vanilla-flavoured-vodka-750ml-absolut-mpg162702.html'),\n",
       " ('Red Berry RSF 1003 Insulated Double Wall Vacuum Bottle – 1L - Green',\n",
       "  'KSh 960',\n",
       "  None,\n",
       "  '36%',\n",
       "  '/red-berry-rsf-1003-insulated-double-wall-vacuum-bottle-1l-green-183613749.html'),\n",
       " ('Red Berry RSF505 Insulated Double Wall Vacuum Bottle – 500ml - Black',\n",
       "  'KSh 780',\n",
       "  None,\n",
       "  '36%',\n",
       "  '/red-berry-rsf505-insulated-double-wall-vacuum-bottle-500ml-black-183592239.html'),\n",
       " ('Chivas Chivas XV 15 years scotch whiskey - 750ml',\n",
       "  'KSh 5,522',\n",
       "  'KSh 5,969',\n",
       "  '7%',\n",
       "  '/chivas-chivas-xv-15-years-scotch-whiskey-750ml-58537978.html'),\n",
       " (\"Glenmorangie Glenmorangie Nectar D'or - 700ml\",\n",
       "  'KSh 9,455',\n",
       "  None,\n",
       "  '7%',\n",
       "  '/nectar-dor-700ml-glenmorangie-mpg369806.html'),\n",
       " ('Red Berry RSF1001 - Insulated Double Wall Vacuum Flask - 1L - Grey.',\n",
       "  'KSh 1,020',\n",
       "  None,\n",
       "  '7%',\n",
       "  '/red-berry-rsf1001-insulated-double-wall-vacuum-flask-1l-grey.-183613784.html'),\n",
       " ('Boma FOOD CHOPPER BM-7013',\n",
       "  'KSh 2,640',\n",
       "  None,\n",
       "  '7%',\n",
       "  '/boma-food-chopper-bm-7013-185748980.html'),\n",
       " ('Inverroche Inverroche Verdant Gin - 750ml',\n",
       "  'KSh 3,899',\n",
       "  'KSh 4,888',\n",
       "  '20%',\n",
       "  '/inverroche-inverroche-verdant-gin-750ml-58539143.html'),\n",
       " ('Red Berry RSF502 - Insulated Double Wall Vacuum Flask - 350ml -Blue.',\n",
       "  'KSh 660',\n",
       "  None,\n",
       "  '20%',\n",
       "  '/red-berry-rsf502-insulated-double-wall-vacuum-flask-350ml-blue.-183592201.html'),\n",
       " ('Red Berry RSF810 Insulated Double Wall Vacuum Bottle – 700ml - Gold',\n",
       "  'KSh 792',\n",
       "  None,\n",
       "  '20%',\n",
       "  '/red-berry-rsf810-insulated-double-wall-vacuum-bottle-700ml-gold-183592275.html'),\n",
       " ('Boma FOOD CHOPPER BM-7016',\n",
       "  'KSh 3,960',\n",
       "  None,\n",
       "  '20%',\n",
       "  '/boma-food-chopper-bm-7016-185748985.html'),\n",
       " ('Boma FOOD CHOPPER BM-7017',\n",
       "  'KSh 3,685',\n",
       "  None,\n",
       "  '20%',\n",
       "  '/boma-food-chopper-bm-7017-185748984.html'),\n",
       " ('Mortein MORTEIN DOOM AEROSOL AIKO - ODOURLESS 300ml',\n",
       "  'KSh 899',\n",
       "  'KSh 1,000',\n",
       "  '10%',\n",
       "  '/mortein-mortein-doom-aerosol-aiko-odourless-300ml-167312955.html'),\n",
       " ('Red Berry RSF1001 - Insulated Double Wall Vacuum Flask - 1L - Blue.',\n",
       "  'KSh 1,020',\n",
       "  None,\n",
       "  '10%',\n",
       "  '/red-berry-rsf1001-insulated-double-wall-vacuum-flask-1l-blue.-183613780.html'),\n",
       " ('Led Down Light 100W Solar Flood Light Dusk To Dawn + Solar Panel.',\n",
       "  'KSh 6,320',\n",
       "  'KSh 9,000',\n",
       "  '30%',\n",
       "  '/led-down-light-100w-solar-flood-light-dusk-to-dawn-solar-panel.-126736084.html')]"
      ]
     },
     "execution_count": 9,
     "metadata": {},
     "output_type": "execute_result"
    }
   ],
   "source": [
    "records= []\n",
    "for item in items:\n",
    "    try:\n",
    "        item_name =item.find(\"h3\",attrs = {\"class\":\"name\"}).text\n",
    "        current_price =item.find(\"div\", attrs = {\"class\":\"prc\"}).text\n",
    "        old_price_element = item.find(\"div\", attrs = {\"class\":\"old\"})\n",
    "        item_discount_element = item.find(\"div\", attrs = {\"class\":\"bdg _dsct _sm\"})\n",
    "        item_link = item.find(\"a\", attrs = {\"class\":\"core\"}).get(\"href\")\n",
    "\n",
    "        if old_price_element: \n",
    "            old_price = old_price_element.text\n",
    "        else:\n",
    "            old_price = None\n",
    "        if item_discount_element:\n",
    "            item_discount = item_discount_element.text\n",
    "        else:\n",
    "            item_dicount = None\n",
    "        records.append(( item_name, current_price,old_price, item_discount, item_link))\n",
    "\n",
    "    except AttributeError:\n",
    "        records.append(None)\n",
    "print(len(records))\n",
    "\n",
    "records"
   ]
  },
  {
   "cell_type": "code",
   "execution_count": 10,
   "id": "0f7d300d",
   "metadata": {
    "execution": {
     "iopub.execute_input": "2024-03-11T13:12:45.483208Z",
     "iopub.status.busy": "2024-03-11T13:12:45.482808Z",
     "iopub.status.idle": "2024-03-11T13:17:48.425480Z",
     "shell.execute_reply": "2024-03-11T13:17:48.424223Z"
    },
    "papermill": {
     "duration": 302.954289,
     "end_time": "2024-03-11T13:17:48.428365",
     "exception": false,
     "start_time": "2024-03-11T13:12:45.474076",
     "status": "completed"
    },
    "tags": []
   },
   "outputs": [
    {
     "name": "stdout",
     "output_type": "stream",
     "text": [
      "Page 1 scrapped successfully\n",
      "Page 2 scrapped successfully\n",
      "Page 3 scrapped successfully\n",
      "Page 4 scrapped successfully\n",
      "Page 5 scrapped successfully\n",
      "Page 6 scrapped successfully\n",
      "Page 7 scrapped successfully\n",
      "Page 8 scrapped successfully\n",
      "Page 9 scrapped successfully\n",
      "Page 10 scrapped successfully\n",
      "Page 11 scrapped successfully\n",
      "Page 12 scrapped successfully\n",
      "Page 13 scrapped successfully\n",
      "Page 14 scrapped successfully\n",
      "Page 15 scrapped successfully\n",
      "Page 16 scrapped successfully\n",
      "Page 17 scrapped successfully\n",
      "Page 18 scrapped successfully\n",
      "Page 19 scrapped successfully\n",
      "Page 20 scrapped successfully\n",
      "Page 21 scrapped successfully\n",
      "Page 22 scrapped successfully\n",
      "Page 23 scrapped successfully\n",
      "Page 24 scrapped successfully\n",
      "Page 25 scrapped successfully\n",
      "Page 26 scrapped successfully\n",
      "Page 27 scrapped successfully\n",
      "Page 28 scrapped successfully\n",
      "Page 29 scrapped successfully\n",
      "Page 30 scrapped successfully\n",
      "Page 31 scrapped successfully\n",
      "Page 32 scrapped successfully\n",
      "Page 33 scrapped successfully\n",
      "Page 34 scrapped successfully\n",
      "Page 35 scrapped successfully\n",
      "Page 36 scrapped successfully\n",
      "Page 37 scrapped successfully\n",
      "Page 38 scrapped successfully\n",
      "Page 39 scrapped successfully\n",
      "Page 40 scrapped successfully\n",
      "Page 41 scrapped successfully\n",
      "Page 42 scrapped successfully\n",
      "Page 43 scrapped successfully\n",
      "Page 44 scrapped successfully\n",
      "Page 45 scrapped successfully\n",
      "Page 46 scrapped successfully\n",
      "Page 47 scrapped successfully\n",
      "Page 48 scrapped successfully\n",
      "Page 49 scrapped successfully\n",
      "Page 50 scrapped successfully\n"
     ]
    }
   ],
   "source": [
    "import time\n",
    "import requests\n",
    "from bs4 import BeautifulSoup\n",
    "\n",
    "base_url = \"https://www.jumia.co.ke/all-products/?page={}#catalog-listing\"\n",
    "records = []\n",
    "\n",
    "for page_number in range(1, 51):\n",
    "    url = base_url.format(page_number)\n",
    "    time.sleep(5)\n",
    "    response = requests.get(url)\n",
    "    if response.status_code == 200:\n",
    "        soup = BeautifulSoup(response.text, \"html.parser\")\n",
    "        print(f\"Page {page_number} scrapped successfully\")\n",
    "        items = soup.find_all(\"article\", attrs={\"class\": \"prd _fb col c-prd\"})\n",
    "        for item in items:\n",
    "            try:\n",
    "                item_name = item.find(\"h3\", attrs={\"class\": \"name\"}).text\n",
    "                current_price = item.find(\"div\", attrs={\"class\": \"prc\"}).text\n",
    "                old_price_element = item.find(\"div\", attrs={\"class\": \"old\"})\n",
    "                item_discount_element = item.find(\"div\", attrs={\"class\": \"bdg _dsct _sm\"})\n",
    "                item_link = item.find(\"a\", attrs={\"class\": \"core\"}).get(\"href\")\n",
    "                \n",
    "                if old_price_element:\n",
    "                    old_price = old_price_element.text\n",
    "                else:\n",
    "                    old_price = None\n",
    "                if item_discount_element:\n",
    "                    item_discount = item_discount_element.text\n",
    "                else:\n",
    "                    item_discount = None\n",
    "                records.append((item_name, current_price, old_price, item_discount, item_link))\n",
    "            except AttributeError:\n",
    "                records.append(None)\n",
    "    else:\n",
    "        print(f\"Page {page_number} not scrapped\")"
   ]
  },
  {
   "cell_type": "code",
   "execution_count": 11,
   "id": "3a0d88ee",
   "metadata": {
    "execution": {
     "iopub.execute_input": "2024-03-11T13:17:48.453539Z",
     "iopub.status.busy": "2024-03-11T13:17:48.453068Z",
     "iopub.status.idle": "2024-03-11T13:17:48.479348Z",
     "shell.execute_reply": "2024-03-11T13:17:48.477945Z"
    },
    "papermill": {
     "duration": 0.042016,
     "end_time": "2024-03-11T13:17:48.482005",
     "exception": false,
     "start_time": "2024-03-11T13:17:48.439989",
     "status": "completed"
    },
    "tags": []
   },
   "outputs": [
    {
     "name": "stdout",
     "output_type": "stream",
     "text": [
      "Data saved to jumia_products.csv\n"
     ]
    }
   ],
   "source": [
    "# Save records to CSV file\n",
    "import csv\n",
    "csv_file = \"jumia_products.csv\"\n",
    "with open(csv_file, mode='w', newline='', encoding='utf-8') as file:\n",
    "    writer = csv.writer(file)\n",
    "    writer.writerow([\"Item Name\", \"Current Price\", \"Old Price\", \"Discount\", \"Item Link\"])\n",
    "    writer.writerows(records)\n",
    "\n",
    "print(\"Data saved to\", csv_file)"
   ]
  },
  {
   "cell_type": "code",
   "execution_count": 12,
   "id": "0c5956bf",
   "metadata": {
    "execution": {
     "iopub.execute_input": "2024-03-11T13:17:48.507319Z",
     "iopub.status.busy": "2024-03-11T13:17:48.506863Z",
     "iopub.status.idle": "2024-03-11T13:17:48.530773Z",
     "shell.execute_reply": "2024-03-11T13:17:48.529527Z"
    },
    "papermill": {
     "duration": 0.04012,
     "end_time": "2024-03-11T13:17:48.533871",
     "exception": false,
     "start_time": "2024-03-11T13:17:48.493751",
     "status": "completed"
    },
    "tags": []
   },
   "outputs": [],
   "source": [
    "df = pd.read_csv(\"jumia_products.csv\")"
   ]
  },
  {
   "cell_type": "code",
   "execution_count": 13,
   "id": "b457510c",
   "metadata": {
    "execution": {
     "iopub.execute_input": "2024-03-11T13:17:48.560669Z",
     "iopub.status.busy": "2024-03-11T13:17:48.560279Z",
     "iopub.status.idle": "2024-03-11T13:17:48.579699Z",
     "shell.execute_reply": "2024-03-11T13:17:48.578846Z"
    },
    "papermill": {
     "duration": 0.036021,
     "end_time": "2024-03-11T13:17:48.582182",
     "exception": false,
     "start_time": "2024-03-11T13:17:48.546161",
     "status": "completed"
    },
    "tags": []
   },
   "outputs": [
    {
     "name": "stdout",
     "output_type": "stream",
     "text": [
      "First few rows of the DataFrame:\n"
     ]
    },
    {
     "data": {
      "text/html": [
       "<div>\n",
       "<style scoped>\n",
       "    .dataframe tbody tr th:only-of-type {\n",
       "        vertical-align: middle;\n",
       "    }\n",
       "\n",
       "    .dataframe tbody tr th {\n",
       "        vertical-align: top;\n",
       "    }\n",
       "\n",
       "    .dataframe thead th {\n",
       "        text-align: right;\n",
       "    }\n",
       "</style>\n",
       "<table border=\"1\" class=\"dataframe\">\n",
       "  <thead>\n",
       "    <tr style=\"text-align: right;\">\n",
       "      <th></th>\n",
       "      <th>Item Name</th>\n",
       "      <th>Current Price</th>\n",
       "      <th>Old Price</th>\n",
       "      <th>Discount</th>\n",
       "      <th>Item Link</th>\n",
       "    </tr>\n",
       "  </thead>\n",
       "  <tbody>\n",
       "    <tr>\n",
       "      <th>0</th>\n",
       "      <td>Garnier Anti-Blemish Charcoal Serum With AHA +...</td>\n",
       "      <td>KSh 1,400</td>\n",
       "      <td>KSh 1,750</td>\n",
       "      <td>20%</td>\n",
       "      <td>/garnier-anti-blemish-charcoal-serum-with-aha-...</td>\n",
       "    </tr>\n",
       "    <tr>\n",
       "      <th>1</th>\n",
       "      <td>Garnier Even &amp; Matte  Vitamin C Booster Serum ...</td>\n",
       "      <td>KSh 850</td>\n",
       "      <td>NaN</td>\n",
       "      <td>NaN</td>\n",
       "      <td>/garnier-even-matte-vitamin-c-booster-serum-15...</td>\n",
       "    </tr>\n",
       "    <tr>\n",
       "      <th>2</th>\n",
       "      <td>Garnier Pure Active 3 In1 Charcoal Anti Blackh...</td>\n",
       "      <td>KSh 1,036</td>\n",
       "      <td>KSh 1,295</td>\n",
       "      <td>20%</td>\n",
       "      <td>/garnier-pure-active-3-in1-charcoal-anti-black...</td>\n",
       "    </tr>\n",
       "    <tr>\n",
       "      <th>3</th>\n",
       "      <td>Garnier Even &amp; Matte  Vitamin C Booster Serum ...</td>\n",
       "      <td>KSh 1,400</td>\n",
       "      <td>KSh 1,750</td>\n",
       "      <td>20%</td>\n",
       "      <td>/garnier-even-matte-vitamin-c-booster-serum-30...</td>\n",
       "    </tr>\n",
       "    <tr>\n",
       "      <th>4</th>\n",
       "      <td>Garnier Bye Acne &amp; Dark Spots Kit.</td>\n",
       "      <td>KSh 3,608</td>\n",
       "      <td>KSh 4,245</td>\n",
       "      <td>15%</td>\n",
       "      <td>/garnier-bye-acne-dark-spots-kit.-74339805.html</td>\n",
       "    </tr>\n",
       "  </tbody>\n",
       "</table>\n",
       "</div>"
      ],
      "text/plain": [
       "                                           Item Name Current Price  Old Price  \\\n",
       "0  Garnier Anti-Blemish Charcoal Serum With AHA +...     KSh 1,400  KSh 1,750   \n",
       "1  Garnier Even & Matte  Vitamin C Booster Serum ...       KSh 850        NaN   \n",
       "2  Garnier Pure Active 3 In1 Charcoal Anti Blackh...     KSh 1,036  KSh 1,295   \n",
       "3  Garnier Even & Matte  Vitamin C Booster Serum ...     KSh 1,400  KSh 1,750   \n",
       "4                 Garnier Bye Acne & Dark Spots Kit.     KSh 3,608  KSh 4,245   \n",
       "\n",
       "  Discount                                          Item Link  \n",
       "0      20%  /garnier-anti-blemish-charcoal-serum-with-aha-...  \n",
       "1      NaN  /garnier-even-matte-vitamin-c-booster-serum-15...  \n",
       "2      20%  /garnier-pure-active-3-in1-charcoal-anti-black...  \n",
       "3      20%  /garnier-even-matte-vitamin-c-booster-serum-30...  \n",
       "4      15%    /garnier-bye-acne-dark-spots-kit.-74339805.html  "
      ]
     },
     "execution_count": 13,
     "metadata": {},
     "output_type": "execute_result"
    }
   ],
   "source": [
    "print(\"First few rows of the DataFrame:\")\n",
    "df.head(5)"
   ]
  },
  {
   "cell_type": "code",
   "execution_count": 14,
   "id": "58f98fd9",
   "metadata": {
    "execution": {
     "iopub.execute_input": "2024-03-11T13:17:48.608415Z",
     "iopub.status.busy": "2024-03-11T13:17:48.607909Z",
     "iopub.status.idle": "2024-03-11T13:17:48.645193Z",
     "shell.execute_reply": "2024-03-11T13:17:48.643862Z"
    },
    "papermill": {
     "duration": 0.053291,
     "end_time": "2024-03-11T13:17:48.647797",
     "exception": false,
     "start_time": "2024-03-11T13:17:48.594506",
     "status": "completed"
    },
    "tags": []
   },
   "outputs": [
    {
     "name": "stdout",
     "output_type": "stream",
     "text": [
      "\n",
      "Summary statistics:\n"
     ]
    },
    {
     "data": {
      "text/html": [
       "<div>\n",
       "<style scoped>\n",
       "    .dataframe tbody tr th:only-of-type {\n",
       "        vertical-align: middle;\n",
       "    }\n",
       "\n",
       "    .dataframe tbody tr th {\n",
       "        vertical-align: top;\n",
       "    }\n",
       "\n",
       "    .dataframe thead th {\n",
       "        text-align: right;\n",
       "    }\n",
       "</style>\n",
       "<table border=\"1\" class=\"dataframe\">\n",
       "  <thead>\n",
       "    <tr style=\"text-align: right;\">\n",
       "      <th></th>\n",
       "      <th>count</th>\n",
       "      <th>unique</th>\n",
       "      <th>top</th>\n",
       "      <th>freq</th>\n",
       "    </tr>\n",
       "  </thead>\n",
       "  <tbody>\n",
       "    <tr>\n",
       "      <th>Item Name</th>\n",
       "      <td>2000</td>\n",
       "      <td>1904</td>\n",
       "      <td>Fashion Men's Hawaiian Ink Print  Bottom-down ...</td>\n",
       "      <td>3</td>\n",
       "    </tr>\n",
       "    <tr>\n",
       "      <th>Current Price</th>\n",
       "      <td>2000</td>\n",
       "      <td>1264</td>\n",
       "      <td>KSh 899</td>\n",
       "      <td>21</td>\n",
       "    </tr>\n",
       "    <tr>\n",
       "      <th>Old Price</th>\n",
       "      <td>1742</td>\n",
       "      <td>1049</td>\n",
       "      <td>KSh 1,000</td>\n",
       "      <td>38</td>\n",
       "    </tr>\n",
       "    <tr>\n",
       "      <th>Discount</th>\n",
       "      <td>1742</td>\n",
       "      <td>60</td>\n",
       "      <td>50%</td>\n",
       "      <td>250</td>\n",
       "    </tr>\n",
       "    <tr>\n",
       "      <th>Item Link</th>\n",
       "      <td>2000</td>\n",
       "      <td>1923</td>\n",
       "      <td>/nordic-humidifier-generic-mpg433225.html</td>\n",
       "      <td>2</td>\n",
       "    </tr>\n",
       "  </tbody>\n",
       "</table>\n",
       "</div>"
      ],
      "text/plain": [
       "              count unique                                                top  \\\n",
       "Item Name      2000   1904  Fashion Men's Hawaiian Ink Print  Bottom-down ...   \n",
       "Current Price  2000   1264                                            KSh 899   \n",
       "Old Price      1742   1049                                          KSh 1,000   \n",
       "Discount       1742     60                                                50%   \n",
       "Item Link      2000   1923          /nordic-humidifier-generic-mpg433225.html   \n",
       "\n",
       "              freq  \n",
       "Item Name        3  \n",
       "Current Price   21  \n",
       "Old Price       38  \n",
       "Discount       250  \n",
       "Item Link        2  "
      ]
     },
     "execution_count": 14,
     "metadata": {},
     "output_type": "execute_result"
    }
   ],
   "source": [
    "print(\"\\nSummary statistics:\")\n",
    "df.describe().T"
   ]
  },
  {
   "cell_type": "code",
   "execution_count": 15,
   "id": "ab31f6ab",
   "metadata": {
    "execution": {
     "iopub.execute_input": "2024-03-11T13:17:48.675995Z",
     "iopub.status.busy": "2024-03-11T13:17:48.675599Z",
     "iopub.status.idle": "2024-03-11T13:17:48.685423Z",
     "shell.execute_reply": "2024-03-11T13:17:48.683846Z"
    },
    "papermill": {
     "duration": 0.026855,
     "end_time": "2024-03-11T13:17:48.688034",
     "exception": false,
     "start_time": "2024-03-11T13:17:48.661179",
     "status": "completed"
    },
    "tags": []
   },
   "outputs": [
    {
     "name": "stdout",
     "output_type": "stream",
     "text": [
      "\n",
      "Data types of columns:\n"
     ]
    },
    {
     "data": {
      "text/plain": [
       "Item Name        object\n",
       "Current Price    object\n",
       "Old Price        object\n",
       "Discount         object\n",
       "Item Link        object\n",
       "dtype: object"
      ]
     },
     "execution_count": 15,
     "metadata": {},
     "output_type": "execute_result"
    }
   ],
   "source": [
    "print(\"\\nData types of columns:\")\n",
    "df.dtypes"
   ]
  },
  {
   "cell_type": "code",
   "execution_count": 16,
   "id": "791660d9",
   "metadata": {
    "execution": {
     "iopub.execute_input": "2024-03-11T13:17:48.717052Z",
     "iopub.status.busy": "2024-03-11T13:17:48.715743Z",
     "iopub.status.idle": "2024-03-11T13:17:48.730299Z",
     "shell.execute_reply": "2024-03-11T13:17:48.729184Z"
    },
    "papermill": {
     "duration": 0.031724,
     "end_time": "2024-03-11T13:17:48.732728",
     "exception": false,
     "start_time": "2024-03-11T13:17:48.701004",
     "status": "completed"
    },
    "tags": []
   },
   "outputs": [
    {
     "name": "stdout",
     "output_type": "stream",
     "text": [
      "\n",
      "Missing values:\n"
     ]
    },
    {
     "data": {
      "text/plain": [
       "Item Name          0\n",
       "Current Price      0\n",
       "Old Price        258\n",
       "Discount         258\n",
       "Item Link          0\n",
       "dtype: int64"
      ]
     },
     "execution_count": 16,
     "metadata": {},
     "output_type": "execute_result"
    }
   ],
   "source": [
    "print(\"\\nMissing values:\")\n",
    "df.isnull().sum()"
   ]
  }
 ],
 "metadata": {
  "kaggle": {
   "accelerator": "none",
   "dataSources": [],
   "dockerImageVersionId": 30664,
   "isGpuEnabled": false,
   "isInternetEnabled": true,
   "language": "python",
   "sourceType": "notebook"
  },
  "kernelspec": {
   "display_name": "Python 3",
   "language": "python",
   "name": "python3"
  },
  "language_info": {
   "codemirror_mode": {
    "name": "ipython",
    "version": 3
   },
   "file_extension": ".py",
   "mimetype": "text/x-python",
   "name": "python",
   "nbconvert_exporter": "python",
   "pygments_lexer": "ipython3",
   "version": "3.10.13"
  },
  "papermill": {
   "default_parameters": {},
   "duration": 309.521973,
   "end_time": "2024-03-11T13:17:49.369459",
   "environment_variables": {},
   "exception": null,
   "input_path": "__notebook__.ipynb",
   "output_path": "__notebook__.ipynb",
   "parameters": {},
   "start_time": "2024-03-11T13:12:39.847486",
   "version": "2.5.0"
  }
 },
 "nbformat": 4,
 "nbformat_minor": 5
}
