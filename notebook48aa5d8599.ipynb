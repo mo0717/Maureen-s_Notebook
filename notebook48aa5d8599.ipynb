{
 "cells": [
  {
   "cell_type": "code",
   "execution_count": 1,
   "id": "dc6d2402",
   "metadata": {
    "_cell_guid": "b1076dfc-b9ad-4769-8c92-a6c4dae69d19",
    "_uuid": "8f2839f25d086af736a60e9eeb907d3b93b6e0e5",
    "execution": {
     "iopub.execute_input": "2024-03-02T15:33:45.377614Z",
     "iopub.status.busy": "2024-03-02T15:33:45.376882Z",
     "iopub.status.idle": "2024-03-02T15:33:48.296844Z",
     "shell.execute_reply": "2024-03-02T15:33:48.295634Z"
    },
    "papermill": {
     "duration": 2.945281,
     "end_time": "2024-03-02T15:33:48.299670",
     "exception": false,
     "start_time": "2024-03-02T15:33:45.354389",
     "status": "completed"
    },
    "tags": []
   },
   "outputs": [
    {
     "name": "stdout",
     "output_type": "stream",
     "text": [
      "/kaggle/input/loan-data-csv/loan_data.csv\n",
      "/kaggle/input/loan-dataset-notebook/loan_data.csv\n"
     ]
    }
   ],
   "source": [
    "# This Python 3 environment comes with many helpful analytics libraries installed\n",
    "# It is defined by the kaggle/python Docker image: https://github.com/kaggle/docker-python\n",
    "# For example, here's several helpful packages to load\n",
    "\n",
    "import numpy as np # linear algebra\n",
    "import pandas as pd # data processing, CSV file I/O (e.g. pd.read_csv)\n",
    "from statistics import variance, stdev # for doing statistical analysis\n",
    "import matplotlib.pyplot as plt\n",
    "import seaborn as sns\n",
    "from sklearn.preprocessing import StandardScaler, LabelEncoder\n",
    "\n",
    "# Input data files are available in the read-only \"../input/\" directory\n",
    "# For example, running this (by clicking run or pressing Shift+Enter) will list all files under the input directory\n",
    "\n",
    "import os\n",
    "for dirname, _, filenames in os.walk('/kaggle/input'):\n",
    "    for filename in filenames:\n",
    "        print(os.path.join(dirname, filename))\n",
    "\n",
    "# You can write up to 20GB to the current directory (/kaggle/working/) that gets preserved as output when you create a version using \"Save & Run All\" \n",
    "# You can also write temporary files to /kaggle/temp/, but they won't be saved outside of the current session"
   ]
  },
  {
   "cell_type": "code",
   "execution_count": 2,
   "id": "6184c621",
   "metadata": {
    "execution": {
     "iopub.execute_input": "2024-03-02T15:33:48.343562Z",
     "iopub.status.busy": "2024-03-02T15:33:48.342718Z",
     "iopub.status.idle": "2024-03-02T15:33:48.364883Z",
     "shell.execute_reply": "2024-03-02T15:33:48.363827Z"
    },
    "papermill": {
     "duration": 0.047276,
     "end_time": "2024-03-02T15:33:48.367571",
     "exception": false,
     "start_time": "2024-03-02T15:33:48.320295",
     "status": "completed"
    },
    "tags": []
   },
   "outputs": [],
   "source": [
    "loan=pd.read_csv('/kaggle/input/loan-data-csv/loan_data.csv')"
   ]
  },
  {
   "cell_type": "code",
   "execution_count": 3,
   "id": "f1b6761e",
   "metadata": {
    "execution": {
     "iopub.execute_input": "2024-03-02T15:33:48.412668Z",
     "iopub.status.busy": "2024-03-02T15:33:48.411680Z",
     "iopub.status.idle": "2024-03-02T15:33:48.440484Z",
     "shell.execute_reply": "2024-03-02T15:33:48.439406Z"
    },
    "papermill": {
     "duration": 0.055498,
     "end_time": "2024-03-02T15:33:48.443273",
     "exception": false,
     "start_time": "2024-03-02T15:33:48.387775",
     "status": "completed"
    },
    "tags": []
   },
   "outputs": [
    {
     "data": {
      "text/html": [
       "<div>\n",
       "<style scoped>\n",
       "    .dataframe tbody tr th:only-of-type {\n",
       "        vertical-align: middle;\n",
       "    }\n",
       "\n",
       "    .dataframe tbody tr th {\n",
       "        vertical-align: top;\n",
       "    }\n",
       "\n",
       "    .dataframe thead th {\n",
       "        text-align: right;\n",
       "    }\n",
       "</style>\n",
       "<table border=\"1\" class=\"dataframe\">\n",
       "  <thead>\n",
       "    <tr style=\"text-align: right;\">\n",
       "      <th></th>\n",
       "      <th>Loan_ID</th>\n",
       "      <th>Gender</th>\n",
       "      <th>Married</th>\n",
       "      <th>Dependents</th>\n",
       "      <th>Education</th>\n",
       "      <th>Self_Employed</th>\n",
       "      <th>ApplicantIncome</th>\n",
       "      <th>CoapplicantIncome</th>\n",
       "      <th>LoanAmount</th>\n",
       "      <th>Loan_Amount_Term</th>\n",
       "      <th>Credit_History</th>\n",
       "      <th>Property_Area</th>\n",
       "      <th>Loan_Status</th>\n",
       "    </tr>\n",
       "  </thead>\n",
       "  <tbody>\n",
       "    <tr>\n",
       "      <th>0</th>\n",
       "      <td>LP001003</td>\n",
       "      <td>Male</td>\n",
       "      <td>Yes</td>\n",
       "      <td>1</td>\n",
       "      <td>Graduate</td>\n",
       "      <td>No</td>\n",
       "      <td>4583</td>\n",
       "      <td>1508.0</td>\n",
       "      <td>128.0</td>\n",
       "      <td>360.0</td>\n",
       "      <td>1.0</td>\n",
       "      <td>Rural</td>\n",
       "      <td>N</td>\n",
       "    </tr>\n",
       "    <tr>\n",
       "      <th>1</th>\n",
       "      <td>LP001005</td>\n",
       "      <td>Male</td>\n",
       "      <td>Yes</td>\n",
       "      <td>0</td>\n",
       "      <td>Graduate</td>\n",
       "      <td>Yes</td>\n",
       "      <td>3000</td>\n",
       "      <td>0.0</td>\n",
       "      <td>66.0</td>\n",
       "      <td>360.0</td>\n",
       "      <td>1.0</td>\n",
       "      <td>Urban</td>\n",
       "      <td>Y</td>\n",
       "    </tr>\n",
       "    <tr>\n",
       "      <th>2</th>\n",
       "      <td>LP001006</td>\n",
       "      <td>Male</td>\n",
       "      <td>Yes</td>\n",
       "      <td>0</td>\n",
       "      <td>Not Graduate</td>\n",
       "      <td>No</td>\n",
       "      <td>2583</td>\n",
       "      <td>2358.0</td>\n",
       "      <td>120.0</td>\n",
       "      <td>360.0</td>\n",
       "      <td>1.0</td>\n",
       "      <td>Urban</td>\n",
       "      <td>Y</td>\n",
       "    </tr>\n",
       "    <tr>\n",
       "      <th>3</th>\n",
       "      <td>LP001008</td>\n",
       "      <td>Male</td>\n",
       "      <td>No</td>\n",
       "      <td>0</td>\n",
       "      <td>Graduate</td>\n",
       "      <td>No</td>\n",
       "      <td>6000</td>\n",
       "      <td>0.0</td>\n",
       "      <td>141.0</td>\n",
       "      <td>360.0</td>\n",
       "      <td>1.0</td>\n",
       "      <td>Urban</td>\n",
       "      <td>Y</td>\n",
       "    </tr>\n",
       "    <tr>\n",
       "      <th>4</th>\n",
       "      <td>LP001013</td>\n",
       "      <td>Male</td>\n",
       "      <td>Yes</td>\n",
       "      <td>0</td>\n",
       "      <td>Not Graduate</td>\n",
       "      <td>No</td>\n",
       "      <td>2333</td>\n",
       "      <td>1516.0</td>\n",
       "      <td>95.0</td>\n",
       "      <td>360.0</td>\n",
       "      <td>1.0</td>\n",
       "      <td>Urban</td>\n",
       "      <td>Y</td>\n",
       "    </tr>\n",
       "  </tbody>\n",
       "</table>\n",
       "</div>"
      ],
      "text/plain": [
       "    Loan_ID Gender Married Dependents     Education Self_Employed  \\\n",
       "0  LP001003   Male     Yes          1      Graduate            No   \n",
       "1  LP001005   Male     Yes          0      Graduate           Yes   \n",
       "2  LP001006   Male     Yes          0  Not Graduate            No   \n",
       "3  LP001008   Male      No          0      Graduate            No   \n",
       "4  LP001013   Male     Yes          0  Not Graduate            No   \n",
       "\n",
       "   ApplicantIncome  CoapplicantIncome  LoanAmount  Loan_Amount_Term  \\\n",
       "0             4583             1508.0       128.0             360.0   \n",
       "1             3000                0.0        66.0             360.0   \n",
       "2             2583             2358.0       120.0             360.0   \n",
       "3             6000                0.0       141.0             360.0   \n",
       "4             2333             1516.0        95.0             360.0   \n",
       "\n",
       "   Credit_History Property_Area Loan_Status  \n",
       "0             1.0         Rural           N  \n",
       "1             1.0         Urban           Y  \n",
       "2             1.0         Urban           Y  \n",
       "3             1.0         Urban           Y  \n",
       "4             1.0         Urban           Y  "
      ]
     },
     "execution_count": 3,
     "metadata": {},
     "output_type": "execute_result"
    }
   ],
   "source": [
    "loan.head()"
   ]
  },
  {
   "cell_type": "code",
   "execution_count": 4,
   "id": "c2b91172",
   "metadata": {
    "execution": {
     "iopub.execute_input": "2024-03-02T15:33:48.485547Z",
     "iopub.status.busy": "2024-03-02T15:33:48.485147Z",
     "iopub.status.idle": "2024-03-02T15:33:48.523802Z",
     "shell.execute_reply": "2024-03-02T15:33:48.522633Z"
    },
    "papermill": {
     "duration": 0.063128,
     "end_time": "2024-03-02T15:33:48.526731",
     "exception": false,
     "start_time": "2024-03-02T15:33:48.463603",
     "status": "completed"
    },
    "tags": []
   },
   "outputs": [
    {
     "data": {
      "text/html": [
       "<div>\n",
       "<style scoped>\n",
       "    .dataframe tbody tr th:only-of-type {\n",
       "        vertical-align: middle;\n",
       "    }\n",
       "\n",
       "    .dataframe tbody tr th {\n",
       "        vertical-align: top;\n",
       "    }\n",
       "\n",
       "    .dataframe thead th {\n",
       "        text-align: right;\n",
       "    }\n",
       "</style>\n",
       "<table border=\"1\" class=\"dataframe\">\n",
       "  <thead>\n",
       "    <tr style=\"text-align: right;\">\n",
       "      <th></th>\n",
       "      <th>count</th>\n",
       "      <th>mean</th>\n",
       "      <th>std</th>\n",
       "      <th>min</th>\n",
       "      <th>25%</th>\n",
       "      <th>50%</th>\n",
       "      <th>75%</th>\n",
       "      <th>max</th>\n",
       "    </tr>\n",
       "  </thead>\n",
       "  <tbody>\n",
       "    <tr>\n",
       "      <th>ApplicantIncome</th>\n",
       "      <td>381.0</td>\n",
       "      <td>3579.845144</td>\n",
       "      <td>1419.813818</td>\n",
       "      <td>150.0</td>\n",
       "      <td>2600.0</td>\n",
       "      <td>3333.0</td>\n",
       "      <td>4288.0</td>\n",
       "      <td>9703.0</td>\n",
       "    </tr>\n",
       "    <tr>\n",
       "      <th>CoapplicantIncome</th>\n",
       "      <td>381.0</td>\n",
       "      <td>1277.275381</td>\n",
       "      <td>2340.818114</td>\n",
       "      <td>0.0</td>\n",
       "      <td>0.0</td>\n",
       "      <td>983.0</td>\n",
       "      <td>2016.0</td>\n",
       "      <td>33837.0</td>\n",
       "    </tr>\n",
       "    <tr>\n",
       "      <th>LoanAmount</th>\n",
       "      <td>381.0</td>\n",
       "      <td>104.986877</td>\n",
       "      <td>28.358464</td>\n",
       "      <td>9.0</td>\n",
       "      <td>90.0</td>\n",
       "      <td>110.0</td>\n",
       "      <td>127.0</td>\n",
       "      <td>150.0</td>\n",
       "    </tr>\n",
       "    <tr>\n",
       "      <th>Loan_Amount_Term</th>\n",
       "      <td>370.0</td>\n",
       "      <td>340.864865</td>\n",
       "      <td>68.549257</td>\n",
       "      <td>12.0</td>\n",
       "      <td>360.0</td>\n",
       "      <td>360.0</td>\n",
       "      <td>360.0</td>\n",
       "      <td>480.0</td>\n",
       "    </tr>\n",
       "    <tr>\n",
       "      <th>Credit_History</th>\n",
       "      <td>351.0</td>\n",
       "      <td>0.837607</td>\n",
       "      <td>0.369338</td>\n",
       "      <td>0.0</td>\n",
       "      <td>1.0</td>\n",
       "      <td>1.0</td>\n",
       "      <td>1.0</td>\n",
       "      <td>1.0</td>\n",
       "    </tr>\n",
       "  </tbody>\n",
       "</table>\n",
       "</div>"
      ],
      "text/plain": [
       "                   count         mean          std    min     25%     50%  \\\n",
       "ApplicantIncome    381.0  3579.845144  1419.813818  150.0  2600.0  3333.0   \n",
       "CoapplicantIncome  381.0  1277.275381  2340.818114    0.0     0.0   983.0   \n",
       "LoanAmount         381.0   104.986877    28.358464    9.0    90.0   110.0   \n",
       "Loan_Amount_Term   370.0   340.864865    68.549257   12.0   360.0   360.0   \n",
       "Credit_History     351.0     0.837607     0.369338    0.0     1.0     1.0   \n",
       "\n",
       "                      75%      max  \n",
       "ApplicantIncome    4288.0   9703.0  \n",
       "CoapplicantIncome  2016.0  33837.0  \n",
       "LoanAmount          127.0    150.0  \n",
       "Loan_Amount_Term    360.0    480.0  \n",
       "Credit_History        1.0      1.0  "
      ]
     },
     "execution_count": 4,
     "metadata": {},
     "output_type": "execute_result"
    }
   ],
   "source": [
    "loan.describe().T"
   ]
  },
  {
   "cell_type": "code",
   "execution_count": 5,
   "id": "42fedc04",
   "metadata": {
    "execution": {
     "iopub.execute_input": "2024-03-02T15:33:48.572110Z",
     "iopub.status.busy": "2024-03-02T15:33:48.571650Z",
     "iopub.status.idle": "2024-03-02T15:33:48.594150Z",
     "shell.execute_reply": "2024-03-02T15:33:48.592641Z"
    },
    "papermill": {
     "duration": 0.04949,
     "end_time": "2024-03-02T15:33:48.596905",
     "exception": false,
     "start_time": "2024-03-02T15:33:48.547415",
     "status": "completed"
    },
    "tags": []
   },
   "outputs": [
    {
     "data": {
      "text/html": [
       "<div>\n",
       "<style scoped>\n",
       "    .dataframe tbody tr th:only-of-type {\n",
       "        vertical-align: middle;\n",
       "    }\n",
       "\n",
       "    .dataframe tbody tr th {\n",
       "        vertical-align: top;\n",
       "    }\n",
       "\n",
       "    .dataframe thead th {\n",
       "        text-align: right;\n",
       "    }\n",
       "</style>\n",
       "<table border=\"1\" class=\"dataframe\">\n",
       "  <thead>\n",
       "    <tr style=\"text-align: right;\">\n",
       "      <th></th>\n",
       "      <th>Loan_ID</th>\n",
       "      <th>Gender</th>\n",
       "      <th>Married</th>\n",
       "      <th>Dependents</th>\n",
       "      <th>Education</th>\n",
       "      <th>Self_Employed</th>\n",
       "      <th>ApplicantIncome</th>\n",
       "      <th>CoapplicantIncome</th>\n",
       "      <th>LoanAmount</th>\n",
       "      <th>Loan_Amount_Term</th>\n",
       "      <th>Credit_History</th>\n",
       "      <th>Property_Area</th>\n",
       "      <th>Loan_Status</th>\n",
       "    </tr>\n",
       "  </thead>\n",
       "  <tbody>\n",
       "    <tr>\n",
       "      <th>0</th>\n",
       "      <td>LP001003</td>\n",
       "      <td>Male</td>\n",
       "      <td>Yes</td>\n",
       "      <td>1</td>\n",
       "      <td>Graduate</td>\n",
       "      <td>No</td>\n",
       "      <td>4583</td>\n",
       "      <td>1508.0</td>\n",
       "      <td>128.0</td>\n",
       "      <td>360.0</td>\n",
       "      <td>1.0</td>\n",
       "      <td>Rural</td>\n",
       "      <td>N</td>\n",
       "    </tr>\n",
       "    <tr>\n",
       "      <th>1</th>\n",
       "      <td>LP001005</td>\n",
       "      <td>Male</td>\n",
       "      <td>Yes</td>\n",
       "      <td>0</td>\n",
       "      <td>Graduate</td>\n",
       "      <td>Yes</td>\n",
       "      <td>3000</td>\n",
       "      <td>0.0</td>\n",
       "      <td>66.0</td>\n",
       "      <td>360.0</td>\n",
       "      <td>1.0</td>\n",
       "      <td>Urban</td>\n",
       "      <td>Y</td>\n",
       "    </tr>\n",
       "    <tr>\n",
       "      <th>2</th>\n",
       "      <td>LP001006</td>\n",
       "      <td>Male</td>\n",
       "      <td>Yes</td>\n",
       "      <td>0</td>\n",
       "      <td>Not Graduate</td>\n",
       "      <td>No</td>\n",
       "      <td>2583</td>\n",
       "      <td>2358.0</td>\n",
       "      <td>120.0</td>\n",
       "      <td>360.0</td>\n",
       "      <td>1.0</td>\n",
       "      <td>Urban</td>\n",
       "      <td>Y</td>\n",
       "    </tr>\n",
       "    <tr>\n",
       "      <th>3</th>\n",
       "      <td>LP001008</td>\n",
       "      <td>Male</td>\n",
       "      <td>No</td>\n",
       "      <td>0</td>\n",
       "      <td>Graduate</td>\n",
       "      <td>No</td>\n",
       "      <td>6000</td>\n",
       "      <td>0.0</td>\n",
       "      <td>141.0</td>\n",
       "      <td>360.0</td>\n",
       "      <td>1.0</td>\n",
       "      <td>Urban</td>\n",
       "      <td>Y</td>\n",
       "    </tr>\n",
       "    <tr>\n",
       "      <th>4</th>\n",
       "      <td>LP001013</td>\n",
       "      <td>Male</td>\n",
       "      <td>Yes</td>\n",
       "      <td>0</td>\n",
       "      <td>Not Graduate</td>\n",
       "      <td>No</td>\n",
       "      <td>2333</td>\n",
       "      <td>1516.0</td>\n",
       "      <td>95.0</td>\n",
       "      <td>360.0</td>\n",
       "      <td>1.0</td>\n",
       "      <td>Urban</td>\n",
       "      <td>Y</td>\n",
       "    </tr>\n",
       "  </tbody>\n",
       "</table>\n",
       "</div>"
      ],
      "text/plain": [
       "    Loan_ID Gender Married Dependents     Education Self_Employed  \\\n",
       "0  LP001003   Male     Yes          1      Graduate            No   \n",
       "1  LP001005   Male     Yes          0      Graduate           Yes   \n",
       "2  LP001006   Male     Yes          0  Not Graduate            No   \n",
       "3  LP001008   Male      No          0      Graduate            No   \n",
       "4  LP001013   Male     Yes          0  Not Graduate            No   \n",
       "\n",
       "   ApplicantIncome  CoapplicantIncome  LoanAmount  Loan_Amount_Term  \\\n",
       "0             4583             1508.0       128.0             360.0   \n",
       "1             3000                0.0        66.0             360.0   \n",
       "2             2583             2358.0       120.0             360.0   \n",
       "3             6000                0.0       141.0             360.0   \n",
       "4             2333             1516.0        95.0             360.0   \n",
       "\n",
       "   Credit_History Property_Area Loan_Status  \n",
       "0             1.0         Rural           N  \n",
       "1             1.0         Urban           Y  \n",
       "2             1.0         Urban           Y  \n",
       "3             1.0         Urban           Y  \n",
       "4             1.0         Urban           Y  "
      ]
     },
     "execution_count": 5,
     "metadata": {},
     "output_type": "execute_result"
    }
   ],
   "source": [
    "#creating a dataset copy\n",
    "df = loan.copy()\n",
    "df.head()"
   ]
  },
  {
   "cell_type": "markdown",
   "id": "fa2fd5ed",
   "metadata": {
    "papermill": {
     "duration": 0.021209,
     "end_time": "2024-03-02T15:33:48.639094",
     "exception": false,
     "start_time": "2024-03-02T15:33:48.617885",
     "status": "completed"
    },
    "tags": []
   },
   "source": [
    "### Data Sanity Checks"
   ]
  },
  {
   "cell_type": "code",
   "execution_count": 6,
   "id": "c30af44b",
   "metadata": {
    "execution": {
     "iopub.execute_input": "2024-03-02T15:33:48.683724Z",
     "iopub.status.busy": "2024-03-02T15:33:48.683298Z",
     "iopub.status.idle": "2024-03-02T15:33:48.691508Z",
     "shell.execute_reply": "2024-03-02T15:33:48.690022Z"
    },
    "papermill": {
     "duration": 0.03455,
     "end_time": "2024-03-02T15:33:48.694477",
     "exception": false,
     "start_time": "2024-03-02T15:33:48.659927",
     "status": "completed"
    },
    "tags": []
   },
   "outputs": [
    {
     "data": {
      "text/plain": [
       "(381, 13)"
      ]
     },
     "execution_count": 6,
     "metadata": {},
     "output_type": "execute_result"
    }
   ],
   "source": [
    "#get the shape of the data-The data has 381 rows and 13 columns\n",
    "loan.shape"
   ]
  },
  {
   "cell_type": "code",
   "execution_count": 7,
   "id": "8f231d27",
   "metadata": {
    "execution": {
     "iopub.execute_input": "2024-03-02T15:33:48.740439Z",
     "iopub.status.busy": "2024-03-02T15:33:48.740022Z",
     "iopub.status.idle": "2024-03-02T15:33:48.750555Z",
     "shell.execute_reply": "2024-03-02T15:33:48.749236Z"
    },
    "papermill": {
     "duration": 0.036445,
     "end_time": "2024-03-02T15:33:48.753078",
     "exception": false,
     "start_time": "2024-03-02T15:33:48.716633",
     "status": "completed"
    },
    "tags": []
   },
   "outputs": [
    {
     "data": {
      "text/plain": [
       "Loan_ID               0\n",
       "Gender                5\n",
       "Married               0\n",
       "Dependents            8\n",
       "Education             0\n",
       "Self_Employed        21\n",
       "ApplicantIncome       0\n",
       "CoapplicantIncome     0\n",
       "LoanAmount            0\n",
       "Loan_Amount_Term     11\n",
       "Credit_History       30\n",
       "Property_Area         0\n",
       "Loan_Status           0\n",
       "dtype: int64"
      ]
     },
     "execution_count": 7,
     "metadata": {},
     "output_type": "execute_result"
    }
   ],
   "source": [
    "#checking missing values\n",
    "    #The columns with missing values in our dataset include:\n",
    "    #Gender: 5\n",
    "    #Dependants: 8\n",
    "    #Self_Employed: 21\n",
    "    #Loan_Amount_Term: 11\n",
    "    #Credit_History: 30(Highest\n",
    "                   \n",
    "loan.isnull().sum()"
   ]
  },
  {
   "cell_type": "code",
   "execution_count": 8,
   "id": "abc8cd23",
   "metadata": {
    "execution": {
     "iopub.execute_input": "2024-03-02T15:33:48.799678Z",
     "iopub.status.busy": "2024-03-02T15:33:48.799256Z",
     "iopub.status.idle": "2024-03-02T15:33:48.814416Z",
     "shell.execute_reply": "2024-03-02T15:33:48.813252Z"
    },
    "papermill": {
     "duration": 0.041575,
     "end_time": "2024-03-02T15:33:48.817054",
     "exception": false,
     "start_time": "2024-03-02T15:33:48.775479",
     "status": "completed"
    },
    "tags": []
   },
   "outputs": [
    {
     "data": {
      "text/plain": [
       "0"
      ]
     },
     "execution_count": 8,
     "metadata": {},
     "output_type": "execute_result"
    }
   ],
   "source": [
    "#checking for duplicates-There are no duplicates in the dataset\n",
    "loan.duplicated().sum()"
   ]
  },
  {
   "cell_type": "code",
   "execution_count": 9,
   "id": "8a319e70",
   "metadata": {
    "execution": {
     "iopub.execute_input": "2024-03-02T15:33:48.861980Z",
     "iopub.status.busy": "2024-03-02T15:33:48.861552Z",
     "iopub.status.idle": "2024-03-02T15:33:48.885428Z",
     "shell.execute_reply": "2024-03-02T15:33:48.884008Z"
    },
    "papermill": {
     "duration": 0.049575,
     "end_time": "2024-03-02T15:33:48.888005",
     "exception": false,
     "start_time": "2024-03-02T15:33:48.838430",
     "status": "completed"
    },
    "tags": []
   },
   "outputs": [
    {
     "name": "stdout",
     "output_type": "stream",
     "text": [
      "<class 'pandas.core.frame.DataFrame'>\n",
      "RangeIndex: 381 entries, 0 to 380\n",
      "Data columns (total 13 columns):\n",
      " #   Column             Non-Null Count  Dtype  \n",
      "---  ------             --------------  -----  \n",
      " 0   Loan_ID            381 non-null    object \n",
      " 1   Gender             376 non-null    object \n",
      " 2   Married            381 non-null    object \n",
      " 3   Dependents         373 non-null    object \n",
      " 4   Education          381 non-null    object \n",
      " 5   Self_Employed      360 non-null    object \n",
      " 6   ApplicantIncome    381 non-null    int64  \n",
      " 7   CoapplicantIncome  381 non-null    float64\n",
      " 8   LoanAmount         381 non-null    float64\n",
      " 9   Loan_Amount_Term   370 non-null    float64\n",
      " 10  Credit_History     351 non-null    float64\n",
      " 11  Property_Area      381 non-null    object \n",
      " 12  Loan_Status        381 non-null    object \n",
      "dtypes: float64(4), int64(1), object(8)\n",
      "memory usage: 38.8+ KB\n"
     ]
    }
   ],
   "source": [
    "#The dataset has the following datatypes:\n",
    "    #float: 4 columns\n",
    "    #Integers: 1 column\n",
    "    #Object(string): 8 columns\n",
    "\n",
    "loan.info()"
   ]
  },
  {
   "cell_type": "code",
   "execution_count": 10,
   "id": "7752427a",
   "metadata": {
    "execution": {
     "iopub.execute_input": "2024-03-02T15:33:48.934511Z",
     "iopub.status.busy": "2024-03-02T15:33:48.933637Z",
     "iopub.status.idle": "2024-03-02T15:33:48.962299Z",
     "shell.execute_reply": "2024-03-02T15:33:48.960987Z"
    },
    "papermill": {
     "duration": 0.054588,
     "end_time": "2024-03-02T15:33:48.964647",
     "exception": false,
     "start_time": "2024-03-02T15:33:48.910059",
     "status": "completed"
    },
    "tags": []
   },
   "outputs": [
    {
     "data": {
      "text/html": [
       "<div>\n",
       "<style scoped>\n",
       "    .dataframe tbody tr th:only-of-type {\n",
       "        vertical-align: middle;\n",
       "    }\n",
       "\n",
       "    .dataframe tbody tr th {\n",
       "        vertical-align: top;\n",
       "    }\n",
       "\n",
       "    .dataframe thead th {\n",
       "        text-align: right;\n",
       "    }\n",
       "</style>\n",
       "<table border=\"1\" class=\"dataframe\">\n",
       "  <thead>\n",
       "    <tr style=\"text-align: right;\">\n",
       "      <th></th>\n",
       "      <th>count</th>\n",
       "      <th>mean</th>\n",
       "      <th>std</th>\n",
       "      <th>min</th>\n",
       "      <th>25%</th>\n",
       "      <th>50%</th>\n",
       "      <th>75%</th>\n",
       "      <th>max</th>\n",
       "    </tr>\n",
       "  </thead>\n",
       "  <tbody>\n",
       "    <tr>\n",
       "      <th>ApplicantIncome</th>\n",
       "      <td>381.0</td>\n",
       "      <td>3579.845144</td>\n",
       "      <td>1419.813818</td>\n",
       "      <td>150.0</td>\n",
       "      <td>2600.0</td>\n",
       "      <td>3333.0</td>\n",
       "      <td>4288.0</td>\n",
       "      <td>9703.0</td>\n",
       "    </tr>\n",
       "    <tr>\n",
       "      <th>CoapplicantIncome</th>\n",
       "      <td>381.0</td>\n",
       "      <td>1277.275381</td>\n",
       "      <td>2340.818114</td>\n",
       "      <td>0.0</td>\n",
       "      <td>0.0</td>\n",
       "      <td>983.0</td>\n",
       "      <td>2016.0</td>\n",
       "      <td>33837.0</td>\n",
       "    </tr>\n",
       "    <tr>\n",
       "      <th>LoanAmount</th>\n",
       "      <td>381.0</td>\n",
       "      <td>104.986877</td>\n",
       "      <td>28.358464</td>\n",
       "      <td>9.0</td>\n",
       "      <td>90.0</td>\n",
       "      <td>110.0</td>\n",
       "      <td>127.0</td>\n",
       "      <td>150.0</td>\n",
       "    </tr>\n",
       "    <tr>\n",
       "      <th>Loan_Amount_Term</th>\n",
       "      <td>370.0</td>\n",
       "      <td>340.864865</td>\n",
       "      <td>68.549257</td>\n",
       "      <td>12.0</td>\n",
       "      <td>360.0</td>\n",
       "      <td>360.0</td>\n",
       "      <td>360.0</td>\n",
       "      <td>480.0</td>\n",
       "    </tr>\n",
       "    <tr>\n",
       "      <th>Credit_History</th>\n",
       "      <td>351.0</td>\n",
       "      <td>0.837607</td>\n",
       "      <td>0.369338</td>\n",
       "      <td>0.0</td>\n",
       "      <td>1.0</td>\n",
       "      <td>1.0</td>\n",
       "      <td>1.0</td>\n",
       "      <td>1.0</td>\n",
       "    </tr>\n",
       "  </tbody>\n",
       "</table>\n",
       "</div>"
      ],
      "text/plain": [
       "                   count         mean          std    min     25%     50%  \\\n",
       "ApplicantIncome    381.0  3579.845144  1419.813818  150.0  2600.0  3333.0   \n",
       "CoapplicantIncome  381.0  1277.275381  2340.818114    0.0     0.0   983.0   \n",
       "LoanAmount         381.0   104.986877    28.358464    9.0    90.0   110.0   \n",
       "Loan_Amount_Term   370.0   340.864865    68.549257   12.0   360.0   360.0   \n",
       "Credit_History     351.0     0.837607     0.369338    0.0     1.0     1.0   \n",
       "\n",
       "                      75%      max  \n",
       "ApplicantIncome    4288.0   9703.0  \n",
       "CoapplicantIncome  2016.0  33837.0  \n",
       "LoanAmount          127.0    150.0  \n",
       "Loan_Amount_Term    360.0    480.0  \n",
       "Credit_History        1.0      1.0  "
      ]
     },
     "execution_count": 10,
     "metadata": {},
     "output_type": "execute_result"
    }
   ],
   "source": [
    "#descriptive statistics of the numerical columns\n",
    "loan.describe().T"
   ]
  },
  {
   "cell_type": "code",
   "execution_count": 11,
   "id": "f907bc6b",
   "metadata": {
    "execution": {
     "iopub.execute_input": "2024-03-02T15:33:49.010575Z",
     "iopub.status.busy": "2024-03-02T15:33:49.009906Z",
     "iopub.status.idle": "2024-03-02T15:33:49.032805Z",
     "shell.execute_reply": "2024-03-02T15:33:49.031765Z"
    },
    "papermill": {
     "duration": 0.048811,
     "end_time": "2024-03-02T15:33:49.035305",
     "exception": false,
     "start_time": "2024-03-02T15:33:48.986494",
     "status": "completed"
    },
    "tags": []
   },
   "outputs": [
    {
     "data": {
      "text/html": [
       "<div>\n",
       "<style scoped>\n",
       "    .dataframe tbody tr th:only-of-type {\n",
       "        vertical-align: middle;\n",
       "    }\n",
       "\n",
       "    .dataframe tbody tr th {\n",
       "        vertical-align: top;\n",
       "    }\n",
       "\n",
       "    .dataframe thead th {\n",
       "        text-align: right;\n",
       "    }\n",
       "</style>\n",
       "<table border=\"1\" class=\"dataframe\">\n",
       "  <thead>\n",
       "    <tr style=\"text-align: right;\">\n",
       "      <th></th>\n",
       "      <th>count</th>\n",
       "      <th>unique</th>\n",
       "      <th>top</th>\n",
       "      <th>freq</th>\n",
       "    </tr>\n",
       "  </thead>\n",
       "  <tbody>\n",
       "    <tr>\n",
       "      <th>Loan_ID</th>\n",
       "      <td>381</td>\n",
       "      <td>381</td>\n",
       "      <td>LP001003</td>\n",
       "      <td>1</td>\n",
       "    </tr>\n",
       "    <tr>\n",
       "      <th>Gender</th>\n",
       "      <td>376</td>\n",
       "      <td>2</td>\n",
       "      <td>Male</td>\n",
       "      <td>291</td>\n",
       "    </tr>\n",
       "    <tr>\n",
       "      <th>Married</th>\n",
       "      <td>381</td>\n",
       "      <td>2</td>\n",
       "      <td>Yes</td>\n",
       "      <td>228</td>\n",
       "    </tr>\n",
       "    <tr>\n",
       "      <th>Dependents</th>\n",
       "      <td>373</td>\n",
       "      <td>4</td>\n",
       "      <td>0</td>\n",
       "      <td>234</td>\n",
       "    </tr>\n",
       "    <tr>\n",
       "      <th>Education</th>\n",
       "      <td>381</td>\n",
       "      <td>2</td>\n",
       "      <td>Graduate</td>\n",
       "      <td>278</td>\n",
       "    </tr>\n",
       "    <tr>\n",
       "      <th>Self_Employed</th>\n",
       "      <td>360</td>\n",
       "      <td>2</td>\n",
       "      <td>No</td>\n",
       "      <td>325</td>\n",
       "    </tr>\n",
       "    <tr>\n",
       "      <th>Property_Area</th>\n",
       "      <td>381</td>\n",
       "      <td>3</td>\n",
       "      <td>Semiurban</td>\n",
       "      <td>149</td>\n",
       "    </tr>\n",
       "    <tr>\n",
       "      <th>Loan_Status</th>\n",
       "      <td>381</td>\n",
       "      <td>2</td>\n",
       "      <td>Y</td>\n",
       "      <td>271</td>\n",
       "    </tr>\n",
       "  </tbody>\n",
       "</table>\n",
       "</div>"
      ],
      "text/plain": [
       "              count unique        top freq\n",
       "Loan_ID         381    381   LP001003    1\n",
       "Gender          376      2       Male  291\n",
       "Married         381      2        Yes  228\n",
       "Dependents      373      4          0  234\n",
       "Education       381      2   Graduate  278\n",
       "Self_Employed   360      2         No  325\n",
       "Property_Area   381      3  Semiurban  149\n",
       "Loan_Status     381      2          Y  271"
      ]
     },
     "execution_count": 11,
     "metadata": {},
     "output_type": "execute_result"
    }
   ],
   "source": [
    "#descriptive statistics of the obejct columns\n",
    "loan.describe(include = 'object').T"
   ]
  },
  {
   "cell_type": "markdown",
   "id": "8049c879",
   "metadata": {
    "papermill": {
     "duration": 0.021677,
     "end_time": "2024-03-02T15:33:49.080981",
     "exception": false,
     "start_time": "2024-03-02T15:33:49.059304",
     "status": "completed"
    },
    "tags": []
   },
   "source": [
    "### Univariate Analysis"
   ]
  },
  {
   "cell_type": "code",
   "execution_count": 12,
   "id": "80ce10d7",
   "metadata": {
    "execution": {
     "iopub.execute_input": "2024-03-02T15:33:49.127337Z",
     "iopub.status.busy": "2024-03-02T15:33:49.126571Z",
     "iopub.status.idle": "2024-03-02T15:33:49.134422Z",
     "shell.execute_reply": "2024-03-02T15:33:49.133437Z"
    },
    "papermill": {
     "duration": 0.034131,
     "end_time": "2024-03-02T15:33:49.137054",
     "exception": false,
     "start_time": "2024-03-02T15:33:49.102923",
     "status": "completed"
    },
    "tags": []
   },
   "outputs": [
    {
     "data": {
      "text/plain": [
       "Property_Area\n",
       "Semiurban    149\n",
       "Urban        126\n",
       "Rural        106\n",
       "Name: count, dtype: int64"
      ]
     },
     "execution_count": 12,
     "metadata": {},
     "output_type": "execute_result"
    }
   ],
   "source": [
    "#The property area is divided into 3:\n",
    "    #SemiUrban: 149\n",
    "    #Urban: 126\n",
    "    #Rural: 106\n",
    "loan['Property_Area'].value_counts()"
   ]
  },
  {
   "cell_type": "code",
   "execution_count": 13,
   "id": "9839220e",
   "metadata": {
    "execution": {
     "iopub.execute_input": "2024-03-02T15:33:49.184899Z",
     "iopub.status.busy": "2024-03-02T15:33:49.184272Z",
     "iopub.status.idle": "2024-03-02T15:33:49.192329Z",
     "shell.execute_reply": "2024-03-02T15:33:49.191192Z"
    },
    "papermill": {
     "duration": 0.034817,
     "end_time": "2024-03-02T15:33:49.194992",
     "exception": false,
     "start_time": "2024-03-02T15:33:49.160175",
     "status": "completed"
    },
    "tags": []
   },
   "outputs": [
    {
     "data": {
      "text/plain": [
       "Education\n",
       "Graduate        278\n",
       "Not Graduate    103\n",
       "Name: count, dtype: int64"
      ]
     },
     "execution_count": 13,
     "metadata": {},
     "output_type": "execute_result"
    }
   ],
   "source": [
    "#From the loan applicants, 278 are graduates while 103 have not graduated\n",
    "loan['Education'].value_counts()"
   ]
  },
  {
   "cell_type": "code",
   "execution_count": 14,
   "id": "e8377eae",
   "metadata": {
    "execution": {
     "iopub.execute_input": "2024-03-02T15:33:49.242875Z",
     "iopub.status.busy": "2024-03-02T15:33:49.242463Z",
     "iopub.status.idle": "2024-03-02T15:33:49.251564Z",
     "shell.execute_reply": "2024-03-02T15:33:49.250268Z"
    },
    "papermill": {
     "duration": 0.03584,
     "end_time": "2024-03-02T15:33:49.253867",
     "exception": false,
     "start_time": "2024-03-02T15:33:49.218027",
     "status": "completed"
    },
    "tags": []
   },
   "outputs": [
    {
     "data": {
      "text/plain": [
       "Dependents\n",
       "0     234\n",
       "2      59\n",
       "1      52\n",
       "3+     28\n",
       "Name: count, dtype: int64"
      ]
     },
     "execution_count": 14,
     "metadata": {},
     "output_type": "execute_result"
    }
   ],
   "source": [
    "#The dependent variable\n",
    "loan['Dependents'].value_counts()"
   ]
  },
  {
   "cell_type": "code",
   "execution_count": 15,
   "id": "6f224862",
   "metadata": {
    "execution": {
     "iopub.execute_input": "2024-03-02T15:33:49.300822Z",
     "iopub.status.busy": "2024-03-02T15:33:49.300403Z",
     "iopub.status.idle": "2024-03-02T15:33:49.309522Z",
     "shell.execute_reply": "2024-03-02T15:33:49.308338Z"
    },
    "papermill": {
     "duration": 0.035553,
     "end_time": "2024-03-02T15:33:49.311897",
     "exception": false,
     "start_time": "2024-03-02T15:33:49.276344",
     "status": "completed"
    },
    "tags": []
   },
   "outputs": [
    {
     "data": {
      "text/plain": [
       "Loan_Status\n",
       "Y    271\n",
       "N    110\n",
       "Name: count, dtype: int64"
      ]
     },
     "execution_count": 15,
     "metadata": {},
     "output_type": "execute_result"
    }
   ],
   "source": [
    "#271 people were given a loan while 110 were not\n",
    "loan['Loan_Status'].value_counts()"
   ]
  },
  {
   "cell_type": "code",
   "execution_count": 16,
   "id": "4b78d302",
   "metadata": {
    "execution": {
     "iopub.execute_input": "2024-03-02T15:33:49.359160Z",
     "iopub.status.busy": "2024-03-02T15:33:49.358737Z",
     "iopub.status.idle": "2024-03-02T15:33:49.368644Z",
     "shell.execute_reply": "2024-03-02T15:33:49.367339Z"
    },
    "papermill": {
     "duration": 0.036317,
     "end_time": "2024-03-02T15:33:49.371103",
     "exception": false,
     "start_time": "2024-03-02T15:33:49.334786",
     "status": "completed"
    },
    "tags": []
   },
   "outputs": [
    {
     "data": {
      "text/plain": [
       "Loan_ID               0\n",
       "Gender                5\n",
       "Married               0\n",
       "Dependents            8\n",
       "Education             0\n",
       "Self_Employed        21\n",
       "ApplicantIncome       0\n",
       "CoapplicantIncome     0\n",
       "LoanAmount            0\n",
       "Loan_Amount_Term     11\n",
       "Credit_History       30\n",
       "Property_Area         0\n",
       "Loan_Status           0\n",
       "dtype: int64"
      ]
     },
     "execution_count": 16,
     "metadata": {},
     "output_type": "execute_result"
    }
   ],
   "source": [
    "loan.isnull().sum()"
   ]
  },
  {
   "cell_type": "markdown",
   "id": "fbc9a993",
   "metadata": {
    "papermill": {
     "duration": 0.022597,
     "end_time": "2024-03-02T15:33:49.417818",
     "exception": false,
     "start_time": "2024-03-02T15:33:49.395221",
     "status": "completed"
    },
    "tags": []
   },
   "source": [
    "### Plots"
   ]
  },
  {
   "cell_type": "code",
   "execution_count": 17,
   "id": "aa29b2b0",
   "metadata": {
    "execution": {
     "iopub.execute_input": "2024-03-02T15:33:49.466349Z",
     "iopub.status.busy": "2024-03-02T15:33:49.465808Z",
     "iopub.status.idle": "2024-03-02T15:33:49.942536Z",
     "shell.execute_reply": "2024-03-02T15:33:49.941247Z"
    },
    "papermill": {
     "duration": 0.504234,
     "end_time": "2024-03-02T15:33:49.945611",
     "exception": false,
     "start_time": "2024-03-02T15:33:49.441377",
     "status": "completed"
    },
    "tags": []
   },
   "outputs": [
    {
     "name": "stderr",
     "output_type": "stream",
     "text": [
      "/opt/conda/lib/python3.10/site-packages/seaborn/_oldcore.py:1119: FutureWarning: use_inf_as_na option is deprecated and will be removed in a future version. Convert inf values to NaN before operating instead.\n",
      "  with pd.option_context('mode.use_inf_as_na', True):\n"
     ]
    },
    {
     "data": {
      "text/plain": [
       "Text(0.5, 1.0, 'A plot showing the distribution of the loan amount term')"
      ]
     },
     "execution_count": 17,
     "metadata": {},
     "output_type": "execute_result"
    },
    {
     "data": {
      "image/png": "[encoded data removed]",
      "text/plain": [
       "<Figure size 640x480 with 1 Axes>"
      ]
     },
     "metadata": {},
     "output_type": "display_data"
    }
   ],
   "source": [
    "#A histogram\n",
    "sns.histplot(loan, x = 'Loan_Amount_Term', kde = True)\n",
    "plt.title(\"A plot showing the distribution of the loan amount term\")"
   ]
  },
  {
   "cell_type": "code",
   "execution_count": 18,
   "id": "6563deb5",
   "metadata": {
    "execution": {
     "iopub.execute_input": "2024-03-02T15:33:49.995060Z",
     "iopub.status.busy": "2024-03-02T15:33:49.994601Z",
     "iopub.status.idle": "2024-03-02T15:33:50.183306Z",
     "shell.execute_reply": "2024-03-02T15:33:50.181991Z"
    },
    "papermill": {
     "duration": 0.216397,
     "end_time": "2024-03-02T15:33:50.185850",
     "exception": false,
     "start_time": "2024-03-02T15:33:49.969453",
     "status": "completed"
    },
    "tags": []
   },
   "outputs": [
    {
     "data": {
      "text/plain": [
       "Text(0.5, 1.0, 'A plot showing the distribution of the loan amount term')"
      ]
     },
     "execution_count": 18,
     "metadata": {},
     "output_type": "execute_result"
    },
    {
     "data": {
      "image/png": "[encoded data removed]",
      "text/plain": [
       "<Figure size 640x480 with 1 Axes>"
      ]
     },
     "metadata": {},
     "output_type": "display_data"
    }
   ],
   "source": [
    "#a boxplot\n",
    "sns.boxplot(loan, x = 'Loan_Amount_Term')\n",
    "plt.title(\"A plot showing the distribution of the loan amount term\")"
   ]
  },
  {
   "cell_type": "code",
   "execution_count": 19,
   "id": "7b91b3e6",
   "metadata": {
    "execution": {
     "iopub.execute_input": "2024-03-02T15:33:50.297305Z",
     "iopub.status.busy": "2024-03-02T15:33:50.296609Z",
     "iopub.status.idle": "2024-03-02T15:33:50.303855Z",
     "shell.execute_reply": "2024-03-02T15:33:50.302755Z"
    },
    "papermill": {
     "duration": 0.035645,
     "end_time": "2024-03-02T15:33:50.306225",
     "exception": false,
     "start_time": "2024-03-02T15:33:50.270580",
     "status": "completed"
    },
    "tags": []
   },
   "outputs": [
    {
     "data": {
      "text/plain": [
       "360.0"
      ]
     },
     "execution_count": 19,
     "metadata": {},
     "output_type": "execute_result"
    }
   ],
   "source": [
    "med1= loan['Loan_Amount_Term'].median()\n",
    "med1"
   ]
  },
  {
   "cell_type": "code",
   "execution_count": 20,
   "id": "ef98f7c9",
   "metadata": {
    "execution": {
     "iopub.execute_input": "2024-03-02T15:33:50.357363Z",
     "iopub.status.busy": "2024-03-02T15:33:50.356952Z",
     "iopub.status.idle": "2024-03-02T15:33:50.364848Z",
     "shell.execute_reply": "2024-03-02T15:33:50.363677Z"
    },
    "papermill": {
     "duration": 0.03712,
     "end_time": "2024-03-02T15:33:50.367596",
     "exception": false,
     "start_time": "2024-03-02T15:33:50.330476",
     "status": "completed"
    },
    "tags": []
   },
   "outputs": [
    {
     "data": {
      "text/plain": [
       "360.0"
      ]
     },
     "execution_count": 20,
     "metadata": {},
     "output_type": "execute_result"
    }
   ],
   "source": [
    "#for confirmation\n",
    "med2 = np.nanmedian(loan['Loan_Amount_Term'])\n",
    "med2"
   ]
  },
  {
   "cell_type": "code",
   "execution_count": 21,
   "id": "ddb628ac",
   "metadata": {
    "execution": {
     "iopub.execute_input": "2024-03-02T15:33:50.423115Z",
     "iopub.status.busy": "2024-03-02T15:33:50.421858Z",
     "iopub.status.idle": "2024-03-02T15:33:50.429862Z",
     "shell.execute_reply": "2024-03-02T15:33:50.428959Z"
    },
    "papermill": {
     "duration": 0.039185,
     "end_time": "2024-03-02T15:33:50.431997",
     "exception": false,
     "start_time": "2024-03-02T15:33:50.392812",
     "status": "completed"
    },
    "tags": []
   },
   "outputs": [
    {
     "data": {
      "text/plain": [
       "340.86486486486484"
      ]
     },
     "execution_count": 21,
     "metadata": {},
     "output_type": "execute_result"
    }
   ],
   "source": [
    "mean1 = loan['Loan_Amount_Term'].mean()\n",
    "mean1"
   ]
  },
  {
   "cell_type": "code",
   "execution_count": 22,
   "id": "aa271045",
   "metadata": {
    "execution": {
     "iopub.execute_input": "2024-03-02T15:33:50.484902Z",
     "iopub.status.busy": "2024-03-02T15:33:50.483828Z",
     "iopub.status.idle": "2024-03-02T15:33:50.491522Z",
     "shell.execute_reply": "2024-03-02T15:33:50.490399Z"
    },
    "papermill": {
     "duration": 0.036864,
     "end_time": "2024-03-02T15:33:50.493788",
     "exception": false,
     "start_time": "2024-03-02T15:33:50.456924",
     "status": "completed"
    },
    "tags": []
   },
   "outputs": [
    {
     "data": {
      "text/plain": [
       "340.86486486486484"
      ]
     },
     "execution_count": 22,
     "metadata": {},
     "output_type": "execute_result"
    }
   ],
   "source": [
    "mean2 = np.mean(loan['Loan_Amount_Term'])\n",
    "mean2"
   ]
  },
  {
   "cell_type": "code",
   "execution_count": 23,
   "id": "5f9a912e",
   "metadata": {
    "execution": {
     "iopub.execute_input": "2024-03-02T15:33:50.547881Z",
     "iopub.status.busy": "2024-03-02T15:33:50.547162Z",
     "iopub.status.idle": "2024-03-02T15:33:50.557697Z",
     "shell.execute_reply": "2024-03-02T15:33:50.556582Z"
    },
    "papermill": {
     "duration": 0.040243,
     "end_time": "2024-03-02T15:33:50.560395",
     "exception": false,
     "start_time": "2024-03-02T15:33:50.520152",
     "status": "completed"
    },
    "tags": []
   },
   "outputs": [
    {
     "data": {
      "text/plain": [
       "0    360.0\n",
       "Name: Loan_Amount_Term, dtype: float64"
      ]
     },
     "execution_count": 23,
     "metadata": {},
     "output_type": "execute_result"
    }
   ],
   "source": [
    "mod1 = loan['Loan_Amount_Term'].mode()\n",
    "mod1"
   ]
  },
  {
   "cell_type": "code",
   "execution_count": 24,
   "id": "d003402e",
   "metadata": {
    "execution": {
     "iopub.execute_input": "2024-03-02T15:33:50.615327Z",
     "iopub.status.busy": "2024-03-02T15:33:50.614131Z",
     "iopub.status.idle": "2024-03-02T15:33:50.634101Z",
     "shell.execute_reply": "2024-03-02T15:33:50.632833Z"
    },
    "papermill": {
     "duration": 0.050601,
     "end_time": "2024-03-02T15:33:50.636770",
     "exception": false,
     "start_time": "2024-03-02T15:33:50.586169",
     "status": "completed"
    },
    "tags": []
   },
   "outputs": [
    {
     "data": {
      "text/html": [
       "<div>\n",
       "<style scoped>\n",
       "    .dataframe tbody tr th:only-of-type {\n",
       "        vertical-align: middle;\n",
       "    }\n",
       "\n",
       "    .dataframe tbody tr th {\n",
       "        vertical-align: top;\n",
       "    }\n",
       "\n",
       "    .dataframe thead th {\n",
       "        text-align: right;\n",
       "    }\n",
       "</style>\n",
       "<table border=\"1\" class=\"dataframe\">\n",
       "  <thead>\n",
       "    <tr style=\"text-align: right;\">\n",
       "      <th></th>\n",
       "      <th>Loan_ID</th>\n",
       "      <th>Gender</th>\n",
       "      <th>Married</th>\n",
       "      <th>Dependents</th>\n",
       "      <th>Education</th>\n",
       "      <th>Self_Employed</th>\n",
       "      <th>ApplicantIncome</th>\n",
       "      <th>CoapplicantIncome</th>\n",
       "      <th>LoanAmount</th>\n",
       "      <th>Loan_Amount_Term</th>\n",
       "      <th>Credit_History</th>\n",
       "      <th>Property_Area</th>\n",
       "      <th>Loan_Status</th>\n",
       "    </tr>\n",
       "  </thead>\n",
       "  <tbody>\n",
       "    <tr>\n",
       "      <th>0</th>\n",
       "      <td>LP001003</td>\n",
       "      <td>Male</td>\n",
       "      <td>Yes</td>\n",
       "      <td>1</td>\n",
       "      <td>Graduate</td>\n",
       "      <td>No</td>\n",
       "      <td>4583</td>\n",
       "      <td>1508.0</td>\n",
       "      <td>128.0</td>\n",
       "      <td>360.0</td>\n",
       "      <td>1.0</td>\n",
       "      <td>Rural</td>\n",
       "      <td>N</td>\n",
       "    </tr>\n",
       "    <tr>\n",
       "      <th>1</th>\n",
       "      <td>LP001005</td>\n",
       "      <td>Male</td>\n",
       "      <td>Yes</td>\n",
       "      <td>0</td>\n",
       "      <td>Graduate</td>\n",
       "      <td>Yes</td>\n",
       "      <td>3000</td>\n",
       "      <td>0.0</td>\n",
       "      <td>66.0</td>\n",
       "      <td>360.0</td>\n",
       "      <td>1.0</td>\n",
       "      <td>Urban</td>\n",
       "      <td>Y</td>\n",
       "    </tr>\n",
       "    <tr>\n",
       "      <th>2</th>\n",
       "      <td>LP001006</td>\n",
       "      <td>Male</td>\n",
       "      <td>Yes</td>\n",
       "      <td>0</td>\n",
       "      <td>Not Graduate</td>\n",
       "      <td>No</td>\n",
       "      <td>2583</td>\n",
       "      <td>2358.0</td>\n",
       "      <td>120.0</td>\n",
       "      <td>360.0</td>\n",
       "      <td>1.0</td>\n",
       "      <td>Urban</td>\n",
       "      <td>Y</td>\n",
       "    </tr>\n",
       "    <tr>\n",
       "      <th>3</th>\n",
       "      <td>LP001008</td>\n",
       "      <td>Male</td>\n",
       "      <td>No</td>\n",
       "      <td>0</td>\n",
       "      <td>Graduate</td>\n",
       "      <td>No</td>\n",
       "      <td>6000</td>\n",
       "      <td>0.0</td>\n",
       "      <td>141.0</td>\n",
       "      <td>360.0</td>\n",
       "      <td>1.0</td>\n",
       "      <td>Urban</td>\n",
       "      <td>Y</td>\n",
       "    </tr>\n",
       "    <tr>\n",
       "      <th>4</th>\n",
       "      <td>LP001013</td>\n",
       "      <td>Male</td>\n",
       "      <td>Yes</td>\n",
       "      <td>0</td>\n",
       "      <td>Not Graduate</td>\n",
       "      <td>No</td>\n",
       "      <td>2333</td>\n",
       "      <td>1516.0</td>\n",
       "      <td>95.0</td>\n",
       "      <td>360.0</td>\n",
       "      <td>1.0</td>\n",
       "      <td>Urban</td>\n",
       "      <td>Y</td>\n",
       "    </tr>\n",
       "  </tbody>\n",
       "</table>\n",
       "</div>"
      ],
      "text/plain": [
       "    Loan_ID Gender Married Dependents     Education Self_Employed  \\\n",
       "0  LP001003   Male     Yes          1      Graduate            No   \n",
       "1  LP001005   Male     Yes          0      Graduate           Yes   \n",
       "2  LP001006   Male     Yes          0  Not Graduate            No   \n",
       "3  LP001008   Male      No          0      Graduate            No   \n",
       "4  LP001013   Male     Yes          0  Not Graduate            No   \n",
       "\n",
       "   ApplicantIncome  CoapplicantIncome  LoanAmount  Loan_Amount_Term  \\\n",
       "0             4583             1508.0       128.0             360.0   \n",
       "1             3000                0.0        66.0             360.0   \n",
       "2             2583             2358.0       120.0             360.0   \n",
       "3             6000                0.0       141.0             360.0   \n",
       "4             2333             1516.0        95.0             360.0   \n",
       "\n",
       "   Credit_History Property_Area Loan_Status  \n",
       "0             1.0         Rural           N  \n",
       "1             1.0         Urban           Y  \n",
       "2             1.0         Urban           Y  \n",
       "3             1.0         Urban           Y  \n",
       "4             1.0         Urban           Y  "
      ]
     },
     "execution_count": 24,
     "metadata": {},
     "output_type": "execute_result"
    }
   ],
   "source": [
    "loan.head()"
   ]
  },
  {
   "cell_type": "code",
   "execution_count": 25,
   "id": "9e134806",
   "metadata": {
    "execution": {
     "iopub.execute_input": "2024-03-02T15:33:50.690041Z",
     "iopub.status.busy": "2024-03-02T15:33:50.689575Z",
     "iopub.status.idle": "2024-03-02T15:33:50.700683Z",
     "shell.execute_reply": "2024-03-02T15:33:50.699481Z"
    },
    "papermill": {
     "duration": 0.040827,
     "end_time": "2024-03-02T15:33:50.703165",
     "exception": false,
     "start_time": "2024-03-02T15:33:50.662338",
     "status": "completed"
    },
    "tags": []
   },
   "outputs": [
    {
     "data": {
      "text/plain": [
       "Loan_ID               0\n",
       "Gender                5\n",
       "Married               0\n",
       "Dependents            8\n",
       "Education             0\n",
       "Self_Employed        21\n",
       "ApplicantIncome       0\n",
       "CoapplicantIncome     0\n",
       "LoanAmount            0\n",
       "Loan_Amount_Term      0\n",
       "Credit_History       30\n",
       "Property_Area         0\n",
       "Loan_Status           0\n",
       "dtype: int64"
      ]
     },
     "execution_count": 25,
     "metadata": {},
     "output_type": "execute_result"
    }
   ],
   "source": [
    "#filling the missing values\n",
    "loan.fillna({'Loan_Amount_Term': med1}, inplace = True)\n",
    "loan.isnull().sum()"
   ]
  },
  {
   "cell_type": "code",
   "execution_count": 26,
   "id": "d9fb40ed",
   "metadata": {
    "execution": {
     "iopub.execute_input": "2024-03-02T15:33:50.756500Z",
     "iopub.status.busy": "2024-03-02T15:33:50.756074Z",
     "iopub.status.idle": "2024-03-02T15:33:51.172893Z",
     "shell.execute_reply": "2024-03-02T15:33:51.171647Z"
    },
    "papermill": {
     "duration": 0.446634,
     "end_time": "2024-03-02T15:33:51.175747",
     "exception": false,
     "start_time": "2024-03-02T15:33:50.729113",
     "status": "completed"
    },
    "tags": []
   },
   "outputs": [
    {
     "name": "stderr",
     "output_type": "stream",
     "text": [
      "/opt/conda/lib/python3.10/site-packages/seaborn/_oldcore.py:1119: FutureWarning: use_inf_as_na option is deprecated and will be removed in a future version. Convert inf values to NaN before operating instead.\n",
      "  with pd.option_context('mode.use_inf_as_na', True):\n"
     ]
    },
    {
     "data": {
      "text/plain": [
       "Text(0.5, 1.0, 'A plot showing credit history')"
      ]
     },
     "execution_count": 26,
     "metadata": {},
     "output_type": "execute_result"
    },
    {
     "data": {
      "image/png": "[encoded data removed]",
      "text/plain": [
       "<Figure size 640x480 with 1 Axes>"
      ]
     },
     "metadata": {},
     "output_type": "display_data"
    }
   ],
   "source": [
    "#histogram of credit history\n",
    "sns.histplot(loan, x = 'Credit_History', kde = True )\n",
    "plt.title(\"A plot showing credit history\")"
   ]
  },
  {
   "cell_type": "code",
   "execution_count": 27,
   "id": "2dd2c81c",
   "metadata": {
    "execution": {
     "iopub.execute_input": "2024-03-02T15:33:51.231640Z",
     "iopub.status.busy": "2024-03-02T15:33:51.231215Z",
     "iopub.status.idle": "2024-03-02T15:33:51.239395Z",
     "shell.execute_reply": "2024-03-02T15:33:51.238283Z"
    },
    "papermill": {
     "duration": 0.038867,
     "end_time": "2024-03-02T15:33:51.241751",
     "exception": false,
     "start_time": "2024-03-02T15:33:51.202884",
     "status": "completed"
    },
    "tags": []
   },
   "outputs": [
    {
     "data": {
      "text/plain": [
       "1.0"
      ]
     },
     "execution_count": 27,
     "metadata": {},
     "output_type": "execute_result"
    }
   ],
   "source": [
    "med_ced = loan['Credit_History'].median()\n",
    "med_ced"
   ]
  },
  {
   "cell_type": "code",
   "execution_count": 28,
   "id": "ce24c6e0",
   "metadata": {
    "execution": {
     "iopub.execute_input": "2024-03-02T15:33:51.297355Z",
     "iopub.status.busy": "2024-03-02T15:33:51.296420Z",
     "iopub.status.idle": "2024-03-02T15:33:51.304603Z",
     "shell.execute_reply": "2024-03-02T15:33:51.303406Z"
    },
    "papermill": {
     "duration": 0.039178,
     "end_time": "2024-03-02T15:33:51.307308",
     "exception": false,
     "start_time": "2024-03-02T15:33:51.268130",
     "status": "completed"
    },
    "tags": []
   },
   "outputs": [
    {
     "data": {
      "text/plain": [
       "0.8376068376068376"
      ]
     },
     "execution_count": 28,
     "metadata": {},
     "output_type": "execute_result"
    }
   ],
   "source": [
    "med_mean = loan['Credit_History'].mean()\n",
    "med_mean"
   ]
  },
  {
   "cell_type": "code",
   "execution_count": 29,
   "id": "478b3b12",
   "metadata": {
    "execution": {
     "iopub.execute_input": "2024-03-02T15:33:51.363821Z",
     "iopub.status.busy": "2024-03-02T15:33:51.362426Z",
     "iopub.status.idle": "2024-03-02T15:33:51.372563Z",
     "shell.execute_reply": "2024-03-02T15:33:51.371072Z"
    },
    "papermill": {
     "duration": 0.042082,
     "end_time": "2024-03-02T15:33:51.376145",
     "exception": false,
     "start_time": "2024-03-02T15:33:51.334063",
     "status": "completed"
    },
    "tags": []
   },
   "outputs": [
    {
     "data": {
      "text/plain": [
       "0    1.0\n",
       "Name: Credit_History, dtype: float64"
      ]
     },
     "execution_count": 29,
     "metadata": {},
     "output_type": "execute_result"
    }
   ],
   "source": [
    "med_mode = loan['Credit_History'].mode()\n",
    "med_mode"
   ]
  },
  {
   "cell_type": "code",
   "execution_count": 30,
   "id": "7619db85",
   "metadata": {
    "execution": {
     "iopub.execute_input": "2024-03-02T15:33:51.447301Z",
     "iopub.status.busy": "2024-03-02T15:33:51.446586Z",
     "iopub.status.idle": "2024-03-02T15:33:51.458479Z",
     "shell.execute_reply": "2024-03-02T15:33:51.457030Z"
    },
    "papermill": {
     "duration": 0.050215,
     "end_time": "2024-03-02T15:33:51.461128",
     "exception": false,
     "start_time": "2024-03-02T15:33:51.410913",
     "status": "completed"
    },
    "tags": []
   },
   "outputs": [
    {
     "data": {
      "text/plain": [
       "Loan_ID               0\n",
       "Gender                5\n",
       "Married               0\n",
       "Dependents            8\n",
       "Education             0\n",
       "Self_Employed        21\n",
       "ApplicantIncome       0\n",
       "CoapplicantIncome     0\n",
       "LoanAmount            0\n",
       "Loan_Amount_Term      0\n",
       "Credit_History        0\n",
       "Property_Area         0\n",
       "Loan_Status           0\n",
       "dtype: int64"
      ]
     },
     "execution_count": 30,
     "metadata": {},
     "output_type": "execute_result"
    }
   ],
   "source": [
    "#filling in the missing values\n",
    "loan.fillna({'Credit_History': med_ced}, inplace = True)\n",
    "loan.isnull().sum()"
   ]
  },
  {
   "cell_type": "code",
   "execution_count": 31,
   "id": "b769caa7",
   "metadata": {
    "execution": {
     "iopub.execute_input": "2024-03-02T15:33:51.529576Z",
     "iopub.status.busy": "2024-03-02T15:33:51.529158Z",
     "iopub.status.idle": "2024-03-02T15:33:51.537073Z",
     "shell.execute_reply": "2024-03-02T15:33:51.535815Z"
    },
    "papermill": {
     "duration": 0.0446,
     "end_time": "2024-03-02T15:33:51.539882",
     "exception": false,
     "start_time": "2024-03-02T15:33:51.495282",
     "status": "completed"
    },
    "tags": []
   },
   "outputs": [
    {
     "name": "stdout",
     "output_type": "stream",
     "text": [
      "No\n"
     ]
    }
   ],
   "source": [
    "#get the mode\n",
    "mod1 = loan['Gender'].mode()\n",
    "mod1[0]\n",
    "\n",
    "mode2 = loan['Self_Employed'].mode()\n",
    "print(mode2[0])"
   ]
  },
  {
   "cell_type": "code",
   "execution_count": 32,
   "id": "78c2126f",
   "metadata": {
    "execution": {
     "iopub.execute_input": "2024-03-02T15:33:51.596504Z",
     "iopub.status.busy": "2024-03-02T15:33:51.595542Z",
     "iopub.status.idle": "2024-03-02T15:33:51.609162Z",
     "shell.execute_reply": "2024-03-02T15:33:51.607818Z"
    },
    "papermill": {
     "duration": 0.044919,
     "end_time": "2024-03-02T15:33:51.611691",
     "exception": false,
     "start_time": "2024-03-02T15:33:51.566772",
     "status": "completed"
    },
    "tags": []
   },
   "outputs": [
    {
     "data": {
      "text/plain": [
       "Loan_ID              0\n",
       "Gender               0\n",
       "Married              0\n",
       "Dependents           8\n",
       "Education            0\n",
       "Self_Employed        0\n",
       "ApplicantIncome      0\n",
       "CoapplicantIncome    0\n",
       "LoanAmount           0\n",
       "Loan_Amount_Term     0\n",
       "Credit_History       0\n",
       "Property_Area        0\n",
       "Loan_Status          0\n",
       "dtype: int64"
      ]
     },
     "execution_count": 32,
     "metadata": {},
     "output_type": "execute_result"
    }
   ],
   "source": [
    "#filling the missing values in the two columns\n",
    "loan.fillna({'Gender': mod1[0],'Self_Employed': mode2[0]}, inplace = True)\n",
    "loan.isnull().sum()"
   ]
  },
  {
   "cell_type": "code",
   "execution_count": 33,
   "id": "ab8c63bd",
   "metadata": {
    "execution": {
     "iopub.execute_input": "2024-03-02T15:33:51.668490Z",
     "iopub.status.busy": "2024-03-02T15:33:51.668063Z",
     "iopub.status.idle": "2024-03-02T15:33:51.676058Z",
     "shell.execute_reply": "2024-03-02T15:33:51.674806Z"
    },
    "papermill": {
     "duration": 0.039467,
     "end_time": "2024-03-02T15:33:51.678601",
     "exception": false,
     "start_time": "2024-03-02T15:33:51.639134",
     "status": "completed"
    },
    "tags": []
   },
   "outputs": [],
   "source": [
    "mod3 = loan['Dependents'].mode()\n",
    "loan.fillna({'Dependents': mod3[0]},inplace = True)\n"
   ]
  },
  {
   "cell_type": "code",
   "execution_count": 34,
   "id": "fd820739",
   "metadata": {
    "execution": {
     "iopub.execute_input": "2024-03-02T15:33:51.746837Z",
     "iopub.status.busy": "2024-03-02T15:33:51.745093Z",
     "iopub.status.idle": "2024-03-02T15:33:51.785574Z",
     "shell.execute_reply": "2024-03-02T15:33:51.784088Z"
    },
    "papermill": {
     "duration": 0.075125,
     "end_time": "2024-03-02T15:33:51.788359",
     "exception": false,
     "start_time": "2024-03-02T15:33:51.713234",
     "status": "completed"
    },
    "tags": []
   },
   "outputs": [
    {
     "data": {
      "text/html": [
       "<div>\n",
       "<style scoped>\n",
       "    .dataframe tbody tr th:only-of-type {\n",
       "        vertical-align: middle;\n",
       "    }\n",
       "\n",
       "    .dataframe tbody tr th {\n",
       "        vertical-align: top;\n",
       "    }\n",
       "\n",
       "    .dataframe thead th {\n",
       "        text-align: right;\n",
       "    }\n",
       "</style>\n",
       "<table border=\"1\" class=\"dataframe\">\n",
       "  <thead>\n",
       "    <tr style=\"text-align: right;\">\n",
       "      <th></th>\n",
       "      <th>count</th>\n",
       "      <th>mean</th>\n",
       "      <th>std</th>\n",
       "      <th>min</th>\n",
       "      <th>25%</th>\n",
       "      <th>50%</th>\n",
       "      <th>75%</th>\n",
       "      <th>max</th>\n",
       "    </tr>\n",
       "  </thead>\n",
       "  <tbody>\n",
       "    <tr>\n",
       "      <th>ApplicantIncome</th>\n",
       "      <td>381.0</td>\n",
       "      <td>3579.845144</td>\n",
       "      <td>1419.813818</td>\n",
       "      <td>150.0</td>\n",
       "      <td>2600.0</td>\n",
       "      <td>3333.0</td>\n",
       "      <td>4288.0</td>\n",
       "      <td>9703.0</td>\n",
       "    </tr>\n",
       "    <tr>\n",
       "      <th>CoapplicantIncome</th>\n",
       "      <td>381.0</td>\n",
       "      <td>1277.275381</td>\n",
       "      <td>2340.818114</td>\n",
       "      <td>0.0</td>\n",
       "      <td>0.0</td>\n",
       "      <td>983.0</td>\n",
       "      <td>2016.0</td>\n",
       "      <td>33837.0</td>\n",
       "    </tr>\n",
       "    <tr>\n",
       "      <th>LoanAmount</th>\n",
       "      <td>381.0</td>\n",
       "      <td>104.986877</td>\n",
       "      <td>28.358464</td>\n",
       "      <td>9.0</td>\n",
       "      <td>90.0</td>\n",
       "      <td>110.0</td>\n",
       "      <td>127.0</td>\n",
       "      <td>150.0</td>\n",
       "    </tr>\n",
       "    <tr>\n",
       "      <th>Loan_Amount_Term</th>\n",
       "      <td>381.0</td>\n",
       "      <td>341.417323</td>\n",
       "      <td>67.625957</td>\n",
       "      <td>12.0</td>\n",
       "      <td>360.0</td>\n",
       "      <td>360.0</td>\n",
       "      <td>360.0</td>\n",
       "      <td>480.0</td>\n",
       "    </tr>\n",
       "    <tr>\n",
       "      <th>Credit_History</th>\n",
       "      <td>381.0</td>\n",
       "      <td>0.850394</td>\n",
       "      <td>0.357154</td>\n",
       "      <td>0.0</td>\n",
       "      <td>1.0</td>\n",
       "      <td>1.0</td>\n",
       "      <td>1.0</td>\n",
       "      <td>1.0</td>\n",
       "    </tr>\n",
       "  </tbody>\n",
       "</table>\n",
       "</div>"
      ],
      "text/plain": [
       "                   count         mean          std    min     25%     50%  \\\n",
       "ApplicantIncome    381.0  3579.845144  1419.813818  150.0  2600.0  3333.0   \n",
       "CoapplicantIncome  381.0  1277.275381  2340.818114    0.0     0.0   983.0   \n",
       "LoanAmount         381.0   104.986877    28.358464    9.0    90.0   110.0   \n",
       "Loan_Amount_Term   381.0   341.417323    67.625957   12.0   360.0   360.0   \n",
       "Credit_History     381.0     0.850394     0.357154    0.0     1.0     1.0   \n",
       "\n",
       "                      75%      max  \n",
       "ApplicantIncome    4288.0   9703.0  \n",
       "CoapplicantIncome  2016.0  33837.0  \n",
       "LoanAmount          127.0    150.0  \n",
       "Loan_Amount_Term    360.0    480.0  \n",
       "Credit_History        1.0      1.0  "
      ]
     },
     "execution_count": 34,
     "metadata": {},
     "output_type": "execute_result"
    }
   ],
   "source": [
    "loan.describe().T"
   ]
  },
  {
   "cell_type": "code",
   "execution_count": 35,
   "id": "44b08103",
   "metadata": {
    "execution": {
     "iopub.execute_input": "2024-03-02T15:33:51.849212Z",
     "iopub.status.busy": "2024-03-02T15:33:51.847991Z",
     "iopub.status.idle": "2024-03-02T15:33:52.103627Z",
     "shell.execute_reply": "2024-03-02T15:33:52.102426Z"
    },
    "papermill": {
     "duration": 0.287669,
     "end_time": "2024-03-02T15:33:52.106793",
     "exception": false,
     "start_time": "2024-03-02T15:33:51.819124",
     "status": "completed"
    },
    "tags": []
   },
   "outputs": [
    {
     "data": {
      "text/plain": [
       "Text(0.5, 1.0, 'A plot showing the ApplicantIncome column')"
      ]
     },
     "execution_count": 35,
     "metadata": {},
     "output_type": "execute_result"
    },
    {
     "data": {
      "image/png": "[encoded data removed]",
      "text/plain": [
       "<Figure size 640x480 with 1 Axes>"
      ]
     },
     "metadata": {},
     "output_type": "display_data"
    }
   ],
   "source": [
    "sns.boxplot(data = loan, x = 'ApplicantIncome')\n",
    "plt.title(\"A plot showing the ApplicantIncome column\")"
   ]
  },
  {
   "cell_type": "code",
   "execution_count": 36,
   "id": "bcf1a642",
   "metadata": {
    "execution": {
     "iopub.execute_input": "2024-03-02T15:33:52.178371Z",
     "iopub.status.busy": "2024-03-02T15:33:52.176854Z",
     "iopub.status.idle": "2024-03-02T15:33:52.424819Z",
     "shell.execute_reply": "2024-03-02T15:33:52.423602Z"
    },
    "papermill": {
     "duration": 0.290674,
     "end_time": "2024-03-02T15:33:52.427594",
     "exception": false,
     "start_time": "2024-03-02T15:33:52.136920",
     "status": "completed"
    },
    "tags": []
   },
   "outputs": [
    {
     "data": {
      "text/plain": [
       "Text(0.5, 1.0, 'A plot showing the LoanAmount column')"
      ]
     },
     "execution_count": 36,
     "metadata": {},
     "output_type": "execute_result"
    },
    {
     "data": {
      "image/png": "[encoded data removed]",
      "text/plain": [
       "<Figure size 640x480 with 1 Axes>"
      ]
     },
     "metadata": {},
     "output_type": "display_data"
    }
   ],
   "source": [
    "sns.boxplot(data = loan, x = 'LoanAmount')\n",
    "plt.title(\"A plot showing the LoanAmount column\")"
   ]
  },
  {
   "cell_type": "code",
   "execution_count": 37,
   "id": "c23f8401",
   "metadata": {
    "execution": {
     "iopub.execute_input": "2024-03-02T15:33:52.489698Z",
     "iopub.status.busy": "2024-03-02T15:33:52.489287Z",
     "iopub.status.idle": "2024-03-02T15:33:52.499483Z",
     "shell.execute_reply": "2024-03-02T15:33:52.497926Z"
    },
    "papermill": {
     "duration": 0.043679,
     "end_time": "2024-03-02T15:33:52.501884",
     "exception": false,
     "start_time": "2024-03-02T15:33:52.458205",
     "status": "completed"
    },
    "tags": []
   },
   "outputs": [
    {
     "name": "stdout",
     "output_type": "stream",
     "text": [
      "90.0\n",
      "127.0\n"
     ]
    }
   ],
   "source": [
    "#how to remove outliers in a columns\n",
    "q1 = loan['LoanAmount'].quantile(0.25)\n",
    "print(q1)\n",
    "q3 = loan['LoanAmount'].quantile(0.75)\n",
    "print(q3)"
   ]
  },
  {
   "cell_type": "code",
   "execution_count": 38,
   "id": "55c656de",
   "metadata": {
    "execution": {
     "iopub.execute_input": "2024-03-02T15:33:52.562964Z",
     "iopub.status.busy": "2024-03-02T15:33:52.562499Z",
     "iopub.status.idle": "2024-03-02T15:33:52.568400Z",
     "shell.execute_reply": "2024-03-02T15:33:52.567032Z"
    },
    "papermill": {
     "duration": 0.039165,
     "end_time": "2024-03-02T15:33:52.571317",
     "exception": false,
     "start_time": "2024-03-02T15:33:52.532152",
     "status": "completed"
    },
    "tags": []
   },
   "outputs": [
    {
     "name": "stdout",
     "output_type": "stream",
     "text": [
      "37.0\n"
     ]
    }
   ],
   "source": [
    "IQR = q3 - q1\n",
    "print(IQR)"
   ]
  },
  {
   "cell_type": "code",
   "execution_count": 39,
   "id": "bb044900",
   "metadata": {
    "execution": {
     "iopub.execute_input": "2024-03-02T15:33:52.631698Z",
     "iopub.status.busy": "2024-03-02T15:33:52.630895Z",
     "iopub.status.idle": "2024-03-02T15:33:52.635901Z",
     "shell.execute_reply": "2024-03-02T15:33:52.634678Z"
    },
    "papermill": {
     "duration": 0.038405,
     "end_time": "2024-03-02T15:33:52.638492",
     "exception": false,
     "start_time": "2024-03-02T15:33:52.600087",
     "status": "completed"
    },
    "tags": []
   },
   "outputs": [],
   "source": [
    "#lower boundary\n",
    "# q1 - 1.5 * iqr\n",
    "#upper boundary\n",
    "#q3 + 1.5 * iqr"
   ]
  },
  {
   "cell_type": "code",
   "execution_count": 40,
   "id": "8223a4ab",
   "metadata": {
    "execution": {
     "iopub.execute_input": "2024-03-02T15:33:52.698871Z",
     "iopub.status.busy": "2024-03-02T15:33:52.698427Z",
     "iopub.status.idle": "2024-03-02T15:33:52.705233Z",
     "shell.execute_reply": "2024-03-02T15:33:52.703819Z"
    },
    "papermill": {
     "duration": 0.039976,
     "end_time": "2024-03-02T15:33:52.707802",
     "exception": false,
     "start_time": "2024-03-02T15:33:52.667826",
     "status": "completed"
    },
    "tags": []
   },
   "outputs": [
    {
     "name": "stdout",
     "output_type": "stream",
     "text": [
      "34.5\n"
     ]
    }
   ],
   "source": [
    "lower_boundary = q1 - 1.5 * IQR\n",
    "print(lower_boundary)"
   ]
  },
  {
   "cell_type": "code",
   "execution_count": 41,
   "id": "d6488b52",
   "metadata": {
    "execution": {
     "iopub.execute_input": "2024-03-02T15:33:52.768099Z",
     "iopub.status.busy": "2024-03-02T15:33:52.767650Z",
     "iopub.status.idle": "2024-03-02T15:33:52.774142Z",
     "shell.execute_reply": "2024-03-02T15:33:52.772804Z"
    },
    "papermill": {
     "duration": 0.040201,
     "end_time": "2024-03-02T15:33:52.777039",
     "exception": false,
     "start_time": "2024-03-02T15:33:52.736838",
     "status": "completed"
    },
    "tags": []
   },
   "outputs": [
    {
     "name": "stdout",
     "output_type": "stream",
     "text": [
      "182.5\n"
     ]
    }
   ],
   "source": [
    "upper_boundary = q3 + 1.5 * IQR\n",
    "print(upper_boundary)"
   ]
  },
  {
   "cell_type": "code",
   "execution_count": 42,
   "id": "93badc26",
   "metadata": {
    "execution": {
     "iopub.execute_input": "2024-03-02T15:33:52.837157Z",
     "iopub.status.busy": "2024-03-02T15:33:52.836733Z",
     "iopub.status.idle": "2024-03-02T15:33:52.864622Z",
     "shell.execute_reply": "2024-03-02T15:33:52.863412Z"
    },
    "papermill": {
     "duration": 0.060888,
     "end_time": "2024-03-02T15:33:52.867162",
     "exception": false,
     "start_time": "2024-03-02T15:33:52.806274",
     "status": "completed"
    },
    "tags": []
   },
   "outputs": [
    {
     "data": {
      "text/html": [
       "<div>\n",
       "<style scoped>\n",
       "    .dataframe tbody tr th:only-of-type {\n",
       "        vertical-align: middle;\n",
       "    }\n",
       "\n",
       "    .dataframe tbody tr th {\n",
       "        vertical-align: top;\n",
       "    }\n",
       "\n",
       "    .dataframe thead th {\n",
       "        text-align: right;\n",
       "    }\n",
       "</style>\n",
       "<table border=\"1\" class=\"dataframe\">\n",
       "  <thead>\n",
       "    <tr style=\"text-align: right;\">\n",
       "      <th></th>\n",
       "      <th>Loan_ID</th>\n",
       "      <th>Gender</th>\n",
       "      <th>Married</th>\n",
       "      <th>Dependents</th>\n",
       "      <th>Education</th>\n",
       "      <th>Self_Employed</th>\n",
       "      <th>ApplicantIncome</th>\n",
       "      <th>CoapplicantIncome</th>\n",
       "      <th>LoanAmount</th>\n",
       "      <th>Loan_Amount_Term</th>\n",
       "      <th>Credit_History</th>\n",
       "      <th>Property_Area</th>\n",
       "      <th>Loan_Status</th>\n",
       "    </tr>\n",
       "  </thead>\n",
       "  <tbody>\n",
       "    <tr>\n",
       "      <th>0</th>\n",
       "      <td>LP001003</td>\n",
       "      <td>Male</td>\n",
       "      <td>Yes</td>\n",
       "      <td>1</td>\n",
       "      <td>Graduate</td>\n",
       "      <td>No</td>\n",
       "      <td>4583</td>\n",
       "      <td>1508.0</td>\n",
       "      <td>128.0</td>\n",
       "      <td>360.0</td>\n",
       "      <td>1.0</td>\n",
       "      <td>Rural</td>\n",
       "      <td>N</td>\n",
       "    </tr>\n",
       "    <tr>\n",
       "      <th>1</th>\n",
       "      <td>LP001005</td>\n",
       "      <td>Male</td>\n",
       "      <td>Yes</td>\n",
       "      <td>0</td>\n",
       "      <td>Graduate</td>\n",
       "      <td>Yes</td>\n",
       "      <td>3000</td>\n",
       "      <td>0.0</td>\n",
       "      <td>66.0</td>\n",
       "      <td>360.0</td>\n",
       "      <td>1.0</td>\n",
       "      <td>Urban</td>\n",
       "      <td>Y</td>\n",
       "    </tr>\n",
       "    <tr>\n",
       "      <th>3</th>\n",
       "      <td>LP001008</td>\n",
       "      <td>Male</td>\n",
       "      <td>No</td>\n",
       "      <td>0</td>\n",
       "      <td>Graduate</td>\n",
       "      <td>No</td>\n",
       "      <td>6000</td>\n",
       "      <td>0.0</td>\n",
       "      <td>141.0</td>\n",
       "      <td>360.0</td>\n",
       "      <td>1.0</td>\n",
       "      <td>Urban</td>\n",
       "      <td>Y</td>\n",
       "    </tr>\n",
       "    <tr>\n",
       "      <th>5</th>\n",
       "      <td>LP001024</td>\n",
       "      <td>Male</td>\n",
       "      <td>Yes</td>\n",
       "      <td>2</td>\n",
       "      <td>Graduate</td>\n",
       "      <td>No</td>\n",
       "      <td>3200</td>\n",
       "      <td>700.0</td>\n",
       "      <td>70.0</td>\n",
       "      <td>360.0</td>\n",
       "      <td>1.0</td>\n",
       "      <td>Urban</td>\n",
       "      <td>Y</td>\n",
       "    </tr>\n",
       "    <tr>\n",
       "      <th>8</th>\n",
       "      <td>LP001030</td>\n",
       "      <td>Male</td>\n",
       "      <td>Yes</td>\n",
       "      <td>2</td>\n",
       "      <td>Graduate</td>\n",
       "      <td>No</td>\n",
       "      <td>1299</td>\n",
       "      <td>1086.0</td>\n",
       "      <td>17.0</td>\n",
       "      <td>120.0</td>\n",
       "      <td>1.0</td>\n",
       "      <td>Urban</td>\n",
       "      <td>Y</td>\n",
       "    </tr>\n",
       "    <tr>\n",
       "      <th>...</th>\n",
       "      <td>...</td>\n",
       "      <td>...</td>\n",
       "      <td>...</td>\n",
       "      <td>...</td>\n",
       "      <td>...</td>\n",
       "      <td>...</td>\n",
       "      <td>...</td>\n",
       "      <td>...</td>\n",
       "      <td>...</td>\n",
       "      <td>...</td>\n",
       "      <td>...</td>\n",
       "      <td>...</td>\n",
       "      <td>...</td>\n",
       "    </tr>\n",
       "    <tr>\n",
       "      <th>375</th>\n",
       "      <td>LP002943</td>\n",
       "      <td>Male</td>\n",
       "      <td>No</td>\n",
       "      <td>NaN</td>\n",
       "      <td>Graduate</td>\n",
       "      <td>No</td>\n",
       "      <td>2987</td>\n",
       "      <td>0.0</td>\n",
       "      <td>88.0</td>\n",
       "      <td>360.0</td>\n",
       "      <td>0.0</td>\n",
       "      <td>Semiurban</td>\n",
       "      <td>N</td>\n",
       "    </tr>\n",
       "    <tr>\n",
       "      <th>376</th>\n",
       "      <td>LP002953</td>\n",
       "      <td>Male</td>\n",
       "      <td>Yes</td>\n",
       "      <td>3+</td>\n",
       "      <td>Graduate</td>\n",
       "      <td>No</td>\n",
       "      <td>5703</td>\n",
       "      <td>0.0</td>\n",
       "      <td>128.0</td>\n",
       "      <td>360.0</td>\n",
       "      <td>1.0</td>\n",
       "      <td>Urban</td>\n",
       "      <td>Y</td>\n",
       "    </tr>\n",
       "    <tr>\n",
       "      <th>378</th>\n",
       "      <td>LP002978</td>\n",
       "      <td>Female</td>\n",
       "      <td>No</td>\n",
       "      <td>0</td>\n",
       "      <td>Graduate</td>\n",
       "      <td>No</td>\n",
       "      <td>2900</td>\n",
       "      <td>0.0</td>\n",
       "      <td>71.0</td>\n",
       "      <td>360.0</td>\n",
       "      <td>1.0</td>\n",
       "      <td>Rural</td>\n",
       "      <td>Y</td>\n",
       "    </tr>\n",
       "    <tr>\n",
       "      <th>379</th>\n",
       "      <td>LP002979</td>\n",
       "      <td>Male</td>\n",
       "      <td>Yes</td>\n",
       "      <td>3+</td>\n",
       "      <td>Graduate</td>\n",
       "      <td>No</td>\n",
       "      <td>4106</td>\n",
       "      <td>0.0</td>\n",
       "      <td>40.0</td>\n",
       "      <td>180.0</td>\n",
       "      <td>1.0</td>\n",
       "      <td>Rural</td>\n",
       "      <td>Y</td>\n",
       "    </tr>\n",
       "    <tr>\n",
       "      <th>380</th>\n",
       "      <td>LP002990</td>\n",
       "      <td>Female</td>\n",
       "      <td>No</td>\n",
       "      <td>0</td>\n",
       "      <td>Graduate</td>\n",
       "      <td>Yes</td>\n",
       "      <td>4583</td>\n",
       "      <td>0.0</td>\n",
       "      <td>133.0</td>\n",
       "      <td>360.0</td>\n",
       "      <td>0.0</td>\n",
       "      <td>Semiurban</td>\n",
       "      <td>N</td>\n",
       "    </tr>\n",
       "  </tbody>\n",
       "</table>\n",
       "<p>188 rows × 13 columns</p>\n",
       "</div>"
      ],
      "text/plain": [
       "      Loan_ID  Gender Married Dependents Education Self_Employed  \\\n",
       "0    LP001003    Male     Yes          1  Graduate            No   \n",
       "1    LP001005    Male     Yes          0  Graduate           Yes   \n",
       "3    LP001008    Male      No          0  Graduate            No   \n",
       "5    LP001024    Male     Yes          2  Graduate            No   \n",
       "8    LP001030    Male     Yes          2  Graduate            No   \n",
       "..        ...     ...     ...        ...       ...           ...   \n",
       "375  LP002943    Male      No        NaN  Graduate            No   \n",
       "376  LP002953    Male     Yes         3+  Graduate            No   \n",
       "378  LP002978  Female      No          0  Graduate            No   \n",
       "379  LP002979    Male     Yes         3+  Graduate            No   \n",
       "380  LP002990  Female      No          0  Graduate           Yes   \n",
       "\n",
       "     ApplicantIncome  CoapplicantIncome  LoanAmount  Loan_Amount_Term  \\\n",
       "0               4583             1508.0       128.0             360.0   \n",
       "1               3000                0.0        66.0             360.0   \n",
       "3               6000                0.0       141.0             360.0   \n",
       "5               3200              700.0        70.0             360.0   \n",
       "8               1299             1086.0        17.0             120.0   \n",
       "..               ...                ...         ...               ...   \n",
       "375             2987                0.0        88.0             360.0   \n",
       "376             5703                0.0       128.0             360.0   \n",
       "378             2900                0.0        71.0             360.0   \n",
       "379             4106                0.0        40.0             180.0   \n",
       "380             4583                0.0       133.0             360.0   \n",
       "\n",
       "     Credit_History Property_Area Loan_Status  \n",
       "0               1.0         Rural           N  \n",
       "1               1.0         Urban           Y  \n",
       "3               1.0         Urban           Y  \n",
       "5               1.0         Urban           Y  \n",
       "8               1.0         Urban           Y  \n",
       "..              ...           ...         ...  \n",
       "375             0.0     Semiurban           N  \n",
       "376             1.0         Urban           Y  \n",
       "378             1.0         Rural           Y  \n",
       "379             1.0         Rural           Y  \n",
       "380             0.0     Semiurban           N  \n",
       "\n",
       "[188 rows x 13 columns]"
      ]
     },
     "execution_count": 42,
     "metadata": {},
     "output_type": "execute_result"
    }
   ],
   "source": [
    "outliers2 = df[(df['LoanAmount'] < q1) | (df['LoanAmount'] > q3)]\n",
    "outliers2"
   ]
  },
  {
   "cell_type": "code",
   "execution_count": 43,
   "id": "df9c14b3",
   "metadata": {
    "execution": {
     "iopub.execute_input": "2024-03-02T15:33:52.928960Z",
     "iopub.status.busy": "2024-03-02T15:33:52.928453Z",
     "iopub.status.idle": "2024-03-02T15:33:52.944253Z",
     "shell.execute_reply": "2024-03-02T15:33:52.942917Z"
    },
    "papermill": {
     "duration": 0.049767,
     "end_time": "2024-03-02T15:33:52.946758",
     "exception": false,
     "start_time": "2024-03-02T15:33:52.896991",
     "status": "completed"
    },
    "tags": []
   },
   "outputs": [
    {
     "name": "stdout",
     "output_type": "stream",
     "text": [
      "      Loan_ID  Gender Married Dependents     Education Self_Employed  \\\n",
      "8    LP001030    Male     Yes          2      Graduate            No   \n",
      "65   LP001325    Male      No          0  Not Graduate            No   \n",
      "84   LP001482    Male     Yes          0      Graduate           Yes   \n",
      "91   LP001518    Male     Yes          1      Graduate            No   \n",
      "168  LP001888  Female      No          0      Graduate            No   \n",
      "350  LP002792    Male     Yes          1      Graduate            No   \n",
      "357  LP002840  Female      No          0      Graduate            No   \n",
      "\n",
      "     ApplicantIncome  CoapplicantIncome  LoanAmount  Loan_Amount_Term  \\\n",
      "8               1299             1086.0        17.0             120.0   \n",
      "65              3620                0.0        25.0             120.0   \n",
      "84              3459                0.0        25.0             120.0   \n",
      "91              1538             1425.0        30.0             360.0   \n",
      "168             3237                0.0        30.0             360.0   \n",
      "350             5468             1032.0        26.0             360.0   \n",
      "357             2378                0.0         9.0             360.0   \n",
      "\n",
      "     Credit_History Property_Area Loan_Status  \n",
      "8               1.0         Urban           Y  \n",
      "65              1.0     Semiurban           Y  \n",
      "84              1.0     Semiurban           Y  \n",
      "91              1.0         Urban           Y  \n",
      "168             1.0         Urban           Y  \n",
      "350             1.0     Semiurban           Y  \n",
      "357             1.0         Urban           N  \n"
     ]
    }
   ],
   "source": [
    "#getting the outliers\n",
    "outliers = loan[(loan['LoanAmount'] < lower_boundary)|(loan['LoanAmount'] > upper_boundary)]\n",
    "print(outliers)"
   ]
  },
  {
   "cell_type": "code",
   "execution_count": 44,
   "id": "8592dd44",
   "metadata": {
    "execution": {
     "iopub.execute_input": "2024-03-02T15:33:53.009088Z",
     "iopub.status.busy": "2024-03-02T15:33:53.008156Z",
     "iopub.status.idle": "2024-03-02T15:33:53.015690Z",
     "shell.execute_reply": "2024-03-02T15:33:53.014423Z"
    },
    "papermill": {
     "duration": 0.04132,
     "end_time": "2024-03-02T15:33:53.018412",
     "exception": false,
     "start_time": "2024-03-02T15:33:52.977092",
     "status": "completed"
    },
    "tags": []
   },
   "outputs": [],
   "source": [
    "loan_clean1 = loan[(loan['LoanAmount']>= lower_boundary) & (loan['LoanAmount']<= upper_boundary)]"
   ]
  },
  {
   "cell_type": "code",
   "execution_count": 45,
   "id": "b6ad7b05",
   "metadata": {
    "execution": {
     "iopub.execute_input": "2024-03-02T15:33:53.079908Z",
     "iopub.status.busy": "2024-03-02T15:33:53.079477Z",
     "iopub.status.idle": "2024-03-02T15:33:53.086428Z",
     "shell.execute_reply": "2024-03-02T15:33:53.085224Z"
    },
    "papermill": {
     "duration": 0.040762,
     "end_time": "2024-03-02T15:33:53.088975",
     "exception": false,
     "start_time": "2024-03-02T15:33:53.048213",
     "status": "completed"
    },
    "tags": []
   },
   "outputs": [
    {
     "name": "stdout",
     "output_type": "stream",
     "text": [
      "8      17.0\n",
      "65     25.0\n",
      "84     25.0\n",
      "91     30.0\n",
      "168    30.0\n",
      "350    26.0\n",
      "357     9.0\n",
      "Name: LoanAmount, dtype: float64\n"
     ]
    }
   ],
   "source": [
    "outlier_loan_amounts = outliers['LoanAmount']\n",
    "print(outlier_loan_amounts)"
   ]
  },
  {
   "cell_type": "code",
   "execution_count": 46,
   "id": "9d3bd1ce",
   "metadata": {
    "execution": {
     "iopub.execute_input": "2024-03-02T15:33:53.149998Z",
     "iopub.status.busy": "2024-03-02T15:33:53.149527Z",
     "iopub.status.idle": "2024-03-02T15:33:53.171270Z",
     "shell.execute_reply": "2024-03-02T15:33:53.170010Z"
    },
    "papermill": {
     "duration": 0.055095,
     "end_time": "2024-03-02T15:33:53.173758",
     "exception": false,
     "start_time": "2024-03-02T15:33:53.118663",
     "status": "completed"
    },
    "tags": []
   },
   "outputs": [
    {
     "data": {
      "text/html": [
       "<div>\n",
       "<style scoped>\n",
       "    .dataframe tbody tr th:only-of-type {\n",
       "        vertical-align: middle;\n",
       "    }\n",
       "\n",
       "    .dataframe tbody tr th {\n",
       "        vertical-align: top;\n",
       "    }\n",
       "\n",
       "    .dataframe thead th {\n",
       "        text-align: right;\n",
       "    }\n",
       "</style>\n",
       "<table border=\"1\" class=\"dataframe\">\n",
       "  <thead>\n",
       "    <tr style=\"text-align: right;\">\n",
       "      <th></th>\n",
       "      <th>Loan_ID</th>\n",
       "      <th>Gender</th>\n",
       "      <th>Married</th>\n",
       "      <th>Dependents</th>\n",
       "      <th>Education</th>\n",
       "      <th>Self_Employed</th>\n",
       "      <th>ApplicantIncome</th>\n",
       "      <th>CoapplicantIncome</th>\n",
       "      <th>LoanAmount</th>\n",
       "      <th>Loan_Amount_Term</th>\n",
       "      <th>Credit_History</th>\n",
       "      <th>Property_Area</th>\n",
       "      <th>Loan_Status</th>\n",
       "    </tr>\n",
       "  </thead>\n",
       "  <tbody>\n",
       "    <tr>\n",
       "      <th>0</th>\n",
       "      <td>LP001003</td>\n",
       "      <td>Male</td>\n",
       "      <td>Yes</td>\n",
       "      <td>1</td>\n",
       "      <td>Graduate</td>\n",
       "      <td>No</td>\n",
       "      <td>4583</td>\n",
       "      <td>1508.0</td>\n",
       "      <td>128.0</td>\n",
       "      <td>360.0</td>\n",
       "      <td>1.0</td>\n",
       "      <td>Rural</td>\n",
       "      <td>N</td>\n",
       "    </tr>\n",
       "    <tr>\n",
       "      <th>1</th>\n",
       "      <td>LP001005</td>\n",
       "      <td>Male</td>\n",
       "      <td>Yes</td>\n",
       "      <td>0</td>\n",
       "      <td>Graduate</td>\n",
       "      <td>Yes</td>\n",
       "      <td>3000</td>\n",
       "      <td>0.0</td>\n",
       "      <td>66.0</td>\n",
       "      <td>360.0</td>\n",
       "      <td>1.0</td>\n",
       "      <td>Urban</td>\n",
       "      <td>Y</td>\n",
       "    </tr>\n",
       "    <tr>\n",
       "      <th>2</th>\n",
       "      <td>LP001006</td>\n",
       "      <td>Male</td>\n",
       "      <td>Yes</td>\n",
       "      <td>0</td>\n",
       "      <td>Not Graduate</td>\n",
       "      <td>No</td>\n",
       "      <td>2583</td>\n",
       "      <td>2358.0</td>\n",
       "      <td>120.0</td>\n",
       "      <td>360.0</td>\n",
       "      <td>1.0</td>\n",
       "      <td>Urban</td>\n",
       "      <td>Y</td>\n",
       "    </tr>\n",
       "    <tr>\n",
       "      <th>3</th>\n",
       "      <td>LP001008</td>\n",
       "      <td>Male</td>\n",
       "      <td>No</td>\n",
       "      <td>0</td>\n",
       "      <td>Graduate</td>\n",
       "      <td>No</td>\n",
       "      <td>6000</td>\n",
       "      <td>0.0</td>\n",
       "      <td>141.0</td>\n",
       "      <td>360.0</td>\n",
       "      <td>1.0</td>\n",
       "      <td>Urban</td>\n",
       "      <td>Y</td>\n",
       "    </tr>\n",
       "    <tr>\n",
       "      <th>4</th>\n",
       "      <td>LP001013</td>\n",
       "      <td>Male</td>\n",
       "      <td>Yes</td>\n",
       "      <td>0</td>\n",
       "      <td>Not Graduate</td>\n",
       "      <td>No</td>\n",
       "      <td>2333</td>\n",
       "      <td>1516.0</td>\n",
       "      <td>95.0</td>\n",
       "      <td>360.0</td>\n",
       "      <td>1.0</td>\n",
       "      <td>Urban</td>\n",
       "      <td>Y</td>\n",
       "    </tr>\n",
       "  </tbody>\n",
       "</table>\n",
       "</div>"
      ],
      "text/plain": [
       "    Loan_ID Gender Married Dependents     Education Self_Employed  \\\n",
       "0  LP001003   Male     Yes          1      Graduate            No   \n",
       "1  LP001005   Male     Yes          0      Graduate           Yes   \n",
       "2  LP001006   Male     Yes          0  Not Graduate            No   \n",
       "3  LP001008   Male      No          0      Graduate            No   \n",
       "4  LP001013   Male     Yes          0  Not Graduate            No   \n",
       "\n",
       "   ApplicantIncome  CoapplicantIncome  LoanAmount  Loan_Amount_Term  \\\n",
       "0             4583             1508.0       128.0             360.0   \n",
       "1             3000                0.0        66.0             360.0   \n",
       "2             2583             2358.0       120.0             360.0   \n",
       "3             6000                0.0       141.0             360.0   \n",
       "4             2333             1516.0        95.0             360.0   \n",
       "\n",
       "   Credit_History Property_Area Loan_Status  \n",
       "0             1.0         Rural           N  \n",
       "1             1.0         Urban           Y  \n",
       "2             1.0         Urban           Y  \n",
       "3             1.0         Urban           Y  \n",
       "4             1.0         Urban           Y  "
      ]
     },
     "execution_count": 46,
     "metadata": {},
     "output_type": "execute_result"
    }
   ],
   "source": [
    "loan_clean1.head()"
   ]
  },
  {
   "cell_type": "code",
   "execution_count": 47,
   "id": "47e3b08a",
   "metadata": {
    "execution": {
     "iopub.execute_input": "2024-03-02T15:33:53.238169Z",
     "iopub.status.busy": "2024-03-02T15:33:53.237011Z",
     "iopub.status.idle": "2024-03-02T15:33:53.480868Z",
     "shell.execute_reply": "2024-03-02T15:33:53.479892Z"
    },
    "papermill": {
     "duration": 0.278936,
     "end_time": "2024-03-02T15:33:53.483158",
     "exception": false,
     "start_time": "2024-03-02T15:33:53.204222",
     "status": "completed"
    },
    "tags": []
   },
   "outputs": [
    {
     "data": {
      "text/plain": [
       "Text(0.5, 1.0, 'A plot showing the LoanAmount column')"
      ]
     },
     "execution_count": 47,
     "metadata": {},
     "output_type": "execute_result"
    },
    {
     "data": {
      "image/png": "[encoded data removed]",
      "text/plain": [
       "<Figure size 640x480 with 1 Axes>"
      ]
     },
     "metadata": {},
     "output_type": "display_data"
    }
   ],
   "source": [
    "sns.boxplot(data = loan_clean1, x = 'LoanAmount')\n",
    "plt.title(\"A plot showing the LoanAmount column\")"
   ]
  },
  {
   "cell_type": "code",
   "execution_count": 48,
   "id": "b7413732",
   "metadata": {
    "execution": {
     "iopub.execute_input": "2024-03-02T15:33:53.547726Z",
     "iopub.status.busy": "2024-03-02T15:33:53.547318Z",
     "iopub.status.idle": "2024-03-02T15:33:53.572688Z",
     "shell.execute_reply": "2024-03-02T15:33:53.571493Z"
    },
    "papermill": {
     "duration": 0.060381,
     "end_time": "2024-03-02T15:33:53.575334",
     "exception": false,
     "start_time": "2024-03-02T15:33:53.514953",
     "status": "completed"
    },
    "tags": []
   },
   "outputs": [
    {
     "data": {
      "text/html": [
       "<div>\n",
       "<style scoped>\n",
       "    .dataframe tbody tr th:only-of-type {\n",
       "        vertical-align: middle;\n",
       "    }\n",
       "\n",
       "    .dataframe tbody tr th {\n",
       "        vertical-align: top;\n",
       "    }\n",
       "\n",
       "    .dataframe thead th {\n",
       "        text-align: right;\n",
       "    }\n",
       "</style>\n",
       "<table border=\"1\" class=\"dataframe\">\n",
       "  <thead>\n",
       "    <tr style=\"text-align: right;\">\n",
       "      <th></th>\n",
       "      <th>count</th>\n",
       "      <th>unique</th>\n",
       "      <th>top</th>\n",
       "      <th>freq</th>\n",
       "    </tr>\n",
       "  </thead>\n",
       "  <tbody>\n",
       "    <tr>\n",
       "      <th>Loan_ID</th>\n",
       "      <td>374</td>\n",
       "      <td>374</td>\n",
       "      <td>LP001003</td>\n",
       "      <td>1</td>\n",
       "    </tr>\n",
       "    <tr>\n",
       "      <th>Gender</th>\n",
       "      <td>374</td>\n",
       "      <td>2</td>\n",
       "      <td>Male</td>\n",
       "      <td>291</td>\n",
       "    </tr>\n",
       "    <tr>\n",
       "      <th>Married</th>\n",
       "      <td>374</td>\n",
       "      <td>2</td>\n",
       "      <td>Yes</td>\n",
       "      <td>224</td>\n",
       "    </tr>\n",
       "    <tr>\n",
       "      <th>Dependents</th>\n",
       "      <td>374</td>\n",
       "      <td>4</td>\n",
       "      <td>0</td>\n",
       "      <td>238</td>\n",
       "    </tr>\n",
       "    <tr>\n",
       "      <th>Education</th>\n",
       "      <td>374</td>\n",
       "      <td>2</td>\n",
       "      <td>Graduate</td>\n",
       "      <td>272</td>\n",
       "    </tr>\n",
       "    <tr>\n",
       "      <th>Self_Employed</th>\n",
       "      <td>374</td>\n",
       "      <td>2</td>\n",
       "      <td>No</td>\n",
       "      <td>340</td>\n",
       "    </tr>\n",
       "    <tr>\n",
       "      <th>Property_Area</th>\n",
       "      <td>374</td>\n",
       "      <td>3</td>\n",
       "      <td>Semiurban</td>\n",
       "      <td>146</td>\n",
       "    </tr>\n",
       "    <tr>\n",
       "      <th>Loan_Status</th>\n",
       "      <td>374</td>\n",
       "      <td>2</td>\n",
       "      <td>Y</td>\n",
       "      <td>265</td>\n",
       "    </tr>\n",
       "  </tbody>\n",
       "</table>\n",
       "</div>"
      ],
      "text/plain": [
       "              count unique        top freq\n",
       "Loan_ID         374    374   LP001003    1\n",
       "Gender          374      2       Male  291\n",
       "Married         374      2        Yes  224\n",
       "Dependents      374      4          0  238\n",
       "Education       374      2   Graduate  272\n",
       "Self_Employed   374      2         No  340\n",
       "Property_Area   374      3  Semiurban  146\n",
       "Loan_Status     374      2          Y  265"
      ]
     },
     "execution_count": 48,
     "metadata": {},
     "output_type": "execute_result"
    }
   ],
   "source": [
    "#change categorical variables to numeric vairables\n",
    "loan_clean1.describe(include = \"object\").T"
   ]
  },
  {
   "cell_type": "code",
   "execution_count": 49,
   "id": "b033dcec",
   "metadata": {
    "execution": {
     "iopub.execute_input": "2024-03-02T15:33:53.639184Z",
     "iopub.status.busy": "2024-03-02T15:33:53.638737Z",
     "iopub.status.idle": "2024-03-02T15:33:53.661919Z",
     "shell.execute_reply": "2024-03-02T15:33:53.660593Z"
    },
    "papermill": {
     "duration": 0.059014,
     "end_time": "2024-03-02T15:33:53.665327",
     "exception": false,
     "start_time": "2024-03-02T15:33:53.606313",
     "status": "completed"
    },
    "tags": []
   },
   "outputs": [
    {
     "name": "stderr",
     "output_type": "stream",
     "text": [
      "/tmp/ipykernel_19/996787238.py:3: SettingWithCopyWarning: \n",
      "A value is trying to be set on a copy of a slice from a DataFrame.\n",
      "Try using .loc[row_indexer,col_indexer] = value instead\n",
      "\n",
      "See the caveats in the documentation: https://pandas.pydata.org/pandas-docs/stable/user_guide/indexing.html#returning-a-view-versus-a-copy\n",
      "  loan_clean1['Gender'] = le.fit_transform(loan_clean1['Gender'])\n"
     ]
    },
    {
     "data": {
      "text/html": [
       "<div>\n",
       "<style scoped>\n",
       "    .dataframe tbody tr th:only-of-type {\n",
       "        vertical-align: middle;\n",
       "    }\n",
       "\n",
       "    .dataframe tbody tr th {\n",
       "        vertical-align: top;\n",
       "    }\n",
       "\n",
       "    .dataframe thead th {\n",
       "        text-align: right;\n",
       "    }\n",
       "</style>\n",
       "<table border=\"1\" class=\"dataframe\">\n",
       "  <thead>\n",
       "    <tr style=\"text-align: right;\">\n",
       "      <th></th>\n",
       "      <th>Loan_ID</th>\n",
       "      <th>Gender</th>\n",
       "      <th>Married</th>\n",
       "      <th>Dependents</th>\n",
       "      <th>Education</th>\n",
       "      <th>Self_Employed</th>\n",
       "      <th>ApplicantIncome</th>\n",
       "      <th>CoapplicantIncome</th>\n",
       "      <th>LoanAmount</th>\n",
       "      <th>Loan_Amount_Term</th>\n",
       "      <th>Credit_History</th>\n",
       "      <th>Property_Area</th>\n",
       "      <th>Loan_Status</th>\n",
       "    </tr>\n",
       "  </thead>\n",
       "  <tbody>\n",
       "    <tr>\n",
       "      <th>0</th>\n",
       "      <td>LP001003</td>\n",
       "      <td>1</td>\n",
       "      <td>Yes</td>\n",
       "      <td>1</td>\n",
       "      <td>Graduate</td>\n",
       "      <td>No</td>\n",
       "      <td>4583</td>\n",
       "      <td>1508.0</td>\n",
       "      <td>128.0</td>\n",
       "      <td>360.0</td>\n",
       "      <td>1.0</td>\n",
       "      <td>Rural</td>\n",
       "      <td>N</td>\n",
       "    </tr>\n",
       "    <tr>\n",
       "      <th>1</th>\n",
       "      <td>LP001005</td>\n",
       "      <td>1</td>\n",
       "      <td>Yes</td>\n",
       "      <td>0</td>\n",
       "      <td>Graduate</td>\n",
       "      <td>Yes</td>\n",
       "      <td>3000</td>\n",
       "      <td>0.0</td>\n",
       "      <td>66.0</td>\n",
       "      <td>360.0</td>\n",
       "      <td>1.0</td>\n",
       "      <td>Urban</td>\n",
       "      <td>Y</td>\n",
       "    </tr>\n",
       "    <tr>\n",
       "      <th>2</th>\n",
       "      <td>LP001006</td>\n",
       "      <td>1</td>\n",
       "      <td>Yes</td>\n",
       "      <td>0</td>\n",
       "      <td>Not Graduate</td>\n",
       "      <td>No</td>\n",
       "      <td>2583</td>\n",
       "      <td>2358.0</td>\n",
       "      <td>120.0</td>\n",
       "      <td>360.0</td>\n",
       "      <td>1.0</td>\n",
       "      <td>Urban</td>\n",
       "      <td>Y</td>\n",
       "    </tr>\n",
       "    <tr>\n",
       "      <th>3</th>\n",
       "      <td>LP001008</td>\n",
       "      <td>1</td>\n",
       "      <td>No</td>\n",
       "      <td>0</td>\n",
       "      <td>Graduate</td>\n",
       "      <td>No</td>\n",
       "      <td>6000</td>\n",
       "      <td>0.0</td>\n",
       "      <td>141.0</td>\n",
       "      <td>360.0</td>\n",
       "      <td>1.0</td>\n",
       "      <td>Urban</td>\n",
       "      <td>Y</td>\n",
       "    </tr>\n",
       "    <tr>\n",
       "      <th>4</th>\n",
       "      <td>LP001013</td>\n",
       "      <td>1</td>\n",
       "      <td>Yes</td>\n",
       "      <td>0</td>\n",
       "      <td>Not Graduate</td>\n",
       "      <td>No</td>\n",
       "      <td>2333</td>\n",
       "      <td>1516.0</td>\n",
       "      <td>95.0</td>\n",
       "      <td>360.0</td>\n",
       "      <td>1.0</td>\n",
       "      <td>Urban</td>\n",
       "      <td>Y</td>\n",
       "    </tr>\n",
       "  </tbody>\n",
       "</table>\n",
       "</div>"
      ],
      "text/plain": [
       "    Loan_ID  Gender Married Dependents     Education Self_Employed  \\\n",
       "0  LP001003       1     Yes          1      Graduate            No   \n",
       "1  LP001005       1     Yes          0      Graduate           Yes   \n",
       "2  LP001006       1     Yes          0  Not Graduate            No   \n",
       "3  LP001008       1      No          0      Graduate            No   \n",
       "4  LP001013       1     Yes          0  Not Graduate            No   \n",
       "\n",
       "   ApplicantIncome  CoapplicantIncome  LoanAmount  Loan_Amount_Term  \\\n",
       "0             4583             1508.0       128.0             360.0   \n",
       "1             3000                0.0        66.0             360.0   \n",
       "2             2583             2358.0       120.0             360.0   \n",
       "3             6000                0.0       141.0             360.0   \n",
       "4             2333             1516.0        95.0             360.0   \n",
       "\n",
       "   Credit_History Property_Area Loan_Status  \n",
       "0             1.0         Rural           N  \n",
       "1             1.0         Urban           Y  \n",
       "2             1.0         Urban           Y  \n",
       "3             1.0         Urban           Y  \n",
       "4             1.0         Urban           Y  "
      ]
     },
     "execution_count": 49,
     "metadata": {},
     "output_type": "execute_result"
    }
   ],
   "source": [
    "#creating a labelencoder instance\n",
    "le = LabelEncoder()\n",
    "loan_clean1['Gender'] = le.fit_transform(loan_clean1['Gender'])\n",
    "loan_clean1.head()"
   ]
  },
  {
   "cell_type": "code",
   "execution_count": 50,
   "id": "2d05916b",
   "metadata": {
    "execution": {
     "iopub.execute_input": "2024-03-02T15:33:53.731737Z",
     "iopub.status.busy": "2024-03-02T15:33:53.730537Z",
     "iopub.status.idle": "2024-03-02T15:33:53.739415Z",
     "shell.execute_reply": "2024-03-02T15:33:53.738274Z"
    },
    "papermill": {
     "duration": 0.044101,
     "end_time": "2024-03-02T15:33:53.741679",
     "exception": false,
     "start_time": "2024-03-02T15:33:53.697578",
     "status": "completed"
    },
    "tags": []
   },
   "outputs": [
    {
     "data": {
      "text/plain": [
       "0     1\n",
       "1     1\n",
       "2     1\n",
       "3     1\n",
       "4     1\n",
       "5     1\n",
       "6     1\n",
       "7     1\n",
       "9     1\n",
       "10    1\n",
       "11    0\n",
       "12    1\n",
       "13    1\n",
       "14    1\n",
       "15    1\n",
       "Name: Gender, dtype: int64"
      ]
     },
     "execution_count": 50,
     "metadata": {},
     "output_type": "execute_result"
    }
   ],
   "source": [
    "loan_clean1['Gender'].head(15)"
   ]
  },
  {
   "cell_type": "code",
   "execution_count": 51,
   "id": "99d623f9",
   "metadata": {
    "execution": {
     "iopub.execute_input": "2024-03-02T15:33:53.807256Z",
     "iopub.status.busy": "2024-03-02T15:33:53.806045Z",
     "iopub.status.idle": "2024-03-02T15:33:53.828833Z",
     "shell.execute_reply": "2024-03-02T15:33:53.827606Z"
    },
    "papermill": {
     "duration": 0.058201,
     "end_time": "2024-03-02T15:33:53.831302",
     "exception": false,
     "start_time": "2024-03-02T15:33:53.773101",
     "status": "completed"
    },
    "tags": []
   },
   "outputs": [
    {
     "name": "stderr",
     "output_type": "stream",
     "text": [
      "/tmp/ipykernel_19/272858461.py:1: SettingWithCopyWarning: \n",
      "A value is trying to be set on a copy of a slice from a DataFrame.\n",
      "Try using .loc[row_indexer,col_indexer] = value instead\n",
      "\n",
      "See the caveats in the documentation: https://pandas.pydata.org/pandas-docs/stable/user_guide/indexing.html#returning-a-view-versus-a-copy\n",
      "  loan_clean1['Married'] = le.fit_transform(loan_clean1['Married'])\n"
     ]
    },
    {
     "data": {
      "text/html": [
       "<div>\n",
       "<style scoped>\n",
       "    .dataframe tbody tr th:only-of-type {\n",
       "        vertical-align: middle;\n",
       "    }\n",
       "\n",
       "    .dataframe tbody tr th {\n",
       "        vertical-align: top;\n",
       "    }\n",
       "\n",
       "    .dataframe thead th {\n",
       "        text-align: right;\n",
       "    }\n",
       "</style>\n",
       "<table border=\"1\" class=\"dataframe\">\n",
       "  <thead>\n",
       "    <tr style=\"text-align: right;\">\n",
       "      <th></th>\n",
       "      <th>Loan_ID</th>\n",
       "      <th>Gender</th>\n",
       "      <th>Married</th>\n",
       "      <th>Dependents</th>\n",
       "      <th>Education</th>\n",
       "      <th>Self_Employed</th>\n",
       "      <th>ApplicantIncome</th>\n",
       "      <th>CoapplicantIncome</th>\n",
       "      <th>LoanAmount</th>\n",
       "      <th>Loan_Amount_Term</th>\n",
       "      <th>Credit_History</th>\n",
       "      <th>Property_Area</th>\n",
       "      <th>Loan_Status</th>\n",
       "    </tr>\n",
       "  </thead>\n",
       "  <tbody>\n",
       "    <tr>\n",
       "      <th>0</th>\n",
       "      <td>LP001003</td>\n",
       "      <td>1</td>\n",
       "      <td>1</td>\n",
       "      <td>1</td>\n",
       "      <td>Graduate</td>\n",
       "      <td>No</td>\n",
       "      <td>4583</td>\n",
       "      <td>1508.0</td>\n",
       "      <td>128.0</td>\n",
       "      <td>360.0</td>\n",
       "      <td>1.0</td>\n",
       "      <td>Rural</td>\n",
       "      <td>N</td>\n",
       "    </tr>\n",
       "    <tr>\n",
       "      <th>1</th>\n",
       "      <td>LP001005</td>\n",
       "      <td>1</td>\n",
       "      <td>1</td>\n",
       "      <td>0</td>\n",
       "      <td>Graduate</td>\n",
       "      <td>Yes</td>\n",
       "      <td>3000</td>\n",
       "      <td>0.0</td>\n",
       "      <td>66.0</td>\n",
       "      <td>360.0</td>\n",
       "      <td>1.0</td>\n",
       "      <td>Urban</td>\n",
       "      <td>Y</td>\n",
       "    </tr>\n",
       "    <tr>\n",
       "      <th>2</th>\n",
       "      <td>LP001006</td>\n",
       "      <td>1</td>\n",
       "      <td>1</td>\n",
       "      <td>0</td>\n",
       "      <td>Not Graduate</td>\n",
       "      <td>No</td>\n",
       "      <td>2583</td>\n",
       "      <td>2358.0</td>\n",
       "      <td>120.0</td>\n",
       "      <td>360.0</td>\n",
       "      <td>1.0</td>\n",
       "      <td>Urban</td>\n",
       "      <td>Y</td>\n",
       "    </tr>\n",
       "    <tr>\n",
       "      <th>3</th>\n",
       "      <td>LP001008</td>\n",
       "      <td>1</td>\n",
       "      <td>0</td>\n",
       "      <td>0</td>\n",
       "      <td>Graduate</td>\n",
       "      <td>No</td>\n",
       "      <td>6000</td>\n",
       "      <td>0.0</td>\n",
       "      <td>141.0</td>\n",
       "      <td>360.0</td>\n",
       "      <td>1.0</td>\n",
       "      <td>Urban</td>\n",
       "      <td>Y</td>\n",
       "    </tr>\n",
       "    <tr>\n",
       "      <th>4</th>\n",
       "      <td>LP001013</td>\n",
       "      <td>1</td>\n",
       "      <td>1</td>\n",
       "      <td>0</td>\n",
       "      <td>Not Graduate</td>\n",
       "      <td>No</td>\n",
       "      <td>2333</td>\n",
       "      <td>1516.0</td>\n",
       "      <td>95.0</td>\n",
       "      <td>360.0</td>\n",
       "      <td>1.0</td>\n",
       "      <td>Urban</td>\n",
       "      <td>Y</td>\n",
       "    </tr>\n",
       "  </tbody>\n",
       "</table>\n",
       "</div>"
      ],
      "text/plain": [
       "    Loan_ID  Gender  Married Dependents     Education Self_Employed  \\\n",
       "0  LP001003       1        1          1      Graduate            No   \n",
       "1  LP001005       1        1          0      Graduate           Yes   \n",
       "2  LP001006       1        1          0  Not Graduate            No   \n",
       "3  LP001008       1        0          0      Graduate            No   \n",
       "4  LP001013       1        1          0  Not Graduate            No   \n",
       "\n",
       "   ApplicantIncome  CoapplicantIncome  LoanAmount  Loan_Amount_Term  \\\n",
       "0             4583             1508.0       128.0             360.0   \n",
       "1             3000                0.0        66.0             360.0   \n",
       "2             2583             2358.0       120.0             360.0   \n",
       "3             6000                0.0       141.0             360.0   \n",
       "4             2333             1516.0        95.0             360.0   \n",
       "\n",
       "   Credit_History Property_Area Loan_Status  \n",
       "0             1.0         Rural           N  \n",
       "1             1.0         Urban           Y  \n",
       "2             1.0         Urban           Y  \n",
       "3             1.0         Urban           Y  \n",
       "4             1.0         Urban           Y  "
      ]
     },
     "execution_count": 51,
     "metadata": {},
     "output_type": "execute_result"
    }
   ],
   "source": [
    "loan_clean1['Married'] = le.fit_transform(loan_clean1['Married'])\n",
    "loan_clean1.head()"
   ]
  },
  {
   "cell_type": "code",
   "execution_count": 52,
   "id": "c8e2dc37",
   "metadata": {
    "execution": {
     "iopub.execute_input": "2024-03-02T15:33:53.901204Z",
     "iopub.status.busy": "2024-03-02T15:33:53.900355Z",
     "iopub.status.idle": "2024-03-02T15:33:53.913125Z",
     "shell.execute_reply": "2024-03-02T15:33:53.911587Z"
    },
    "papermill": {
     "duration": 0.050979,
     "end_time": "2024-03-02T15:33:53.915569",
     "exception": false,
     "start_time": "2024-03-02T15:33:53.864590",
     "status": "completed"
    },
    "tags": []
   },
   "outputs": [
    {
     "name": "stderr",
     "output_type": "stream",
     "text": [
      "/tmp/ipykernel_19/2828020510.py:1: SettingWithCopyWarning: \n",
      "A value is trying to be set on a copy of a slice from a DataFrame.\n",
      "Try using .loc[row_indexer,col_indexer] = value instead\n",
      "\n",
      "See the caveats in the documentation: https://pandas.pydata.org/pandas-docs/stable/user_guide/indexing.html#returning-a-view-versus-a-copy\n",
      "  loan_clean1['Property_Area'] = le.fit_transform(loan_clean1['Property_Area'])\n"
     ]
    },
    {
     "data": {
      "text/plain": [
       "0     0\n",
       "1     2\n",
       "2     2\n",
       "3     2\n",
       "4     2\n",
       "5     2\n",
       "6     2\n",
       "7     0\n",
       "9     2\n",
       "10    2\n",
       "11    2\n",
       "12    0\n",
       "13    2\n",
       "14    2\n",
       "15    1\n",
       "16    0\n",
       "17    1\n",
       "18    2\n",
       "19    2\n",
       "20    1\n",
       "Name: Property_Area, dtype: int64"
      ]
     },
     "execution_count": 52,
     "metadata": {},
     "output_type": "execute_result"
    }
   ],
   "source": [
    "loan_clean1['Property_Area'] = le.fit_transform(loan_clean1['Property_Area'])\n",
    "loan_clean1['Property_Area'].head(20)"
   ]
  },
  {
   "cell_type": "code",
   "execution_count": 53,
   "id": "3798d81e",
   "metadata": {
    "execution": {
     "iopub.execute_input": "2024-03-02T15:33:53.982800Z",
     "iopub.status.busy": "2024-03-02T15:33:53.981508Z",
     "iopub.status.idle": "2024-03-02T15:33:54.003624Z",
     "shell.execute_reply": "2024-03-02T15:33:54.002159Z"
    },
    "papermill": {
     "duration": 0.05844,
     "end_time": "2024-03-02T15:33:54.006361",
     "exception": false,
     "start_time": "2024-03-02T15:33:53.947921",
     "status": "completed"
    },
    "tags": []
   },
   "outputs": [
    {
     "name": "stderr",
     "output_type": "stream",
     "text": [
      "/tmp/ipykernel_19/1297837576.py:1: SettingWithCopyWarning: \n",
      "A value is trying to be set on a copy of a slice from a DataFrame.\n",
      "Try using .loc[row_indexer,col_indexer] = value instead\n",
      "\n",
      "See the caveats in the documentation: https://pandas.pydata.org/pandas-docs/stable/user_guide/indexing.html#returning-a-view-versus-a-copy\n",
      "  loan_clean1['Education'] = le.fit_transform(loan_clean1['Education'])\n"
     ]
    },
    {
     "data": {
      "text/html": [
       "<div>\n",
       "<style scoped>\n",
       "    .dataframe tbody tr th:only-of-type {\n",
       "        vertical-align: middle;\n",
       "    }\n",
       "\n",
       "    .dataframe tbody tr th {\n",
       "        vertical-align: top;\n",
       "    }\n",
       "\n",
       "    .dataframe thead th {\n",
       "        text-align: right;\n",
       "    }\n",
       "</style>\n",
       "<table border=\"1\" class=\"dataframe\">\n",
       "  <thead>\n",
       "    <tr style=\"text-align: right;\">\n",
       "      <th></th>\n",
       "      <th>Loan_ID</th>\n",
       "      <th>Gender</th>\n",
       "      <th>Married</th>\n",
       "      <th>Dependents</th>\n",
       "      <th>Education</th>\n",
       "      <th>Self_Employed</th>\n",
       "      <th>ApplicantIncome</th>\n",
       "      <th>CoapplicantIncome</th>\n",
       "      <th>LoanAmount</th>\n",
       "      <th>Loan_Amount_Term</th>\n",
       "      <th>Credit_History</th>\n",
       "      <th>Property_Area</th>\n",
       "      <th>Loan_Status</th>\n",
       "    </tr>\n",
       "  </thead>\n",
       "  <tbody>\n",
       "    <tr>\n",
       "      <th>0</th>\n",
       "      <td>LP001003</td>\n",
       "      <td>1</td>\n",
       "      <td>1</td>\n",
       "      <td>1</td>\n",
       "      <td>0</td>\n",
       "      <td>No</td>\n",
       "      <td>4583</td>\n",
       "      <td>1508.0</td>\n",
       "      <td>128.0</td>\n",
       "      <td>360.0</td>\n",
       "      <td>1.0</td>\n",
       "      <td>0</td>\n",
       "      <td>N</td>\n",
       "    </tr>\n",
       "    <tr>\n",
       "      <th>1</th>\n",
       "      <td>LP001005</td>\n",
       "      <td>1</td>\n",
       "      <td>1</td>\n",
       "      <td>0</td>\n",
       "      <td>0</td>\n",
       "      <td>Yes</td>\n",
       "      <td>3000</td>\n",
       "      <td>0.0</td>\n",
       "      <td>66.0</td>\n",
       "      <td>360.0</td>\n",
       "      <td>1.0</td>\n",
       "      <td>2</td>\n",
       "      <td>Y</td>\n",
       "    </tr>\n",
       "    <tr>\n",
       "      <th>2</th>\n",
       "      <td>LP001006</td>\n",
       "      <td>1</td>\n",
       "      <td>1</td>\n",
       "      <td>0</td>\n",
       "      <td>1</td>\n",
       "      <td>No</td>\n",
       "      <td>2583</td>\n",
       "      <td>2358.0</td>\n",
       "      <td>120.0</td>\n",
       "      <td>360.0</td>\n",
       "      <td>1.0</td>\n",
       "      <td>2</td>\n",
       "      <td>Y</td>\n",
       "    </tr>\n",
       "    <tr>\n",
       "      <th>3</th>\n",
       "      <td>LP001008</td>\n",
       "      <td>1</td>\n",
       "      <td>0</td>\n",
       "      <td>0</td>\n",
       "      <td>0</td>\n",
       "      <td>No</td>\n",
       "      <td>6000</td>\n",
       "      <td>0.0</td>\n",
       "      <td>141.0</td>\n",
       "      <td>360.0</td>\n",
       "      <td>1.0</td>\n",
       "      <td>2</td>\n",
       "      <td>Y</td>\n",
       "    </tr>\n",
       "    <tr>\n",
       "      <th>4</th>\n",
       "      <td>LP001013</td>\n",
       "      <td>1</td>\n",
       "      <td>1</td>\n",
       "      <td>0</td>\n",
       "      <td>1</td>\n",
       "      <td>No</td>\n",
       "      <td>2333</td>\n",
       "      <td>1516.0</td>\n",
       "      <td>95.0</td>\n",
       "      <td>360.0</td>\n",
       "      <td>1.0</td>\n",
       "      <td>2</td>\n",
       "      <td>Y</td>\n",
       "    </tr>\n",
       "  </tbody>\n",
       "</table>\n",
       "</div>"
      ],
      "text/plain": [
       "    Loan_ID  Gender  Married Dependents  Education Self_Employed  \\\n",
       "0  LP001003       1        1          1          0            No   \n",
       "1  LP001005       1        1          0          0           Yes   \n",
       "2  LP001006       1        1          0          1            No   \n",
       "3  LP001008       1        0          0          0            No   \n",
       "4  LP001013       1        1          0          1            No   \n",
       "\n",
       "   ApplicantIncome  CoapplicantIncome  LoanAmount  Loan_Amount_Term  \\\n",
       "0             4583             1508.0       128.0             360.0   \n",
       "1             3000                0.0        66.0             360.0   \n",
       "2             2583             2358.0       120.0             360.0   \n",
       "3             6000                0.0       141.0             360.0   \n",
       "4             2333             1516.0        95.0             360.0   \n",
       "\n",
       "   Credit_History  Property_Area Loan_Status  \n",
       "0             1.0              0           N  \n",
       "1             1.0              2           Y  \n",
       "2             1.0              2           Y  \n",
       "3             1.0              2           Y  \n",
       "4             1.0              2           Y  "
      ]
     },
     "execution_count": 53,
     "metadata": {},
     "output_type": "execute_result"
    }
   ],
   "source": [
    "loan_clean1['Education'] = le.fit_transform(loan_clean1['Education'])\n",
    "loan_clean1.head()"
   ]
  },
  {
   "cell_type": "code",
   "execution_count": 54,
   "id": "05780555",
   "metadata": {
    "execution": {
     "iopub.execute_input": "2024-03-02T15:33:54.075248Z",
     "iopub.status.busy": "2024-03-02T15:33:54.074776Z",
     "iopub.status.idle": "2024-03-02T15:33:54.097640Z",
     "shell.execute_reply": "2024-03-02T15:33:54.095982Z"
    },
    "papermill": {
     "duration": 0.060752,
     "end_time": "2024-03-02T15:33:54.100343",
     "exception": false,
     "start_time": "2024-03-02T15:33:54.039591",
     "status": "completed"
    },
    "tags": []
   },
   "outputs": [
    {
     "name": "stderr",
     "output_type": "stream",
     "text": [
      "/tmp/ipykernel_19/730168157.py:1: SettingWithCopyWarning: \n",
      "A value is trying to be set on a copy of a slice from a DataFrame.\n",
      "Try using .loc[row_indexer,col_indexer] = value instead\n",
      "\n",
      "See the caveats in the documentation: https://pandas.pydata.org/pandas-docs/stable/user_guide/indexing.html#returning-a-view-versus-a-copy\n",
      "  loan_clean1['Self_Employed'] = le.fit_transform(loan_clean1['Self_Employed'])\n",
      "/tmp/ipykernel_19/730168157.py:2: SettingWithCopyWarning: \n",
      "A value is trying to be set on a copy of a slice from a DataFrame.\n",
      "Try using .loc[row_indexer,col_indexer] = value instead\n",
      "\n",
      "See the caveats in the documentation: https://pandas.pydata.org/pandas-docs/stable/user_guide/indexing.html#returning-a-view-versus-a-copy\n",
      "  loan_clean1['Loan_Status'] = le.fit_transform(loan_clean1['Loan_Status'])\n"
     ]
    },
    {
     "data": {
      "text/html": [
       "<div>\n",
       "<style scoped>\n",
       "    .dataframe tbody tr th:only-of-type {\n",
       "        vertical-align: middle;\n",
       "    }\n",
       "\n",
       "    .dataframe tbody tr th {\n",
       "        vertical-align: top;\n",
       "    }\n",
       "\n",
       "    .dataframe thead th {\n",
       "        text-align: right;\n",
       "    }\n",
       "</style>\n",
       "<table border=\"1\" class=\"dataframe\">\n",
       "  <thead>\n",
       "    <tr style=\"text-align: right;\">\n",
       "      <th></th>\n",
       "      <th>Loan_ID</th>\n",
       "      <th>Gender</th>\n",
       "      <th>Married</th>\n",
       "      <th>Dependents</th>\n",
       "      <th>Education</th>\n",
       "      <th>Self_Employed</th>\n",
       "      <th>ApplicantIncome</th>\n",
       "      <th>CoapplicantIncome</th>\n",
       "      <th>LoanAmount</th>\n",
       "      <th>Loan_Amount_Term</th>\n",
       "      <th>Credit_History</th>\n",
       "      <th>Property_Area</th>\n",
       "      <th>Loan_Status</th>\n",
       "    </tr>\n",
       "  </thead>\n",
       "  <tbody>\n",
       "    <tr>\n",
       "      <th>0</th>\n",
       "      <td>LP001003</td>\n",
       "      <td>1</td>\n",
       "      <td>1</td>\n",
       "      <td>1</td>\n",
       "      <td>0</td>\n",
       "      <td>0</td>\n",
       "      <td>4583</td>\n",
       "      <td>1508.0</td>\n",
       "      <td>128.0</td>\n",
       "      <td>360.0</td>\n",
       "      <td>1.0</td>\n",
       "      <td>0</td>\n",
       "      <td>0</td>\n",
       "    </tr>\n",
       "    <tr>\n",
       "      <th>1</th>\n",
       "      <td>LP001005</td>\n",
       "      <td>1</td>\n",
       "      <td>1</td>\n",
       "      <td>0</td>\n",
       "      <td>0</td>\n",
       "      <td>1</td>\n",
       "      <td>3000</td>\n",
       "      <td>0.0</td>\n",
       "      <td>66.0</td>\n",
       "      <td>360.0</td>\n",
       "      <td>1.0</td>\n",
       "      <td>2</td>\n",
       "      <td>1</td>\n",
       "    </tr>\n",
       "    <tr>\n",
       "      <th>2</th>\n",
       "      <td>LP001006</td>\n",
       "      <td>1</td>\n",
       "      <td>1</td>\n",
       "      <td>0</td>\n",
       "      <td>1</td>\n",
       "      <td>0</td>\n",
       "      <td>2583</td>\n",
       "      <td>2358.0</td>\n",
       "      <td>120.0</td>\n",
       "      <td>360.0</td>\n",
       "      <td>1.0</td>\n",
       "      <td>2</td>\n",
       "      <td>1</td>\n",
       "    </tr>\n",
       "    <tr>\n",
       "      <th>3</th>\n",
       "      <td>LP001008</td>\n",
       "      <td>1</td>\n",
       "      <td>0</td>\n",
       "      <td>0</td>\n",
       "      <td>0</td>\n",
       "      <td>0</td>\n",
       "      <td>6000</td>\n",
       "      <td>0.0</td>\n",
       "      <td>141.0</td>\n",
       "      <td>360.0</td>\n",
       "      <td>1.0</td>\n",
       "      <td>2</td>\n",
       "      <td>1</td>\n",
       "    </tr>\n",
       "    <tr>\n",
       "      <th>4</th>\n",
       "      <td>LP001013</td>\n",
       "      <td>1</td>\n",
       "      <td>1</td>\n",
       "      <td>0</td>\n",
       "      <td>1</td>\n",
       "      <td>0</td>\n",
       "      <td>2333</td>\n",
       "      <td>1516.0</td>\n",
       "      <td>95.0</td>\n",
       "      <td>360.0</td>\n",
       "      <td>1.0</td>\n",
       "      <td>2</td>\n",
       "      <td>1</td>\n",
       "    </tr>\n",
       "  </tbody>\n",
       "</table>\n",
       "</div>"
      ],
      "text/plain": [
       "    Loan_ID  Gender  Married Dependents  Education  Self_Employed  \\\n",
       "0  LP001003       1        1          1          0              0   \n",
       "1  LP001005       1        1          0          0              1   \n",
       "2  LP001006       1        1          0          1              0   \n",
       "3  LP001008       1        0          0          0              0   \n",
       "4  LP001013       1        1          0          1              0   \n",
       "\n",
       "   ApplicantIncome  CoapplicantIncome  LoanAmount  Loan_Amount_Term  \\\n",
       "0             4583             1508.0       128.0             360.0   \n",
       "1             3000                0.0        66.0             360.0   \n",
       "2             2583             2358.0       120.0             360.0   \n",
       "3             6000                0.0       141.0             360.0   \n",
       "4             2333             1516.0        95.0             360.0   \n",
       "\n",
       "   Credit_History  Property_Area  Loan_Status  \n",
       "0             1.0              0            0  \n",
       "1             1.0              2            1  \n",
       "2             1.0              2            1  \n",
       "3             1.0              2            1  \n",
       "4             1.0              2            1  "
      ]
     },
     "execution_count": 54,
     "metadata": {},
     "output_type": "execute_result"
    }
   ],
   "source": [
    "loan_clean1['Self_Employed'] = le.fit_transform(loan_clean1['Self_Employed'])\n",
    "loan_clean1['Loan_Status'] = le.fit_transform(loan_clean1['Loan_Status'])\n",
    "loan_clean1.head()"
   ]
  },
  {
   "cell_type": "code",
   "execution_count": 55,
   "id": "2b937083",
   "metadata": {
    "execution": {
     "iopub.execute_input": "2024-03-02T15:33:54.168473Z",
     "iopub.status.busy": "2024-03-02T15:33:54.168046Z",
     "iopub.status.idle": "2024-03-02T15:33:54.175889Z",
     "shell.execute_reply": "2024-03-02T15:33:54.174455Z"
    },
    "papermill": {
     "duration": 0.044823,
     "end_time": "2024-03-02T15:33:54.178361",
     "exception": false,
     "start_time": "2024-03-02T15:33:54.133538",
     "status": "completed"
    },
    "tags": []
   },
   "outputs": [],
   "source": [
    "#getting dummy variables of the dependants column\n",
    "dummys = pd.get_dummies(loan_clean1['Dependents'], prefix = 'Dependents', drop_first = True)\n",
    "dummys = dummys.astype(int)"
   ]
  },
  {
   "cell_type": "code",
   "execution_count": 56,
   "id": "b76f21d2",
   "metadata": {
    "execution": {
     "iopub.execute_input": "2024-03-02T15:33:54.248321Z",
     "iopub.status.busy": "2024-03-02T15:33:54.247888Z",
     "iopub.status.idle": "2024-03-02T15:33:54.261471Z",
     "shell.execute_reply": "2024-03-02T15:33:54.260222Z"
    },
    "papermill": {
     "duration": 0.050736,
     "end_time": "2024-03-02T15:33:54.263818",
     "exception": false,
     "start_time": "2024-03-02T15:33:54.213082",
     "status": "completed"
    },
    "tags": []
   },
   "outputs": [
    {
     "data": {
      "text/html": [
       "<div>\n",
       "<style scoped>\n",
       "    .dataframe tbody tr th:only-of-type {\n",
       "        vertical-align: middle;\n",
       "    }\n",
       "\n",
       "    .dataframe tbody tr th {\n",
       "        vertical-align: top;\n",
       "    }\n",
       "\n",
       "    .dataframe thead th {\n",
       "        text-align: right;\n",
       "    }\n",
       "</style>\n",
       "<table border=\"1\" class=\"dataframe\">\n",
       "  <thead>\n",
       "    <tr style=\"text-align: right;\">\n",
       "      <th></th>\n",
       "      <th>Dependents_1</th>\n",
       "      <th>Dependents_2</th>\n",
       "      <th>Dependents_3+</th>\n",
       "    </tr>\n",
       "  </thead>\n",
       "  <tbody>\n",
       "    <tr>\n",
       "      <th>0</th>\n",
       "      <td>1</td>\n",
       "      <td>0</td>\n",
       "      <td>0</td>\n",
       "    </tr>\n",
       "    <tr>\n",
       "      <th>1</th>\n",
       "      <td>0</td>\n",
       "      <td>0</td>\n",
       "      <td>0</td>\n",
       "    </tr>\n",
       "    <tr>\n",
       "      <th>2</th>\n",
       "      <td>0</td>\n",
       "      <td>0</td>\n",
       "      <td>0</td>\n",
       "    </tr>\n",
       "    <tr>\n",
       "      <th>3</th>\n",
       "      <td>0</td>\n",
       "      <td>0</td>\n",
       "      <td>0</td>\n",
       "    </tr>\n",
       "    <tr>\n",
       "      <th>4</th>\n",
       "      <td>0</td>\n",
       "      <td>0</td>\n",
       "      <td>0</td>\n",
       "    </tr>\n",
       "    <tr>\n",
       "      <th>...</th>\n",
       "      <td>...</td>\n",
       "      <td>...</td>\n",
       "      <td>...</td>\n",
       "    </tr>\n",
       "    <tr>\n",
       "      <th>376</th>\n",
       "      <td>0</td>\n",
       "      <td>0</td>\n",
       "      <td>1</td>\n",
       "    </tr>\n",
       "    <tr>\n",
       "      <th>377</th>\n",
       "      <td>0</td>\n",
       "      <td>0</td>\n",
       "      <td>0</td>\n",
       "    </tr>\n",
       "    <tr>\n",
       "      <th>378</th>\n",
       "      <td>0</td>\n",
       "      <td>0</td>\n",
       "      <td>0</td>\n",
       "    </tr>\n",
       "    <tr>\n",
       "      <th>379</th>\n",
       "      <td>0</td>\n",
       "      <td>0</td>\n",
       "      <td>1</td>\n",
       "    </tr>\n",
       "    <tr>\n",
       "      <th>380</th>\n",
       "      <td>0</td>\n",
       "      <td>0</td>\n",
       "      <td>0</td>\n",
       "    </tr>\n",
       "  </tbody>\n",
       "</table>\n",
       "<p>374 rows × 3 columns</p>\n",
       "</div>"
      ],
      "text/plain": [
       "     Dependents_1  Dependents_2  Dependents_3+\n",
       "0               1             0              0\n",
       "1               0             0              0\n",
       "2               0             0              0\n",
       "3               0             0              0\n",
       "4               0             0              0\n",
       "..            ...           ...            ...\n",
       "376             0             0              1\n",
       "377             0             0              0\n",
       "378             0             0              0\n",
       "379             0             0              1\n",
       "380             0             0              0\n",
       "\n",
       "[374 rows x 3 columns]"
      ]
     },
     "execution_count": 56,
     "metadata": {},
     "output_type": "execute_result"
    }
   ],
   "source": [
    "dummys"
   ]
  },
  {
   "cell_type": "code",
   "execution_count": 57,
   "id": "61234427",
   "metadata": {
    "execution": {
     "iopub.execute_input": "2024-03-02T15:33:54.334270Z",
     "iopub.status.busy": "2024-03-02T15:33:54.333844Z",
     "iopub.status.idle": "2024-03-02T15:33:54.354663Z",
     "shell.execute_reply": "2024-03-02T15:33:54.353665Z"
    },
    "papermill": {
     "duration": 0.058135,
     "end_time": "2024-03-02T15:33:54.356840",
     "exception": false,
     "start_time": "2024-03-02T15:33:54.298705",
     "status": "completed"
    },
    "tags": []
   },
   "outputs": [
    {
     "name": "stderr",
     "output_type": "stream",
     "text": [
      "/tmp/ipykernel_19/189518638.py:1: SettingWithCopyWarning: \n",
      "A value is trying to be set on a copy of a slice from a DataFrame\n",
      "\n",
      "See the caveats in the documentation: https://pandas.pydata.org/pandas-docs/stable/user_guide/indexing.html#returning-a-view-versus-a-copy\n",
      "  loan_clean1.drop(['Loan_ID', 'Dependents'], axis = 1, inplace = True)\n"
     ]
    },
    {
     "data": {
      "text/html": [
       "<div>\n",
       "<style scoped>\n",
       "    .dataframe tbody tr th:only-of-type {\n",
       "        vertical-align: middle;\n",
       "    }\n",
       "\n",
       "    .dataframe tbody tr th {\n",
       "        vertical-align: top;\n",
       "    }\n",
       "\n",
       "    .dataframe thead th {\n",
       "        text-align: right;\n",
       "    }\n",
       "</style>\n",
       "<table border=\"1\" class=\"dataframe\">\n",
       "  <thead>\n",
       "    <tr style=\"text-align: right;\">\n",
       "      <th></th>\n",
       "      <th>Gender</th>\n",
       "      <th>Married</th>\n",
       "      <th>Education</th>\n",
       "      <th>Self_Employed</th>\n",
       "      <th>ApplicantIncome</th>\n",
       "      <th>CoapplicantIncome</th>\n",
       "      <th>LoanAmount</th>\n",
       "      <th>Loan_Amount_Term</th>\n",
       "      <th>Credit_History</th>\n",
       "      <th>Property_Area</th>\n",
       "      <th>Loan_Status</th>\n",
       "    </tr>\n",
       "  </thead>\n",
       "  <tbody>\n",
       "    <tr>\n",
       "      <th>0</th>\n",
       "      <td>1</td>\n",
       "      <td>1</td>\n",
       "      <td>0</td>\n",
       "      <td>0</td>\n",
       "      <td>4583</td>\n",
       "      <td>1508.0</td>\n",
       "      <td>128.0</td>\n",
       "      <td>360.0</td>\n",
       "      <td>1.0</td>\n",
       "      <td>0</td>\n",
       "      <td>0</td>\n",
       "    </tr>\n",
       "    <tr>\n",
       "      <th>1</th>\n",
       "      <td>1</td>\n",
       "      <td>1</td>\n",
       "      <td>0</td>\n",
       "      <td>1</td>\n",
       "      <td>3000</td>\n",
       "      <td>0.0</td>\n",
       "      <td>66.0</td>\n",
       "      <td>360.0</td>\n",
       "      <td>1.0</td>\n",
       "      <td>2</td>\n",
       "      <td>1</td>\n",
       "    </tr>\n",
       "    <tr>\n",
       "      <th>2</th>\n",
       "      <td>1</td>\n",
       "      <td>1</td>\n",
       "      <td>1</td>\n",
       "      <td>0</td>\n",
       "      <td>2583</td>\n",
       "      <td>2358.0</td>\n",
       "      <td>120.0</td>\n",
       "      <td>360.0</td>\n",
       "      <td>1.0</td>\n",
       "      <td>2</td>\n",
       "      <td>1</td>\n",
       "    </tr>\n",
       "    <tr>\n",
       "      <th>3</th>\n",
       "      <td>1</td>\n",
       "      <td>0</td>\n",
       "      <td>0</td>\n",
       "      <td>0</td>\n",
       "      <td>6000</td>\n",
       "      <td>0.0</td>\n",
       "      <td>141.0</td>\n",
       "      <td>360.0</td>\n",
       "      <td>1.0</td>\n",
       "      <td>2</td>\n",
       "      <td>1</td>\n",
       "    </tr>\n",
       "    <tr>\n",
       "      <th>4</th>\n",
       "      <td>1</td>\n",
       "      <td>1</td>\n",
       "      <td>1</td>\n",
       "      <td>0</td>\n",
       "      <td>2333</td>\n",
       "      <td>1516.0</td>\n",
       "      <td>95.0</td>\n",
       "      <td>360.0</td>\n",
       "      <td>1.0</td>\n",
       "      <td>2</td>\n",
       "      <td>1</td>\n",
       "    </tr>\n",
       "  </tbody>\n",
       "</table>\n",
       "</div>"
      ],
      "text/plain": [
       "   Gender  Married  Education  Self_Employed  ApplicantIncome  \\\n",
       "0       1        1          0              0             4583   \n",
       "1       1        1          0              1             3000   \n",
       "2       1        1          1              0             2583   \n",
       "3       1        0          0              0             6000   \n",
       "4       1        1          1              0             2333   \n",
       "\n",
       "   CoapplicantIncome  LoanAmount  Loan_Amount_Term  Credit_History  \\\n",
       "0             1508.0       128.0             360.0             1.0   \n",
       "1                0.0        66.0             360.0             1.0   \n",
       "2             2358.0       120.0             360.0             1.0   \n",
       "3                0.0       141.0             360.0             1.0   \n",
       "4             1516.0        95.0             360.0             1.0   \n",
       "\n",
       "   Property_Area  Loan_Status  \n",
       "0              0            0  \n",
       "1              2            1  \n",
       "2              2            1  \n",
       "3              2            1  \n",
       "4              2            1  "
      ]
     },
     "execution_count": 57,
     "metadata": {},
     "output_type": "execute_result"
    }
   ],
   "source": [
    "loan_clean1.drop(['Loan_ID', 'Dependents'], axis = 1, inplace = True)\n",
    "loan_clean1.head()"
   ]
  },
  {
   "cell_type": "code",
   "execution_count": 58,
   "id": "31548072",
   "metadata": {
    "execution": {
     "iopub.execute_input": "2024-03-02T15:33:54.428510Z",
     "iopub.status.busy": "2024-03-02T15:33:54.428084Z",
     "iopub.status.idle": "2024-03-02T15:33:54.449376Z",
     "shell.execute_reply": "2024-03-02T15:33:54.448313Z"
    },
    "papermill": {
     "duration": 0.060749,
     "end_time": "2024-03-02T15:33:54.451857",
     "exception": false,
     "start_time": "2024-03-02T15:33:54.391108",
     "status": "completed"
    },
    "tags": []
   },
   "outputs": [
    {
     "data": {
      "text/html": [
       "<div>\n",
       "<style scoped>\n",
       "    .dataframe tbody tr th:only-of-type {\n",
       "        vertical-align: middle;\n",
       "    }\n",
       "\n",
       "    .dataframe tbody tr th {\n",
       "        vertical-align: top;\n",
       "    }\n",
       "\n",
       "    .dataframe thead th {\n",
       "        text-align: right;\n",
       "    }\n",
       "</style>\n",
       "<table border=\"1\" class=\"dataframe\">\n",
       "  <thead>\n",
       "    <tr style=\"text-align: right;\">\n",
       "      <th></th>\n",
       "      <th>Gender</th>\n",
       "      <th>Married</th>\n",
       "      <th>Education</th>\n",
       "      <th>Self_Employed</th>\n",
       "      <th>ApplicantIncome</th>\n",
       "      <th>CoapplicantIncome</th>\n",
       "      <th>LoanAmount</th>\n",
       "      <th>Loan_Amount_Term</th>\n",
       "      <th>Credit_History</th>\n",
       "      <th>Property_Area</th>\n",
       "      <th>Loan_Status</th>\n",
       "      <th>Dependents_1</th>\n",
       "      <th>Dependents_2</th>\n",
       "      <th>Dependents_3+</th>\n",
       "    </tr>\n",
       "  </thead>\n",
       "  <tbody>\n",
       "    <tr>\n",
       "      <th>0</th>\n",
       "      <td>1</td>\n",
       "      <td>1</td>\n",
       "      <td>0</td>\n",
       "      <td>0</td>\n",
       "      <td>4583</td>\n",
       "      <td>1508.0</td>\n",
       "      <td>128.0</td>\n",
       "      <td>360.0</td>\n",
       "      <td>1.0</td>\n",
       "      <td>0</td>\n",
       "      <td>0</td>\n",
       "      <td>1</td>\n",
       "      <td>0</td>\n",
       "      <td>0</td>\n",
       "    </tr>\n",
       "    <tr>\n",
       "      <th>1</th>\n",
       "      <td>1</td>\n",
       "      <td>1</td>\n",
       "      <td>0</td>\n",
       "      <td>1</td>\n",
       "      <td>3000</td>\n",
       "      <td>0.0</td>\n",
       "      <td>66.0</td>\n",
       "      <td>360.0</td>\n",
       "      <td>1.0</td>\n",
       "      <td>2</td>\n",
       "      <td>1</td>\n",
       "      <td>0</td>\n",
       "      <td>0</td>\n",
       "      <td>0</td>\n",
       "    </tr>\n",
       "    <tr>\n",
       "      <th>2</th>\n",
       "      <td>1</td>\n",
       "      <td>1</td>\n",
       "      <td>1</td>\n",
       "      <td>0</td>\n",
       "      <td>2583</td>\n",
       "      <td>2358.0</td>\n",
       "      <td>120.0</td>\n",
       "      <td>360.0</td>\n",
       "      <td>1.0</td>\n",
       "      <td>2</td>\n",
       "      <td>1</td>\n",
       "      <td>0</td>\n",
       "      <td>0</td>\n",
       "      <td>0</td>\n",
       "    </tr>\n",
       "    <tr>\n",
       "      <th>3</th>\n",
       "      <td>1</td>\n",
       "      <td>0</td>\n",
       "      <td>0</td>\n",
       "      <td>0</td>\n",
       "      <td>6000</td>\n",
       "      <td>0.0</td>\n",
       "      <td>141.0</td>\n",
       "      <td>360.0</td>\n",
       "      <td>1.0</td>\n",
       "      <td>2</td>\n",
       "      <td>1</td>\n",
       "      <td>0</td>\n",
       "      <td>0</td>\n",
       "      <td>0</td>\n",
       "    </tr>\n",
       "    <tr>\n",
       "      <th>4</th>\n",
       "      <td>1</td>\n",
       "      <td>1</td>\n",
       "      <td>1</td>\n",
       "      <td>0</td>\n",
       "      <td>2333</td>\n",
       "      <td>1516.0</td>\n",
       "      <td>95.0</td>\n",
       "      <td>360.0</td>\n",
       "      <td>1.0</td>\n",
       "      <td>2</td>\n",
       "      <td>1</td>\n",
       "      <td>0</td>\n",
       "      <td>0</td>\n",
       "      <td>0</td>\n",
       "    </tr>\n",
       "  </tbody>\n",
       "</table>\n",
       "</div>"
      ],
      "text/plain": [
       "   Gender  Married  Education  Self_Employed  ApplicantIncome  \\\n",
       "0       1        1          0              0             4583   \n",
       "1       1        1          0              1             3000   \n",
       "2       1        1          1              0             2583   \n",
       "3       1        0          0              0             6000   \n",
       "4       1        1          1              0             2333   \n",
       "\n",
       "   CoapplicantIncome  LoanAmount  Loan_Amount_Term  Credit_History  \\\n",
       "0             1508.0       128.0             360.0             1.0   \n",
       "1                0.0        66.0             360.0             1.0   \n",
       "2             2358.0       120.0             360.0             1.0   \n",
       "3                0.0       141.0             360.0             1.0   \n",
       "4             1516.0        95.0             360.0             1.0   \n",
       "\n",
       "   Property_Area  Loan_Status  Dependents_1  Dependents_2  Dependents_3+  \n",
       "0              0            0             1             0              0  \n",
       "1              2            1             0             0              0  \n",
       "2              2            1             0             0              0  \n",
       "3              2            1             0             0              0  \n",
       "4              2            1             0             0              0  "
      ]
     },
     "execution_count": 58,
     "metadata": {},
     "output_type": "execute_result"
    }
   ],
   "source": [
    "loan_full = pd.concat([loan_clean1, dummys], axis = 1)\n",
    "loan_full.head()"
   ]
  },
  {
   "cell_type": "code",
   "execution_count": 59,
   "id": "102ef9ad",
   "metadata": {
    "execution": {
     "iopub.execute_input": "2024-03-02T15:33:54.523192Z",
     "iopub.status.busy": "2024-03-02T15:33:54.522762Z",
     "iopub.status.idle": "2024-03-02T15:33:54.528425Z",
     "shell.execute_reply": "2024-03-02T15:33:54.527399Z"
    },
    "papermill": {
     "duration": 0.044324,
     "end_time": "2024-03-02T15:33:54.530647",
     "exception": false,
     "start_time": "2024-03-02T15:33:54.486323",
     "status": "completed"
    },
    "tags": []
   },
   "outputs": [],
   "source": [
    "loan = loan_full.copy()"
   ]
  },
  {
   "cell_type": "code",
   "execution_count": 60,
   "id": "2c83c05d",
   "metadata": {
    "execution": {
     "iopub.execute_input": "2024-03-02T15:33:54.603735Z",
     "iopub.status.busy": "2024-03-02T15:33:54.603307Z",
     "iopub.status.idle": "2024-03-02T15:33:54.610073Z",
     "shell.execute_reply": "2024-03-02T15:33:54.608903Z"
    },
    "papermill": {
     "duration": 0.046947,
     "end_time": "2024-03-02T15:33:54.612433",
     "exception": false,
     "start_time": "2024-03-02T15:33:54.565486",
     "status": "completed"
    },
    "tags": []
   },
   "outputs": [],
   "source": [
    "#separating the dependent and independent variables\n",
    "X = loan_full.drop(['Loan_Status'], axis = 1)\n",
    "y = loan_full.pop('Loan_Status')"
   ]
  },
  {
   "cell_type": "code",
   "execution_count": 61,
   "id": "35d1d108",
   "metadata": {
    "execution": {
     "iopub.execute_input": "2024-03-02T15:33:54.685570Z",
     "iopub.status.busy": "2024-03-02T15:33:54.685167Z",
     "iopub.status.idle": "2024-03-02T15:33:54.704192Z",
     "shell.execute_reply": "2024-03-02T15:33:54.703022Z"
    },
    "papermill": {
     "duration": 0.059022,
     "end_time": "2024-03-02T15:33:54.706677",
     "exception": false,
     "start_time": "2024-03-02T15:33:54.647655",
     "status": "completed"
    },
    "tags": []
   },
   "outputs": [
    {
     "data": {
      "text/html": [
       "<div>\n",
       "<style scoped>\n",
       "    .dataframe tbody tr th:only-of-type {\n",
       "        vertical-align: middle;\n",
       "    }\n",
       "\n",
       "    .dataframe tbody tr th {\n",
       "        vertical-align: top;\n",
       "    }\n",
       "\n",
       "    .dataframe thead th {\n",
       "        text-align: right;\n",
       "    }\n",
       "</style>\n",
       "<table border=\"1\" class=\"dataframe\">\n",
       "  <thead>\n",
       "    <tr style=\"text-align: right;\">\n",
       "      <th></th>\n",
       "      <th>Gender</th>\n",
       "      <th>Married</th>\n",
       "      <th>Education</th>\n",
       "      <th>Self_Employed</th>\n",
       "      <th>ApplicantIncome</th>\n",
       "      <th>CoapplicantIncome</th>\n",
       "      <th>LoanAmount</th>\n",
       "      <th>Loan_Amount_Term</th>\n",
       "      <th>Credit_History</th>\n",
       "      <th>Property_Area</th>\n",
       "      <th>Dependents_1</th>\n",
       "      <th>Dependents_2</th>\n",
       "      <th>Dependents_3+</th>\n",
       "    </tr>\n",
       "  </thead>\n",
       "  <tbody>\n",
       "    <tr>\n",
       "      <th>0</th>\n",
       "      <td>1</td>\n",
       "      <td>1</td>\n",
       "      <td>0</td>\n",
       "      <td>0</td>\n",
       "      <td>4583</td>\n",
       "      <td>1508.0</td>\n",
       "      <td>128.0</td>\n",
       "      <td>360.0</td>\n",
       "      <td>1.0</td>\n",
       "      <td>0</td>\n",
       "      <td>1</td>\n",
       "      <td>0</td>\n",
       "      <td>0</td>\n",
       "    </tr>\n",
       "    <tr>\n",
       "      <th>1</th>\n",
       "      <td>1</td>\n",
       "      <td>1</td>\n",
       "      <td>0</td>\n",
       "      <td>1</td>\n",
       "      <td>3000</td>\n",
       "      <td>0.0</td>\n",
       "      <td>66.0</td>\n",
       "      <td>360.0</td>\n",
       "      <td>1.0</td>\n",
       "      <td>2</td>\n",
       "      <td>0</td>\n",
       "      <td>0</td>\n",
       "      <td>0</td>\n",
       "    </tr>\n",
       "    <tr>\n",
       "      <th>2</th>\n",
       "      <td>1</td>\n",
       "      <td>1</td>\n",
       "      <td>1</td>\n",
       "      <td>0</td>\n",
       "      <td>2583</td>\n",
       "      <td>2358.0</td>\n",
       "      <td>120.0</td>\n",
       "      <td>360.0</td>\n",
       "      <td>1.0</td>\n",
       "      <td>2</td>\n",
       "      <td>0</td>\n",
       "      <td>0</td>\n",
       "      <td>0</td>\n",
       "    </tr>\n",
       "    <tr>\n",
       "      <th>3</th>\n",
       "      <td>1</td>\n",
       "      <td>0</td>\n",
       "      <td>0</td>\n",
       "      <td>0</td>\n",
       "      <td>6000</td>\n",
       "      <td>0.0</td>\n",
       "      <td>141.0</td>\n",
       "      <td>360.0</td>\n",
       "      <td>1.0</td>\n",
       "      <td>2</td>\n",
       "      <td>0</td>\n",
       "      <td>0</td>\n",
       "      <td>0</td>\n",
       "    </tr>\n",
       "    <tr>\n",
       "      <th>4</th>\n",
       "      <td>1</td>\n",
       "      <td>1</td>\n",
       "      <td>1</td>\n",
       "      <td>0</td>\n",
       "      <td>2333</td>\n",
       "      <td>1516.0</td>\n",
       "      <td>95.0</td>\n",
       "      <td>360.0</td>\n",
       "      <td>1.0</td>\n",
       "      <td>2</td>\n",
       "      <td>0</td>\n",
       "      <td>0</td>\n",
       "      <td>0</td>\n",
       "    </tr>\n",
       "  </tbody>\n",
       "</table>\n",
       "</div>"
      ],
      "text/plain": [
       "   Gender  Married  Education  Self_Employed  ApplicantIncome  \\\n",
       "0       1        1          0              0             4583   \n",
       "1       1        1          0              1             3000   \n",
       "2       1        1          1              0             2583   \n",
       "3       1        0          0              0             6000   \n",
       "4       1        1          1              0             2333   \n",
       "\n",
       "   CoapplicantIncome  LoanAmount  Loan_Amount_Term  Credit_History  \\\n",
       "0             1508.0       128.0             360.0             1.0   \n",
       "1                0.0        66.0             360.0             1.0   \n",
       "2             2358.0       120.0             360.0             1.0   \n",
       "3                0.0       141.0             360.0             1.0   \n",
       "4             1516.0        95.0             360.0             1.0   \n",
       "\n",
       "   Property_Area  Dependents_1  Dependents_2  Dependents_3+  \n",
       "0              0             1             0              0  \n",
       "1              2             0             0              0  \n",
       "2              2             0             0              0  \n",
       "3              2             0             0              0  \n",
       "4              2             0             0              0  "
      ]
     },
     "execution_count": 61,
     "metadata": {},
     "output_type": "execute_result"
    }
   ],
   "source": [
    "X.head()"
   ]
  },
  {
   "cell_type": "code",
   "execution_count": 62,
   "id": "1d3e51c5",
   "metadata": {
    "execution": {
     "iopub.execute_input": "2024-03-02T15:33:54.778054Z",
     "iopub.status.busy": "2024-03-02T15:33:54.777580Z",
     "iopub.status.idle": "2024-03-02T15:33:54.786381Z",
     "shell.execute_reply": "2024-03-02T15:33:54.785451Z"
    },
    "papermill": {
     "duration": 0.047493,
     "end_time": "2024-03-02T15:33:54.788689",
     "exception": false,
     "start_time": "2024-03-02T15:33:54.741196",
     "status": "completed"
    },
    "tags": []
   },
   "outputs": [
    {
     "data": {
      "text/plain": [
       "0      0\n",
       "1      1\n",
       "2      1\n",
       "3      1\n",
       "4      1\n",
       "      ..\n",
       "376    1\n",
       "377    1\n",
       "378    1\n",
       "379    1\n",
       "380    0\n",
       "Name: Loan_Status, Length: 374, dtype: int64"
      ]
     },
     "execution_count": 62,
     "metadata": {},
     "output_type": "execute_result"
    }
   ],
   "source": [
    "y"
   ]
  },
  {
   "cell_type": "code",
   "execution_count": 63,
   "id": "c5e54f1b",
   "metadata": {
    "execution": {
     "iopub.execute_input": "2024-03-02T15:33:54.861590Z",
     "iopub.status.busy": "2024-03-02T15:33:54.861138Z",
     "iopub.status.idle": "2024-03-02T15:33:54.887131Z",
     "shell.execute_reply": "2024-03-02T15:33:54.885818Z"
    },
    "papermill": {
     "duration": 0.065474,
     "end_time": "2024-03-02T15:33:54.889853",
     "exception": false,
     "start_time": "2024-03-02T15:33:54.824379",
     "status": "completed"
    },
    "tags": []
   },
   "outputs": [
    {
     "data": {
      "text/html": [
       "<div>\n",
       "<style scoped>\n",
       "    .dataframe tbody tr th:only-of-type {\n",
       "        vertical-align: middle;\n",
       "    }\n",
       "\n",
       "    .dataframe tbody tr th {\n",
       "        vertical-align: top;\n",
       "    }\n",
       "\n",
       "    .dataframe thead th {\n",
       "        text-align: right;\n",
       "    }\n",
       "</style>\n",
       "<table border=\"1\" class=\"dataframe\">\n",
       "  <thead>\n",
       "    <tr style=\"text-align: right;\">\n",
       "      <th></th>\n",
       "      <th>Gender</th>\n",
       "      <th>Married</th>\n",
       "      <th>Education</th>\n",
       "      <th>Self_Employed</th>\n",
       "      <th>ApplicantIncome</th>\n",
       "      <th>CoapplicantIncome</th>\n",
       "      <th>LoanAmount</th>\n",
       "      <th>Loan_Amount_Term</th>\n",
       "      <th>Credit_History</th>\n",
       "      <th>Property_Area</th>\n",
       "      <th>Dependents_1</th>\n",
       "      <th>Dependents_2</th>\n",
       "      <th>Dependents_3+</th>\n",
       "    </tr>\n",
       "  </thead>\n",
       "  <tbody>\n",
       "    <tr>\n",
       "      <th>0</th>\n",
       "      <td>0.534063</td>\n",
       "      <td>0.818317</td>\n",
       "      <td>-0.612372</td>\n",
       "      <td>-0.316228</td>\n",
       "      <td>0.700039</td>\n",
       "      <td>0.091816</td>\n",
       "      <td>0.818694</td>\n",
       "      <td>0.260936</td>\n",
       "      <td>0.424041</td>\n",
       "      <td>-1.337563</td>\n",
       "      <td>2.545584</td>\n",
       "      <td>-0.428421</td>\n",
       "      <td>-0.284473</td>\n",
       "    </tr>\n",
       "    <tr>\n",
       "      <th>1</th>\n",
       "      <td>0.534063</td>\n",
       "      <td>0.818317</td>\n",
       "      <td>-0.612372</td>\n",
       "      <td>3.162278</td>\n",
       "      <td>-0.416722</td>\n",
       "      <td>-0.548331</td>\n",
       "      <td>-1.544247</td>\n",
       "      <td>0.260936</td>\n",
       "      <td>0.424041</td>\n",
       "      <td>1.227814</td>\n",
       "      <td>-0.392837</td>\n",
       "      <td>-0.428421</td>\n",
       "      <td>-0.284473</td>\n",
       "    </tr>\n",
       "    <tr>\n",
       "      <th>2</th>\n",
       "      <td>0.534063</td>\n",
       "      <td>0.818317</td>\n",
       "      <td>1.632993</td>\n",
       "      <td>-0.316228</td>\n",
       "      <td>-0.710904</td>\n",
       "      <td>0.452642</td>\n",
       "      <td>0.513798</td>\n",
       "      <td>0.260936</td>\n",
       "      <td>0.424041</td>\n",
       "      <td>1.227814</td>\n",
       "      <td>-0.392837</td>\n",
       "      <td>-0.428421</td>\n",
       "      <td>-0.284473</td>\n",
       "    </tr>\n",
       "    <tr>\n",
       "      <th>3</th>\n",
       "      <td>0.534063</td>\n",
       "      <td>-1.222020</td>\n",
       "      <td>-0.612372</td>\n",
       "      <td>-0.316228</td>\n",
       "      <td>1.699691</td>\n",
       "      <td>-0.548331</td>\n",
       "      <td>1.314149</td>\n",
       "      <td>0.260936</td>\n",
       "      <td>0.424041</td>\n",
       "      <td>1.227814</td>\n",
       "      <td>-0.392837</td>\n",
       "      <td>-0.428421</td>\n",
       "      <td>-0.284473</td>\n",
       "    </tr>\n",
       "    <tr>\n",
       "      <th>4</th>\n",
       "      <td>0.534063</td>\n",
       "      <td>0.818317</td>\n",
       "      <td>1.632993</td>\n",
       "      <td>-0.316228</td>\n",
       "      <td>-0.887272</td>\n",
       "      <td>0.095212</td>\n",
       "      <td>-0.439001</td>\n",
       "      <td>0.260936</td>\n",
       "      <td>0.424041</td>\n",
       "      <td>1.227814</td>\n",
       "      <td>-0.392837</td>\n",
       "      <td>-0.428421</td>\n",
       "      <td>-0.284473</td>\n",
       "    </tr>\n",
       "  </tbody>\n",
       "</table>\n",
       "</div>"
      ],
      "text/plain": [
       "     Gender   Married  Education  Self_Employed  ApplicantIncome  \\\n",
       "0  0.534063  0.818317  -0.612372      -0.316228         0.700039   \n",
       "1  0.534063  0.818317  -0.612372       3.162278        -0.416722   \n",
       "2  0.534063  0.818317   1.632993      -0.316228        -0.710904   \n",
       "3  0.534063 -1.222020  -0.612372      -0.316228         1.699691   \n",
       "4  0.534063  0.818317   1.632993      -0.316228        -0.887272   \n",
       "\n",
       "   CoapplicantIncome  LoanAmount  Loan_Amount_Term  Credit_History  \\\n",
       "0           0.091816    0.818694          0.260936        0.424041   \n",
       "1          -0.548331   -1.544247          0.260936        0.424041   \n",
       "2           0.452642    0.513798          0.260936        0.424041   \n",
       "3          -0.548331    1.314149          0.260936        0.424041   \n",
       "4           0.095212   -0.439001          0.260936        0.424041   \n",
       "\n",
       "   Property_Area  Dependents_1  Dependents_2  Dependents_3+  \n",
       "0      -1.337563      2.545584     -0.428421      -0.284473  \n",
       "1       1.227814     -0.392837     -0.428421      -0.284473  \n",
       "2       1.227814     -0.392837     -0.428421      -0.284473  \n",
       "3       1.227814     -0.392837     -0.428421      -0.284473  \n",
       "4       1.227814     -0.392837     -0.428421      -0.284473  "
      ]
     },
     "execution_count": 63,
     "metadata": {},
     "output_type": "execute_result"
    }
   ],
   "source": [
    "#scaling the dataset\n",
    "scaler = StandardScaler()\n",
    "scaled_data = pd.DataFrame(scaler.fit_transform(X), columns = X.columns)\n",
    "scaled_data.head()"
   ]
  }
 ],
 "metadata": {
  "kaggle": {
   "accelerator": "none",
   "dataSources": [
    {
     "datasetId": 4516829,
     "sourceId": 7730056,
     "sourceType": "datasetVersion"
    },
    {
     "datasetId": 4527160,
     "sourceId": 7744690,
     "sourceType": "datasetVersion"
    }
   ],
   "dockerImageVersionId": 30664,
   "isGpuEnabled": false,
   "isInternetEnabled": true,
   "language": "python",
   "sourceType": "notebook"
  },
  "kernelspec": {
   "display_name": "Python 3",
   "language": "python",
   "name": "python3"
  },
  "language_info": {
   "codemirror_mode": {
    "name": "ipython",
    "version": 3
   },
   "file_extension": ".py",
   "mimetype": "text/x-python",
   "name": "python",
   "nbconvert_exporter": "python",
   "pygments_lexer": "ipython3",
   "version": "3.10.13"
  },
  "papermill": {
   "default_parameters": {},
   "duration": 13.313395,
   "end_time": "2024-03-02T15:33:55.547271",
   "environment_variables": {},
   "exception": null,
   "input_path": "__notebook__.ipynb",
   "output_path": "__notebook__.ipynb",
   "parameters": {},
   "start_time": "2024-03-02T15:33:42.233876",
   "version": "2.5.0"
  }
 },
 "nbformat": 4,
 "nbformat_minor": 5
}
