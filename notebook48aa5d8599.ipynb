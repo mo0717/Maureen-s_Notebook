{
 "cells": [
  {
   "cell_type": "code",
   "execution_count": 1,
   "id": "bddca7f5",
   "metadata": {
    "_cell_guid": "b1076dfc-b9ad-4769-8c92-a6c4dae69d19",
    "_uuid": "8f2839f25d086af736a60e9eeb907d3b93b6e0e5",
    "execution": {
     "iopub.execute_input": "2024-02-29T17:36:16.961784Z",
     "iopub.status.busy": "2024-02-29T17:36:16.961050Z",
     "iopub.status.idle": "2024-02-29T17:36:19.093643Z",
     "shell.execute_reply": "2024-02-29T17:36:19.092213Z"
    },
    "papermill": {
     "duration": 2.148132,
     "end_time": "2024-02-29T17:36:19.096041",
     "exception": false,
     "start_time": "2024-02-29T17:36:16.947909",
     "status": "completed"
    },
    "tags": []
   },
   "outputs": [
    {
     "name": "stdout",
     "output_type": "stream",
     "text": [
      "/kaggle/input/loan-data-csv/loan_data.csv\n"
     ]
    }
   ],
   "source": [
    "# This Python 3 environment comes with many helpful analytics libraries installed\n",
    "# It is defined by the kaggle/python Docker image: https://github.com/kaggle/docker-python\n",
    "# For example, here's several helpful packages to load\n",
    "\n",
    "import numpy as np # linear algebra\n",
    "import pandas as pd # data processing, CSV file I/O (e.g. pd.read_csv)\n",
    "from statistics import variance, stdev # for doing statistical analysis\n",
    "import matplotlib.pyplot as plt\n",
    "import seaborn as sns\n",
    "from sklearn.preprocessing import StandardScaler, LabelEncoder\n",
    "\n",
    "# Input data files are available in the read-only \"../input/\" directory\n",
    "# For example, running this (by clicking run or pressing Shift+Enter) will list all files under the input directory\n",
    "\n",
    "import os\n",
    "for dirname, _, filenames in os.walk('/kaggle/input'):\n",
    "    for filename in filenames:\n",
    "        print(os.path.join(dirname, filename))\n",
    "\n",
    "# You can write up to 20GB to the current directory (/kaggle/working/) that gets preserved as output when you create a version using \"Save & Run All\" \n",
    "# You can also write temporary files to /kaggle/temp/, but they won't be saved outside of the current session"
   ]
  },
  {
   "cell_type": "code",
   "execution_count": 2,
   "id": "6dfac699",
   "metadata": {
    "execution": {
     "iopub.execute_input": "2024-02-29T17:36:19.119855Z",
     "iopub.status.busy": "2024-02-29T17:36:19.119371Z",
     "iopub.status.idle": "2024-02-29T17:36:19.138107Z",
     "shell.execute_reply": "2024-02-29T17:36:19.137001Z"
    },
    "papermill": {
     "duration": 0.033676,
     "end_time": "2024-02-29T17:36:19.140817",
     "exception": false,
     "start_time": "2024-02-29T17:36:19.107141",
     "status": "completed"
    },
    "tags": []
   },
   "outputs": [],
   "source": [
    "loan=pd.read_csv('/kaggle/input/loan-data-csv/loan_data.csv')"
   ]
  },
  {
   "cell_type": "code",
   "execution_count": 3,
   "id": "6372e4b9",
   "metadata": {
    "execution": {
     "iopub.execute_input": "2024-02-29T17:36:19.163903Z",
     "iopub.status.busy": "2024-02-29T17:36:19.163255Z",
     "iopub.status.idle": "2024-02-29T17:36:19.188325Z",
     "shell.execute_reply": "2024-02-29T17:36:19.187279Z"
    },
    "papermill": {
     "duration": 0.039598,
     "end_time": "2024-02-29T17:36:19.190905",
     "exception": false,
     "start_time": "2024-02-29T17:36:19.151307",
     "status": "completed"
    },
    "tags": []
   },
   "outputs": [
    {
     "data": {
      "text/html": [
       "<div>\n",
       "<style scoped>\n",
       "    .dataframe tbody tr th:only-of-type {\n",
       "        vertical-align: middle;\n",
       "    }\n",
       "\n",
       "    .dataframe tbody tr th {\n",
       "        vertical-align: top;\n",
       "    }\n",
       "\n",
       "    .dataframe thead th {\n",
       "        text-align: right;\n",
       "    }\n",
       "</style>\n",
       "<table border=\"1\" class=\"dataframe\">\n",
       "  <thead>\n",
       "    <tr style=\"text-align: right;\">\n",
       "      <th></th>\n",
       "      <th>Loan_ID</th>\n",
       "      <th>Gender</th>\n",
       "      <th>Married</th>\n",
       "      <th>Dependents</th>\n",
       "      <th>Education</th>\n",
       "      <th>Self_Employed</th>\n",
       "      <th>ApplicantIncome</th>\n",
       "      <th>CoapplicantIncome</th>\n",
       "      <th>LoanAmount</th>\n",
       "      <th>Loan_Amount_Term</th>\n",
       "      <th>Credit_History</th>\n",
       "      <th>Property_Area</th>\n",
       "      <th>Loan_Status</th>\n",
       "    </tr>\n",
       "  </thead>\n",
       "  <tbody>\n",
       "    <tr>\n",
       "      <th>0</th>\n",
       "      <td>LP001003</td>\n",
       "      <td>Male</td>\n",
       "      <td>Yes</td>\n",
       "      <td>1</td>\n",
       "      <td>Graduate</td>\n",
       "      <td>No</td>\n",
       "      <td>4583</td>\n",
       "      <td>1508.0</td>\n",
       "      <td>128.0</td>\n",
       "      <td>360.0</td>\n",
       "      <td>1.0</td>\n",
       "      <td>Rural</td>\n",
       "      <td>N</td>\n",
       "    </tr>\n",
       "    <tr>\n",
       "      <th>1</th>\n",
       "      <td>LP001005</td>\n",
       "      <td>Male</td>\n",
       "      <td>Yes</td>\n",
       "      <td>0</td>\n",
       "      <td>Graduate</td>\n",
       "      <td>Yes</td>\n",
       "      <td>3000</td>\n",
       "      <td>0.0</td>\n",
       "      <td>66.0</td>\n",
       "      <td>360.0</td>\n",
       "      <td>1.0</td>\n",
       "      <td>Urban</td>\n",
       "      <td>Y</td>\n",
       "    </tr>\n",
       "    <tr>\n",
       "      <th>2</th>\n",
       "      <td>LP001006</td>\n",
       "      <td>Male</td>\n",
       "      <td>Yes</td>\n",
       "      <td>0</td>\n",
       "      <td>Not Graduate</td>\n",
       "      <td>No</td>\n",
       "      <td>2583</td>\n",
       "      <td>2358.0</td>\n",
       "      <td>120.0</td>\n",
       "      <td>360.0</td>\n",
       "      <td>1.0</td>\n",
       "      <td>Urban</td>\n",
       "      <td>Y</td>\n",
       "    </tr>\n",
       "    <tr>\n",
       "      <th>3</th>\n",
       "      <td>LP001008</td>\n",
       "      <td>Male</td>\n",
       "      <td>No</td>\n",
       "      <td>0</td>\n",
       "      <td>Graduate</td>\n",
       "      <td>No</td>\n",
       "      <td>6000</td>\n",
       "      <td>0.0</td>\n",
       "      <td>141.0</td>\n",
       "      <td>360.0</td>\n",
       "      <td>1.0</td>\n",
       "      <td>Urban</td>\n",
       "      <td>Y</td>\n",
       "    </tr>\n",
       "    <tr>\n",
       "      <th>4</th>\n",
       "      <td>LP001013</td>\n",
       "      <td>Male</td>\n",
       "      <td>Yes</td>\n",
       "      <td>0</td>\n",
       "      <td>Not Graduate</td>\n",
       "      <td>No</td>\n",
       "      <td>2333</td>\n",
       "      <td>1516.0</td>\n",
       "      <td>95.0</td>\n",
       "      <td>360.0</td>\n",
       "      <td>1.0</td>\n",
       "      <td>Urban</td>\n",
       "      <td>Y</td>\n",
       "    </tr>\n",
       "  </tbody>\n",
       "</table>\n",
       "</div>"
      ],
      "text/plain": [
       "    Loan_ID Gender Married Dependents     Education Self_Employed  \\\n",
       "0  LP001003   Male     Yes          1      Graduate            No   \n",
       "1  LP001005   Male     Yes          0      Graduate           Yes   \n",
       "2  LP001006   Male     Yes          0  Not Graduate            No   \n",
       "3  LP001008   Male      No          0      Graduate            No   \n",
       "4  LP001013   Male     Yes          0  Not Graduate            No   \n",
       "\n",
       "   ApplicantIncome  CoapplicantIncome  LoanAmount  Loan_Amount_Term  \\\n",
       "0             4583             1508.0       128.0             360.0   \n",
       "1             3000                0.0        66.0             360.0   \n",
       "2             2583             2358.0       120.0             360.0   \n",
       "3             6000                0.0       141.0             360.0   \n",
       "4             2333             1516.0        95.0             360.0   \n",
       "\n",
       "   Credit_History Property_Area Loan_Status  \n",
       "0             1.0         Rural           N  \n",
       "1             1.0         Urban           Y  \n",
       "2             1.0         Urban           Y  \n",
       "3             1.0         Urban           Y  \n",
       "4             1.0         Urban           Y  "
      ]
     },
     "execution_count": 3,
     "metadata": {},
     "output_type": "execute_result"
    }
   ],
   "source": [
    "loan.head()"
   ]
  },
  {
   "cell_type": "code",
   "execution_count": 4,
   "id": "24740a23",
   "metadata": {
    "execution": {
     "iopub.execute_input": "2024-02-29T17:36:19.215209Z",
     "iopub.status.busy": "2024-02-29T17:36:19.214807Z",
     "iopub.status.idle": "2024-02-29T17:36:19.249671Z",
     "shell.execute_reply": "2024-02-29T17:36:19.248866Z"
    },
    "papermill": {
     "duration": 0.049299,
     "end_time": "2024-02-29T17:36:19.251866",
     "exception": false,
     "start_time": "2024-02-29T17:36:19.202567",
     "status": "completed"
    },
    "tags": []
   },
   "outputs": [
    {
     "data": {
      "text/html": [
       "<div>\n",
       "<style scoped>\n",
       "    .dataframe tbody tr th:only-of-type {\n",
       "        vertical-align: middle;\n",
       "    }\n",
       "\n",
       "    .dataframe tbody tr th {\n",
       "        vertical-align: top;\n",
       "    }\n",
       "\n",
       "    .dataframe thead th {\n",
       "        text-align: right;\n",
       "    }\n",
       "</style>\n",
       "<table border=\"1\" class=\"dataframe\">\n",
       "  <thead>\n",
       "    <tr style=\"text-align: right;\">\n",
       "      <th></th>\n",
       "      <th>count</th>\n",
       "      <th>mean</th>\n",
       "      <th>std</th>\n",
       "      <th>min</th>\n",
       "      <th>25%</th>\n",
       "      <th>50%</th>\n",
       "      <th>75%</th>\n",
       "      <th>max</th>\n",
       "    </tr>\n",
       "  </thead>\n",
       "  <tbody>\n",
       "    <tr>\n",
       "      <th>ApplicantIncome</th>\n",
       "      <td>381.0</td>\n",
       "      <td>3579.845144</td>\n",
       "      <td>1419.813818</td>\n",
       "      <td>150.0</td>\n",
       "      <td>2600.0</td>\n",
       "      <td>3333.0</td>\n",
       "      <td>4288.0</td>\n",
       "      <td>9703.0</td>\n",
       "    </tr>\n",
       "    <tr>\n",
       "      <th>CoapplicantIncome</th>\n",
       "      <td>381.0</td>\n",
       "      <td>1277.275381</td>\n",
       "      <td>2340.818114</td>\n",
       "      <td>0.0</td>\n",
       "      <td>0.0</td>\n",
       "      <td>983.0</td>\n",
       "      <td>2016.0</td>\n",
       "      <td>33837.0</td>\n",
       "    </tr>\n",
       "    <tr>\n",
       "      <th>LoanAmount</th>\n",
       "      <td>381.0</td>\n",
       "      <td>104.986877</td>\n",
       "      <td>28.358464</td>\n",
       "      <td>9.0</td>\n",
       "      <td>90.0</td>\n",
       "      <td>110.0</td>\n",
       "      <td>127.0</td>\n",
       "      <td>150.0</td>\n",
       "    </tr>\n",
       "    <tr>\n",
       "      <th>Loan_Amount_Term</th>\n",
       "      <td>370.0</td>\n",
       "      <td>340.864865</td>\n",
       "      <td>68.549257</td>\n",
       "      <td>12.0</td>\n",
       "      <td>360.0</td>\n",
       "      <td>360.0</td>\n",
       "      <td>360.0</td>\n",
       "      <td>480.0</td>\n",
       "    </tr>\n",
       "    <tr>\n",
       "      <th>Credit_History</th>\n",
       "      <td>351.0</td>\n",
       "      <td>0.837607</td>\n",
       "      <td>0.369338</td>\n",
       "      <td>0.0</td>\n",
       "      <td>1.0</td>\n",
       "      <td>1.0</td>\n",
       "      <td>1.0</td>\n",
       "      <td>1.0</td>\n",
       "    </tr>\n",
       "  </tbody>\n",
       "</table>\n",
       "</div>"
      ],
      "text/plain": [
       "                   count         mean          std    min     25%     50%  \\\n",
       "ApplicantIncome    381.0  3579.845144  1419.813818  150.0  2600.0  3333.0   \n",
       "CoapplicantIncome  381.0  1277.275381  2340.818114    0.0     0.0   983.0   \n",
       "LoanAmount         381.0   104.986877    28.358464    9.0    90.0   110.0   \n",
       "Loan_Amount_Term   370.0   340.864865    68.549257   12.0   360.0   360.0   \n",
       "Credit_History     351.0     0.837607     0.369338    0.0     1.0     1.0   \n",
       "\n",
       "                      75%      max  \n",
       "ApplicantIncome    4288.0   9703.0  \n",
       "CoapplicantIncome  2016.0  33837.0  \n",
       "LoanAmount          127.0    150.0  \n",
       "Loan_Amount_Term    360.0    480.0  \n",
       "Credit_History        1.0      1.0  "
      ]
     },
     "execution_count": 4,
     "metadata": {},
     "output_type": "execute_result"
    }
   ],
   "source": [
    "loan.describe().T"
   ]
  },
  {
   "cell_type": "code",
   "execution_count": 5,
   "id": "879613bd",
   "metadata": {
    "execution": {
     "iopub.execute_input": "2024-02-29T17:36:19.275913Z",
     "iopub.status.busy": "2024-02-29T17:36:19.275559Z",
     "iopub.status.idle": "2024-02-29T17:36:19.294749Z",
     "shell.execute_reply": "2024-02-29T17:36:19.293760Z"
    },
    "papermill": {
     "duration": 0.033879,
     "end_time": "2024-02-29T17:36:19.297053",
     "exception": false,
     "start_time": "2024-02-29T17:36:19.263174",
     "status": "completed"
    },
    "tags": []
   },
   "outputs": [
    {
     "data": {
      "text/html": [
       "<div>\n",
       "<style scoped>\n",
       "    .dataframe tbody tr th:only-of-type {\n",
       "        vertical-align: middle;\n",
       "    }\n",
       "\n",
       "    .dataframe tbody tr th {\n",
       "        vertical-align: top;\n",
       "    }\n",
       "\n",
       "    .dataframe thead th {\n",
       "        text-align: right;\n",
       "    }\n",
       "</style>\n",
       "<table border=\"1\" class=\"dataframe\">\n",
       "  <thead>\n",
       "    <tr style=\"text-align: right;\">\n",
       "      <th></th>\n",
       "      <th>Loan_ID</th>\n",
       "      <th>Gender</th>\n",
       "      <th>Married</th>\n",
       "      <th>Dependents</th>\n",
       "      <th>Education</th>\n",
       "      <th>Self_Employed</th>\n",
       "      <th>ApplicantIncome</th>\n",
       "      <th>CoapplicantIncome</th>\n",
       "      <th>LoanAmount</th>\n",
       "      <th>Loan_Amount_Term</th>\n",
       "      <th>Credit_History</th>\n",
       "      <th>Property_Area</th>\n",
       "      <th>Loan_Status</th>\n",
       "    </tr>\n",
       "  </thead>\n",
       "  <tbody>\n",
       "    <tr>\n",
       "      <th>0</th>\n",
       "      <td>LP001003</td>\n",
       "      <td>Male</td>\n",
       "      <td>Yes</td>\n",
       "      <td>1</td>\n",
       "      <td>Graduate</td>\n",
       "      <td>No</td>\n",
       "      <td>4583</td>\n",
       "      <td>1508.0</td>\n",
       "      <td>128.0</td>\n",
       "      <td>360.0</td>\n",
       "      <td>1.0</td>\n",
       "      <td>Rural</td>\n",
       "      <td>N</td>\n",
       "    </tr>\n",
       "    <tr>\n",
       "      <th>1</th>\n",
       "      <td>LP001005</td>\n",
       "      <td>Male</td>\n",
       "      <td>Yes</td>\n",
       "      <td>0</td>\n",
       "      <td>Graduate</td>\n",
       "      <td>Yes</td>\n",
       "      <td>3000</td>\n",
       "      <td>0.0</td>\n",
       "      <td>66.0</td>\n",
       "      <td>360.0</td>\n",
       "      <td>1.0</td>\n",
       "      <td>Urban</td>\n",
       "      <td>Y</td>\n",
       "    </tr>\n",
       "    <tr>\n",
       "      <th>2</th>\n",
       "      <td>LP001006</td>\n",
       "      <td>Male</td>\n",
       "      <td>Yes</td>\n",
       "      <td>0</td>\n",
       "      <td>Not Graduate</td>\n",
       "      <td>No</td>\n",
       "      <td>2583</td>\n",
       "      <td>2358.0</td>\n",
       "      <td>120.0</td>\n",
       "      <td>360.0</td>\n",
       "      <td>1.0</td>\n",
       "      <td>Urban</td>\n",
       "      <td>Y</td>\n",
       "    </tr>\n",
       "    <tr>\n",
       "      <th>3</th>\n",
       "      <td>LP001008</td>\n",
       "      <td>Male</td>\n",
       "      <td>No</td>\n",
       "      <td>0</td>\n",
       "      <td>Graduate</td>\n",
       "      <td>No</td>\n",
       "      <td>6000</td>\n",
       "      <td>0.0</td>\n",
       "      <td>141.0</td>\n",
       "      <td>360.0</td>\n",
       "      <td>1.0</td>\n",
       "      <td>Urban</td>\n",
       "      <td>Y</td>\n",
       "    </tr>\n",
       "    <tr>\n",
       "      <th>4</th>\n",
       "      <td>LP001013</td>\n",
       "      <td>Male</td>\n",
       "      <td>Yes</td>\n",
       "      <td>0</td>\n",
       "      <td>Not Graduate</td>\n",
       "      <td>No</td>\n",
       "      <td>2333</td>\n",
       "      <td>1516.0</td>\n",
       "      <td>95.0</td>\n",
       "      <td>360.0</td>\n",
       "      <td>1.0</td>\n",
       "      <td>Urban</td>\n",
       "      <td>Y</td>\n",
       "    </tr>\n",
       "  </tbody>\n",
       "</table>\n",
       "</div>"
      ],
      "text/plain": [
       "    Loan_ID Gender Married Dependents     Education Self_Employed  \\\n",
       "0  LP001003   Male     Yes          1      Graduate            No   \n",
       "1  LP001005   Male     Yes          0      Graduate           Yes   \n",
       "2  LP001006   Male     Yes          0  Not Graduate            No   \n",
       "3  LP001008   Male      No          0      Graduate            No   \n",
       "4  LP001013   Male     Yes          0  Not Graduate            No   \n",
       "\n",
       "   ApplicantIncome  CoapplicantIncome  LoanAmount  Loan_Amount_Term  \\\n",
       "0             4583             1508.0       128.0             360.0   \n",
       "1             3000                0.0        66.0             360.0   \n",
       "2             2583             2358.0       120.0             360.0   \n",
       "3             6000                0.0       141.0             360.0   \n",
       "4             2333             1516.0        95.0             360.0   \n",
       "\n",
       "   Credit_History Property_Area Loan_Status  \n",
       "0             1.0         Rural           N  \n",
       "1             1.0         Urban           Y  \n",
       "2             1.0         Urban           Y  \n",
       "3             1.0         Urban           Y  \n",
       "4             1.0         Urban           Y  "
      ]
     },
     "execution_count": 5,
     "metadata": {},
     "output_type": "execute_result"
    }
   ],
   "source": [
    "#creating a dataset copy\n",
    "df = loan.copy()\n",
    "df.head()"
   ]
  },
  {
   "cell_type": "code",
   "execution_count": 6,
   "id": "16af236c",
   "metadata": {
    "execution": {
     "iopub.execute_input": "2024-02-29T17:36:19.321332Z",
     "iopub.status.busy": "2024-02-29T17:36:19.320989Z",
     "iopub.status.idle": "2024-02-29T17:36:19.324989Z",
     "shell.execute_reply": "2024-02-29T17:36:19.324025Z"
    },
    "papermill": {
     "duration": 0.018676,
     "end_time": "2024-02-29T17:36:19.327099",
     "exception": false,
     "start_time": "2024-02-29T17:36:19.308423",
     "status": "completed"
    },
    "tags": []
   },
   "outputs": [],
   "source": [
    "### Data Sanity Checks\n"
   ]
  },
  {
   "cell_type": "code",
   "execution_count": 7,
   "id": "ceeaf5d7",
   "metadata": {
    "execution": {
     "iopub.execute_input": "2024-02-29T17:36:19.350786Z",
     "iopub.status.busy": "2024-02-29T17:36:19.350452Z",
     "iopub.status.idle": "2024-02-29T17:36:19.356078Z",
     "shell.execute_reply": "2024-02-29T17:36:19.355262Z"
    },
    "papermill": {
     "duration": 0.019643,
     "end_time": "2024-02-29T17:36:19.357968",
     "exception": false,
     "start_time": "2024-02-29T17:36:19.338325",
     "status": "completed"
    },
    "tags": []
   },
   "outputs": [
    {
     "data": {
      "text/plain": [
       "(381, 13)"
      ]
     },
     "execution_count": 7,
     "metadata": {},
     "output_type": "execute_result"
    }
   ],
   "source": [
    "#get the shape of the data-The data has 381 rows and 13 columns\n",
    "loan.shape"
   ]
  },
  {
   "cell_type": "code",
   "execution_count": 8,
   "id": "f8a16ef8",
   "metadata": {
    "execution": {
     "iopub.execute_input": "2024-02-29T17:36:19.382486Z",
     "iopub.status.busy": "2024-02-29T17:36:19.382136Z",
     "iopub.status.idle": "2024-02-29T17:36:19.389619Z",
     "shell.execute_reply": "2024-02-29T17:36:19.388994Z"
    },
    "papermill": {
     "duration": 0.021319,
     "end_time": "2024-02-29T17:36:19.391377",
     "exception": false,
     "start_time": "2024-02-29T17:36:19.370058",
     "status": "completed"
    },
    "tags": []
   },
   "outputs": [
    {
     "data": {
      "text/plain": [
       "Loan_ID               0\n",
       "Gender                5\n",
       "Married               0\n",
       "Dependents            8\n",
       "Education             0\n",
       "Self_Employed        21\n",
       "ApplicantIncome       0\n",
       "CoapplicantIncome     0\n",
       "LoanAmount            0\n",
       "Loan_Amount_Term     11\n",
       "Credit_History       30\n",
       "Property_Area         0\n",
       "Loan_Status           0\n",
       "dtype: int64"
      ]
     },
     "execution_count": 8,
     "metadata": {},
     "output_type": "execute_result"
    }
   ],
   "source": [
    "#checking missing values\n",
    "    #The columns with missing values in our dataset include:\n",
    "    #Gender: 5\n",
    "    #Dependants: 8\n",
    "    #Self_Employed: 21\n",
    "    #Loan_Amount_Term: 11\n",
    "    #Credit_History: 30(Highest\n",
    "                   \n",
    "loan.isnull().sum()"
   ]
  },
  {
   "cell_type": "code",
   "execution_count": 9,
   "id": "d34e5bc3",
   "metadata": {
    "execution": {
     "iopub.execute_input": "2024-02-29T17:36:19.415882Z",
     "iopub.status.busy": "2024-02-29T17:36:19.415561Z",
     "iopub.status.idle": "2024-02-29T17:36:19.426849Z",
     "shell.execute_reply": "2024-02-29T17:36:19.425985Z"
    },
    "papermill": {
     "duration": 0.025682,
     "end_time": "2024-02-29T17:36:19.428806",
     "exception": false,
     "start_time": "2024-02-29T17:36:19.403124",
     "status": "completed"
    },
    "tags": []
   },
   "outputs": [
    {
     "data": {
      "text/plain": [
       "0"
      ]
     },
     "execution_count": 9,
     "metadata": {},
     "output_type": "execute_result"
    }
   ],
   "source": [
    "#checking for duplicates-There are no duplicates in the dataset\n",
    "loan.duplicated().sum()"
   ]
  },
  {
   "cell_type": "code",
   "execution_count": 10,
   "id": "69b3dd27",
   "metadata": {
    "execution": {
     "iopub.execute_input": "2024-02-29T17:36:19.453608Z",
     "iopub.status.busy": "2024-02-29T17:36:19.453266Z",
     "iopub.status.idle": "2024-02-29T17:36:19.472194Z",
     "shell.execute_reply": "2024-02-29T17:36:19.470758Z"
    },
    "papermill": {
     "duration": 0.034033,
     "end_time": "2024-02-29T17:36:19.474389",
     "exception": false,
     "start_time": "2024-02-29T17:36:19.440356",
     "status": "completed"
    },
    "tags": []
   },
   "outputs": [
    {
     "name": "stdout",
     "output_type": "stream",
     "text": [
      "<class 'pandas.core.frame.DataFrame'>\n",
      "RangeIndex: 381 entries, 0 to 380\n",
      "Data columns (total 13 columns):\n",
      " #   Column             Non-Null Count  Dtype  \n",
      "---  ------             --------------  -----  \n",
      " 0   Loan_ID            381 non-null    object \n",
      " 1   Gender             376 non-null    object \n",
      " 2   Married            381 non-null    object \n",
      " 3   Dependents         373 non-null    object \n",
      " 4   Education          381 non-null    object \n",
      " 5   Self_Employed      360 non-null    object \n",
      " 6   ApplicantIncome    381 non-null    int64  \n",
      " 7   CoapplicantIncome  381 non-null    float64\n",
      " 8   LoanAmount         381 non-null    float64\n",
      " 9   Loan_Amount_Term   370 non-null    float64\n",
      " 10  Credit_History     351 non-null    float64\n",
      " 11  Property_Area      381 non-null    object \n",
      " 12  Loan_Status        381 non-null    object \n",
      "dtypes: float64(4), int64(1), object(8)\n",
      "memory usage: 38.8+ KB\n"
     ]
    }
   ],
   "source": [
    "#The dataset has the following datatypes:\n",
    "    #float: 4 columns\n",
    "    #Integers: 1 column\n",
    "    #Object(string): 8 columns\n",
    "\n",
    "loan.info()"
   ]
  },
  {
   "cell_type": "code",
   "execution_count": 11,
   "id": "39e76f66",
   "metadata": {
    "execution": {
     "iopub.execute_input": "2024-02-29T17:36:19.500877Z",
     "iopub.status.busy": "2024-02-29T17:36:19.500295Z",
     "iopub.status.idle": "2024-02-29T17:36:19.528126Z",
     "shell.execute_reply": "2024-02-29T17:36:19.527302Z"
    },
    "papermill": {
     "duration": 0.043866,
     "end_time": "2024-02-29T17:36:19.530268",
     "exception": false,
     "start_time": "2024-02-29T17:36:19.486402",
     "status": "completed"
    },
    "tags": []
   },
   "outputs": [
    {
     "data": {
      "text/html": [
       "<div>\n",
       "<style scoped>\n",
       "    .dataframe tbody tr th:only-of-type {\n",
       "        vertical-align: middle;\n",
       "    }\n",
       "\n",
       "    .dataframe tbody tr th {\n",
       "        vertical-align: top;\n",
       "    }\n",
       "\n",
       "    .dataframe thead th {\n",
       "        text-align: right;\n",
       "    }\n",
       "</style>\n",
       "<table border=\"1\" class=\"dataframe\">\n",
       "  <thead>\n",
       "    <tr style=\"text-align: right;\">\n",
       "      <th></th>\n",
       "      <th>count</th>\n",
       "      <th>mean</th>\n",
       "      <th>std</th>\n",
       "      <th>min</th>\n",
       "      <th>25%</th>\n",
       "      <th>50%</th>\n",
       "      <th>75%</th>\n",
       "      <th>max</th>\n",
       "    </tr>\n",
       "  </thead>\n",
       "  <tbody>\n",
       "    <tr>\n",
       "      <th>ApplicantIncome</th>\n",
       "      <td>381.0</td>\n",
       "      <td>3579.845144</td>\n",
       "      <td>1419.813818</td>\n",
       "      <td>150.0</td>\n",
       "      <td>2600.0</td>\n",
       "      <td>3333.0</td>\n",
       "      <td>4288.0</td>\n",
       "      <td>9703.0</td>\n",
       "    </tr>\n",
       "    <tr>\n",
       "      <th>CoapplicantIncome</th>\n",
       "      <td>381.0</td>\n",
       "      <td>1277.275381</td>\n",
       "      <td>2340.818114</td>\n",
       "      <td>0.0</td>\n",
       "      <td>0.0</td>\n",
       "      <td>983.0</td>\n",
       "      <td>2016.0</td>\n",
       "      <td>33837.0</td>\n",
       "    </tr>\n",
       "    <tr>\n",
       "      <th>LoanAmount</th>\n",
       "      <td>381.0</td>\n",
       "      <td>104.986877</td>\n",
       "      <td>28.358464</td>\n",
       "      <td>9.0</td>\n",
       "      <td>90.0</td>\n",
       "      <td>110.0</td>\n",
       "      <td>127.0</td>\n",
       "      <td>150.0</td>\n",
       "    </tr>\n",
       "    <tr>\n",
       "      <th>Loan_Amount_Term</th>\n",
       "      <td>370.0</td>\n",
       "      <td>340.864865</td>\n",
       "      <td>68.549257</td>\n",
       "      <td>12.0</td>\n",
       "      <td>360.0</td>\n",
       "      <td>360.0</td>\n",
       "      <td>360.0</td>\n",
       "      <td>480.0</td>\n",
       "    </tr>\n",
       "    <tr>\n",
       "      <th>Credit_History</th>\n",
       "      <td>351.0</td>\n",
       "      <td>0.837607</td>\n",
       "      <td>0.369338</td>\n",
       "      <td>0.0</td>\n",
       "      <td>1.0</td>\n",
       "      <td>1.0</td>\n",
       "      <td>1.0</td>\n",
       "      <td>1.0</td>\n",
       "    </tr>\n",
       "  </tbody>\n",
       "</table>\n",
       "</div>"
      ],
      "text/plain": [
       "                   count         mean          std    min     25%     50%  \\\n",
       "ApplicantIncome    381.0  3579.845144  1419.813818  150.0  2600.0  3333.0   \n",
       "CoapplicantIncome  381.0  1277.275381  2340.818114    0.0     0.0   983.0   \n",
       "LoanAmount         381.0   104.986877    28.358464    9.0    90.0   110.0   \n",
       "Loan_Amount_Term   370.0   340.864865    68.549257   12.0   360.0   360.0   \n",
       "Credit_History     351.0     0.837607     0.369338    0.0     1.0     1.0   \n",
       "\n",
       "                      75%      max  \n",
       "ApplicantIncome    4288.0   9703.0  \n",
       "CoapplicantIncome  2016.0  33837.0  \n",
       "LoanAmount          127.0    150.0  \n",
       "Loan_Amount_Term    360.0    480.0  \n",
       "Credit_History        1.0      1.0  "
      ]
     },
     "execution_count": 11,
     "metadata": {},
     "output_type": "execute_result"
    }
   ],
   "source": [
    "#descriptive statistics of the numerical columns\n",
    "loan.describe().T"
   ]
  },
  {
   "cell_type": "code",
   "execution_count": 12,
   "id": "af809713",
   "metadata": {
    "execution": {
     "iopub.execute_input": "2024-02-29T17:36:19.556123Z",
     "iopub.status.busy": "2024-02-29T17:36:19.555710Z",
     "iopub.status.idle": "2024-02-29T17:36:19.578876Z",
     "shell.execute_reply": "2024-02-29T17:36:19.577841Z"
    },
    "papermill": {
     "duration": 0.038845,
     "end_time": "2024-02-29T17:36:19.581017",
     "exception": false,
     "start_time": "2024-02-29T17:36:19.542172",
     "status": "completed"
    },
    "tags": []
   },
   "outputs": [
    {
     "data": {
      "text/html": [
       "<div>\n",
       "<style scoped>\n",
       "    .dataframe tbody tr th:only-of-type {\n",
       "        vertical-align: middle;\n",
       "    }\n",
       "\n",
       "    .dataframe tbody tr th {\n",
       "        vertical-align: top;\n",
       "    }\n",
       "\n",
       "    .dataframe thead th {\n",
       "        text-align: right;\n",
       "    }\n",
       "</style>\n",
       "<table border=\"1\" class=\"dataframe\">\n",
       "  <thead>\n",
       "    <tr style=\"text-align: right;\">\n",
       "      <th></th>\n",
       "      <th>count</th>\n",
       "      <th>unique</th>\n",
       "      <th>top</th>\n",
       "      <th>freq</th>\n",
       "    </tr>\n",
       "  </thead>\n",
       "  <tbody>\n",
       "    <tr>\n",
       "      <th>Loan_ID</th>\n",
       "      <td>381</td>\n",
       "      <td>381</td>\n",
       "      <td>LP001003</td>\n",
       "      <td>1</td>\n",
       "    </tr>\n",
       "    <tr>\n",
       "      <th>Gender</th>\n",
       "      <td>376</td>\n",
       "      <td>2</td>\n",
       "      <td>Male</td>\n",
       "      <td>291</td>\n",
       "    </tr>\n",
       "    <tr>\n",
       "      <th>Married</th>\n",
       "      <td>381</td>\n",
       "      <td>2</td>\n",
       "      <td>Yes</td>\n",
       "      <td>228</td>\n",
       "    </tr>\n",
       "    <tr>\n",
       "      <th>Dependents</th>\n",
       "      <td>373</td>\n",
       "      <td>4</td>\n",
       "      <td>0</td>\n",
       "      <td>234</td>\n",
       "    </tr>\n",
       "    <tr>\n",
       "      <th>Education</th>\n",
       "      <td>381</td>\n",
       "      <td>2</td>\n",
       "      <td>Graduate</td>\n",
       "      <td>278</td>\n",
       "    </tr>\n",
       "    <tr>\n",
       "      <th>Self_Employed</th>\n",
       "      <td>360</td>\n",
       "      <td>2</td>\n",
       "      <td>No</td>\n",
       "      <td>325</td>\n",
       "    </tr>\n",
       "    <tr>\n",
       "      <th>Property_Area</th>\n",
       "      <td>381</td>\n",
       "      <td>3</td>\n",
       "      <td>Semiurban</td>\n",
       "      <td>149</td>\n",
       "    </tr>\n",
       "    <tr>\n",
       "      <th>Loan_Status</th>\n",
       "      <td>381</td>\n",
       "      <td>2</td>\n",
       "      <td>Y</td>\n",
       "      <td>271</td>\n",
       "    </tr>\n",
       "  </tbody>\n",
       "</table>\n",
       "</div>"
      ],
      "text/plain": [
       "              count unique        top freq\n",
       "Loan_ID         381    381   LP001003    1\n",
       "Gender          376      2       Male  291\n",
       "Married         381      2        Yes  228\n",
       "Dependents      373      4          0  234\n",
       "Education       381      2   Graduate  278\n",
       "Self_Employed   360      2         No  325\n",
       "Property_Area   381      3  Semiurban  149\n",
       "Loan_Status     381      2          Y  271"
      ]
     },
     "execution_count": 12,
     "metadata": {},
     "output_type": "execute_result"
    }
   ],
   "source": [
    "#descriptive statistics of the obejct columns\n",
    "loan.describe(include = 'object').T"
   ]
  },
  {
   "cell_type": "code",
   "execution_count": 13,
   "id": "e3937ba0",
   "metadata": {
    "execution": {
     "iopub.execute_input": "2024-02-29T17:36:19.607074Z",
     "iopub.status.busy": "2024-02-29T17:36:19.606678Z",
     "iopub.status.idle": "2024-02-29T17:36:19.611397Z",
     "shell.execute_reply": "2024-02-29T17:36:19.610382Z"
    },
    "papermill": {
     "duration": 0.020182,
     "end_time": "2024-02-29T17:36:19.613451",
     "exception": false,
     "start_time": "2024-02-29T17:36:19.593269",
     "status": "completed"
    },
    "tags": []
   },
   "outputs": [],
   "source": [
    "###Univariate Analysis"
   ]
  },
  {
   "cell_type": "code",
   "execution_count": 14,
   "id": "31221a0c",
   "metadata": {
    "execution": {
     "iopub.execute_input": "2024-02-29T17:36:19.639851Z",
     "iopub.status.busy": "2024-02-29T17:36:19.639460Z",
     "iopub.status.idle": "2024-02-29T17:36:19.647563Z",
     "shell.execute_reply": "2024-02-29T17:36:19.646636Z"
    },
    "papermill": {
     "duration": 0.023486,
     "end_time": "2024-02-29T17:36:19.649649",
     "exception": false,
     "start_time": "2024-02-29T17:36:19.626163",
     "status": "completed"
    },
    "tags": []
   },
   "outputs": [
    {
     "data": {
      "text/plain": [
       "Property_Area\n",
       "Semiurban    149\n",
       "Urban        126\n",
       "Rural        106\n",
       "Name: count, dtype: int64"
      ]
     },
     "execution_count": 14,
     "metadata": {},
     "output_type": "execute_result"
    }
   ],
   "source": [
    "#The property area is divided into 3:\n",
    "    #SemiUrban: 149\n",
    "    #Urban: 126\n",
    "    #Rural: 106\n",
    "loan['Property_Area'].value_counts()"
   ]
  },
  {
   "cell_type": "code",
   "execution_count": 15,
   "id": "c8dc32ef",
   "metadata": {
    "execution": {
     "iopub.execute_input": "2024-02-29T17:36:19.677035Z",
     "iopub.status.busy": "2024-02-29T17:36:19.676640Z",
     "iopub.status.idle": "2024-02-29T17:36:19.684621Z",
     "shell.execute_reply": "2024-02-29T17:36:19.683597Z"
    },
    "papermill": {
     "duration": 0.024623,
     "end_time": "2024-02-29T17:36:19.686787",
     "exception": false,
     "start_time": "2024-02-29T17:36:19.662164",
     "status": "completed"
    },
    "tags": []
   },
   "outputs": [
    {
     "data": {
      "text/plain": [
       "Education\n",
       "Graduate        278\n",
       "Not Graduate    103\n",
       "Name: count, dtype: int64"
      ]
     },
     "execution_count": 15,
     "metadata": {},
     "output_type": "execute_result"
    }
   ],
   "source": [
    "#From the loan applicants, 278 are graduates while 103 have not graduated\n",
    "loan['Education'].value_counts()"
   ]
  },
  {
   "cell_type": "code",
   "execution_count": 16,
   "id": "2fab3611",
   "metadata": {
    "execution": {
     "iopub.execute_input": "2024-02-29T17:36:19.714218Z",
     "iopub.status.busy": "2024-02-29T17:36:19.713822Z",
     "iopub.status.idle": "2024-02-29T17:36:19.722133Z",
     "shell.execute_reply": "2024-02-29T17:36:19.721093Z"
    },
    "papermill": {
     "duration": 0.024769,
     "end_time": "2024-02-29T17:36:19.724293",
     "exception": false,
     "start_time": "2024-02-29T17:36:19.699524",
     "status": "completed"
    },
    "tags": []
   },
   "outputs": [
    {
     "data": {
      "text/plain": [
       "Dependents\n",
       "0     234\n",
       "2      59\n",
       "1      52\n",
       "3+     28\n",
       "Name: count, dtype: int64"
      ]
     },
     "execution_count": 16,
     "metadata": {},
     "output_type": "execute_result"
    }
   ],
   "source": [
    "#The dependent variable\n",
    "loan['Dependents'].value_counts()"
   ]
  },
  {
   "cell_type": "code",
   "execution_count": 17,
   "id": "7ab26848",
   "metadata": {
    "execution": {
     "iopub.execute_input": "2024-02-29T17:36:19.751701Z",
     "iopub.status.busy": "2024-02-29T17:36:19.751334Z",
     "iopub.status.idle": "2024-02-29T17:36:19.759358Z",
     "shell.execute_reply": "2024-02-29T17:36:19.758340Z"
    },
    "papermill": {
     "duration": 0.024245,
     "end_time": "2024-02-29T17:36:19.761409",
     "exception": false,
     "start_time": "2024-02-29T17:36:19.737164",
     "status": "completed"
    },
    "tags": []
   },
   "outputs": [
    {
     "data": {
      "text/plain": [
       "Loan_Status\n",
       "Y    271\n",
       "N    110\n",
       "Name: count, dtype: int64"
      ]
     },
     "execution_count": 17,
     "metadata": {},
     "output_type": "execute_result"
    }
   ],
   "source": [
    "#271 people were given a loan while 110 were not\n",
    "loan['Loan_Status'].value_counts()"
   ]
  },
  {
   "cell_type": "code",
   "execution_count": 18,
   "id": "418447b4",
   "metadata": {
    "execution": {
     "iopub.execute_input": "2024-02-29T17:36:19.789453Z",
     "iopub.status.busy": "2024-02-29T17:36:19.789066Z",
     "iopub.status.idle": "2024-02-29T17:36:19.797794Z",
     "shell.execute_reply": "2024-02-29T17:36:19.796779Z"
    },
    "papermill": {
     "duration": 0.02567,
     "end_time": "2024-02-29T17:36:19.800016",
     "exception": false,
     "start_time": "2024-02-29T17:36:19.774346",
     "status": "completed"
    },
    "tags": []
   },
   "outputs": [
    {
     "data": {
      "text/plain": [
       "Loan_ID               0\n",
       "Gender                5\n",
       "Married               0\n",
       "Dependents            8\n",
       "Education             0\n",
       "Self_Employed        21\n",
       "ApplicantIncome       0\n",
       "CoapplicantIncome     0\n",
       "LoanAmount            0\n",
       "Loan_Amount_Term     11\n",
       "Credit_History       30\n",
       "Property_Area         0\n",
       "Loan_Status           0\n",
       "dtype: int64"
      ]
     },
     "execution_count": 18,
     "metadata": {},
     "output_type": "execute_result"
    }
   ],
   "source": [
    "loan.isnull().sum()"
   ]
  },
  {
   "cell_type": "code",
   "execution_count": 19,
   "id": "27a741af",
   "metadata": {
    "execution": {
     "iopub.execute_input": "2024-02-29T17:36:19.828508Z",
     "iopub.status.busy": "2024-02-29T17:36:19.828104Z",
     "iopub.status.idle": "2024-02-29T17:36:19.832363Z",
     "shell.execute_reply": "2024-02-29T17:36:19.831378Z"
    },
    "papermill": {
     "duration": 0.020769,
     "end_time": "2024-02-29T17:36:19.834388",
     "exception": false,
     "start_time": "2024-02-29T17:36:19.813619",
     "status": "completed"
    },
    "tags": []
   },
   "outputs": [],
   "source": [
    "### Plots"
   ]
  },
  {
   "cell_type": "code",
   "execution_count": 20,
   "id": "e4302819",
   "metadata": {
    "execution": {
     "iopub.execute_input": "2024-02-29T17:36:19.862051Z",
     "iopub.status.busy": "2024-02-29T17:36:19.861642Z",
     "iopub.status.idle": "2024-02-29T17:36:20.299997Z",
     "shell.execute_reply": "2024-02-29T17:36:20.298739Z"
    },
    "papermill": {
     "duration": 0.455197,
     "end_time": "2024-02-29T17:36:20.302477",
     "exception": false,
     "start_time": "2024-02-29T17:36:19.847280",
     "status": "completed"
    },
    "tags": []
   },
   "outputs": [
    {
     "name": "stderr",
     "output_type": "stream",
     "text": [
      "/opt/conda/lib/python3.10/site-packages/seaborn/_oldcore.py:1119: FutureWarning: use_inf_as_na option is deprecated and will be removed in a future version. Convert inf values to NaN before operating instead.\n",
      "  with pd.option_context('mode.use_inf_as_na', True):\n"
     ]
    },
    {
     "data": {
      "text/plain": [
       "Text(0.5, 1.0, 'A plot showing the distribution of the loan amount term')"
      ]
     },
     "execution_count": 20,
     "metadata": {},
     "output_type": "execute_result"
    },
    {
     "data": {
      "image/png": "[encoded data removed]",
      "text/plain": [
       "<Figure size 640x480 with 1 Axes>"
      ]
     },
     "metadata": {},
     "output_type": "display_data"
    }
   ],
   "source": [
    "#A histogram\n",
    "sns.histplot(loan, x = 'Loan_Amount_Term', kde = True)\n",
    "plt.title(\"A plot showing the distribution of the loan amount term\")"
   ]
  },
  {
   "cell_type": "code",
   "execution_count": 21,
   "id": "d2a5ef7b",
   "metadata": {
    "execution": {
     "iopub.execute_input": "2024-02-29T17:36:20.332108Z",
     "iopub.status.busy": "2024-02-29T17:36:20.331698Z",
     "iopub.status.idle": "2024-02-29T17:36:20.558754Z",
     "shell.execute_reply": "2024-02-29T17:36:20.557654Z"
    },
    "papermill": {
     "duration": 0.2443,
     "end_time": "2024-02-29T17:36:20.561065",
     "exception": false,
     "start_time": "2024-02-29T17:36:20.316765",
     "status": "completed"
    },
    "tags": []
   },
   "outputs": [
    {
     "data": {
      "text/plain": [
       "Text(0.5, 1.0, 'A plot showing the distribution of the loan amount term')"
      ]
     },
     "execution_count": 21,
     "metadata": {},
     "output_type": "execute_result"
    },
    {
     "data": {
      "image/png": "[encoded data removed]",
      "text/plain": [
       "<Figure size 640x480 with 1 Axes>"
      ]
     },
     "metadata": {},
     "output_type": "display_data"
    }
   ],
   "source": [
    "#a boxplot\n",
    "sns.boxplot(loan, x = 'Loan_Amount_Term')\n",
    "plt.title(\"A plot showing the distribution of the loan amount term\")"
   ]
  },
  {
   "cell_type": "code",
   "execution_count": 22,
   "id": "545b74a0",
   "metadata": {
    "execution": {
     "iopub.execute_input": "2024-02-29T17:36:20.592587Z",
     "iopub.status.busy": "2024-02-29T17:36:20.591792Z",
     "iopub.status.idle": "2024-02-29T17:36:20.599033Z",
     "shell.execute_reply": "2024-02-29T17:36:20.598012Z"
    },
    "papermill": {
     "duration": 0.02553,
     "end_time": "2024-02-29T17:36:20.601498",
     "exception": false,
     "start_time": "2024-02-29T17:36:20.575968",
     "status": "completed"
    },
    "tags": []
   },
   "outputs": [
    {
     "data": {
      "text/plain": [
       "360.0"
      ]
     },
     "execution_count": 22,
     "metadata": {},
     "output_type": "execute_result"
    }
   ],
   "source": [
    "med1= loan['Loan_Amount_Term'].median()\n",
    "med1"
   ]
  },
  {
   "cell_type": "code",
   "execution_count": 23,
   "id": "6f0583f6",
   "metadata": {
    "execution": {
     "iopub.execute_input": "2024-02-29T17:36:20.632875Z",
     "iopub.status.busy": "2024-02-29T17:36:20.632531Z",
     "iopub.status.idle": "2024-02-29T17:36:20.639323Z",
     "shell.execute_reply": "2024-02-29T17:36:20.638342Z"
    },
    "papermill": {
     "duration": 0.025343,
     "end_time": "2024-02-29T17:36:20.641748",
     "exception": false,
     "start_time": "2024-02-29T17:36:20.616405",
     "status": "completed"
    },
    "tags": []
   },
   "outputs": [
    {
     "data": {
      "text/plain": [
       "360.0"
      ]
     },
     "execution_count": 23,
     "metadata": {},
     "output_type": "execute_result"
    }
   ],
   "source": [
    "#for confirmation\n",
    "med2 = np.nanmedian(loan['Loan_Amount_Term'])\n",
    "med2"
   ]
  },
  {
   "cell_type": "code",
   "execution_count": 24,
   "id": "f71f3929",
   "metadata": {
    "execution": {
     "iopub.execute_input": "2024-02-29T17:36:20.673380Z",
     "iopub.status.busy": "2024-02-29T17:36:20.672991Z",
     "iopub.status.idle": "2024-02-29T17:36:20.680043Z",
     "shell.execute_reply": "2024-02-29T17:36:20.678991Z"
    },
    "papermill": {
     "duration": 0.025484,
     "end_time": "2024-02-29T17:36:20.682306",
     "exception": false,
     "start_time": "2024-02-29T17:36:20.656822",
     "status": "completed"
    },
    "tags": []
   },
   "outputs": [
    {
     "data": {
      "text/plain": [
       "340.86486486486484"
      ]
     },
     "execution_count": 24,
     "metadata": {},
     "output_type": "execute_result"
    }
   ],
   "source": [
    "mean1 = loan['Loan_Amount_Term'].mean()\n",
    "mean1"
   ]
  },
  {
   "cell_type": "code",
   "execution_count": 25,
   "id": "703bcb70",
   "metadata": {
    "execution": {
     "iopub.execute_input": "2024-02-29T17:36:20.715620Z",
     "iopub.status.busy": "2024-02-29T17:36:20.714545Z",
     "iopub.status.idle": "2024-02-29T17:36:20.721624Z",
     "shell.execute_reply": "2024-02-29T17:36:20.720569Z"
    },
    "papermill": {
     "duration": 0.026177,
     "end_time": "2024-02-29T17:36:20.723876",
     "exception": false,
     "start_time": "2024-02-29T17:36:20.697699",
     "status": "completed"
    },
    "tags": []
   },
   "outputs": [
    {
     "data": {
      "text/plain": [
       "340.86486486486484"
      ]
     },
     "execution_count": 25,
     "metadata": {},
     "output_type": "execute_result"
    }
   ],
   "source": [
    "mean2 = np.mean(loan['Loan_Amount_Term'])\n",
    "mean2"
   ]
  },
  {
   "cell_type": "code",
   "execution_count": 26,
   "id": "4fb75a8f",
   "metadata": {
    "execution": {
     "iopub.execute_input": "2024-02-29T17:36:20.757467Z",
     "iopub.status.busy": "2024-02-29T17:36:20.756621Z",
     "iopub.status.idle": "2024-02-29T17:36:20.766638Z",
     "shell.execute_reply": "2024-02-29T17:36:20.765678Z"
    },
    "papermill": {
     "duration": 0.02868,
     "end_time": "2024-02-29T17:36:20.768645",
     "exception": false,
     "start_time": "2024-02-29T17:36:20.739965",
     "status": "completed"
    },
    "tags": []
   },
   "outputs": [
    {
     "data": {
      "text/plain": [
       "0    360.0\n",
       "Name: Loan_Amount_Term, dtype: float64"
      ]
     },
     "execution_count": 26,
     "metadata": {},
     "output_type": "execute_result"
    }
   ],
   "source": [
    "mod1 = loan['Loan_Amount_Term'].mode()\n",
    "mod1"
   ]
  },
  {
   "cell_type": "code",
   "execution_count": 27,
   "id": "6d4215d1",
   "metadata": {
    "execution": {
     "iopub.execute_input": "2024-02-29T17:36:20.801823Z",
     "iopub.status.busy": "2024-02-29T17:36:20.801449Z",
     "iopub.status.idle": "2024-02-29T17:36:20.820642Z",
     "shell.execute_reply": "2024-02-29T17:36:20.819599Z"
    },
    "papermill": {
     "duration": 0.038519,
     "end_time": "2024-02-29T17:36:20.822999",
     "exception": false,
     "start_time": "2024-02-29T17:36:20.784480",
     "status": "completed"
    },
    "tags": []
   },
   "outputs": [
    {
     "data": {
      "text/html": [
       "<div>\n",
       "<style scoped>\n",
       "    .dataframe tbody tr th:only-of-type {\n",
       "        vertical-align: middle;\n",
       "    }\n",
       "\n",
       "    .dataframe tbody tr th {\n",
       "        vertical-align: top;\n",
       "    }\n",
       "\n",
       "    .dataframe thead th {\n",
       "        text-align: right;\n",
       "    }\n",
       "</style>\n",
       "<table border=\"1\" class=\"dataframe\">\n",
       "  <thead>\n",
       "    <tr style=\"text-align: right;\">\n",
       "      <th></th>\n",
       "      <th>Loan_ID</th>\n",
       "      <th>Gender</th>\n",
       "      <th>Married</th>\n",
       "      <th>Dependents</th>\n",
       "      <th>Education</th>\n",
       "      <th>Self_Employed</th>\n",
       "      <th>ApplicantIncome</th>\n",
       "      <th>CoapplicantIncome</th>\n",
       "      <th>LoanAmount</th>\n",
       "      <th>Loan_Amount_Term</th>\n",
       "      <th>Credit_History</th>\n",
       "      <th>Property_Area</th>\n",
       "      <th>Loan_Status</th>\n",
       "    </tr>\n",
       "  </thead>\n",
       "  <tbody>\n",
       "    <tr>\n",
       "      <th>0</th>\n",
       "      <td>LP001003</td>\n",
       "      <td>Male</td>\n",
       "      <td>Yes</td>\n",
       "      <td>1</td>\n",
       "      <td>Graduate</td>\n",
       "      <td>No</td>\n",
       "      <td>4583</td>\n",
       "      <td>1508.0</td>\n",
       "      <td>128.0</td>\n",
       "      <td>360.0</td>\n",
       "      <td>1.0</td>\n",
       "      <td>Rural</td>\n",
       "      <td>N</td>\n",
       "    </tr>\n",
       "    <tr>\n",
       "      <th>1</th>\n",
       "      <td>LP001005</td>\n",
       "      <td>Male</td>\n",
       "      <td>Yes</td>\n",
       "      <td>0</td>\n",
       "      <td>Graduate</td>\n",
       "      <td>Yes</td>\n",
       "      <td>3000</td>\n",
       "      <td>0.0</td>\n",
       "      <td>66.0</td>\n",
       "      <td>360.0</td>\n",
       "      <td>1.0</td>\n",
       "      <td>Urban</td>\n",
       "      <td>Y</td>\n",
       "    </tr>\n",
       "    <tr>\n",
       "      <th>2</th>\n",
       "      <td>LP001006</td>\n",
       "      <td>Male</td>\n",
       "      <td>Yes</td>\n",
       "      <td>0</td>\n",
       "      <td>Not Graduate</td>\n",
       "      <td>No</td>\n",
       "      <td>2583</td>\n",
       "      <td>2358.0</td>\n",
       "      <td>120.0</td>\n",
       "      <td>360.0</td>\n",
       "      <td>1.0</td>\n",
       "      <td>Urban</td>\n",
       "      <td>Y</td>\n",
       "    </tr>\n",
       "    <tr>\n",
       "      <th>3</th>\n",
       "      <td>LP001008</td>\n",
       "      <td>Male</td>\n",
       "      <td>No</td>\n",
       "      <td>0</td>\n",
       "      <td>Graduate</td>\n",
       "      <td>No</td>\n",
       "      <td>6000</td>\n",
       "      <td>0.0</td>\n",
       "      <td>141.0</td>\n",
       "      <td>360.0</td>\n",
       "      <td>1.0</td>\n",
       "      <td>Urban</td>\n",
       "      <td>Y</td>\n",
       "    </tr>\n",
       "    <tr>\n",
       "      <th>4</th>\n",
       "      <td>LP001013</td>\n",
       "      <td>Male</td>\n",
       "      <td>Yes</td>\n",
       "      <td>0</td>\n",
       "      <td>Not Graduate</td>\n",
       "      <td>No</td>\n",
       "      <td>2333</td>\n",
       "      <td>1516.0</td>\n",
       "      <td>95.0</td>\n",
       "      <td>360.0</td>\n",
       "      <td>1.0</td>\n",
       "      <td>Urban</td>\n",
       "      <td>Y</td>\n",
       "    </tr>\n",
       "  </tbody>\n",
       "</table>\n",
       "</div>"
      ],
      "text/plain": [
       "    Loan_ID Gender Married Dependents     Education Self_Employed  \\\n",
       "0  LP001003   Male     Yes          1      Graduate            No   \n",
       "1  LP001005   Male     Yes          0      Graduate           Yes   \n",
       "2  LP001006   Male     Yes          0  Not Graduate            No   \n",
       "3  LP001008   Male      No          0      Graduate            No   \n",
       "4  LP001013   Male     Yes          0  Not Graduate            No   \n",
       "\n",
       "   ApplicantIncome  CoapplicantIncome  LoanAmount  Loan_Amount_Term  \\\n",
       "0             4583             1508.0       128.0             360.0   \n",
       "1             3000                0.0        66.0             360.0   \n",
       "2             2583             2358.0       120.0             360.0   \n",
       "3             6000                0.0       141.0             360.0   \n",
       "4             2333             1516.0        95.0             360.0   \n",
       "\n",
       "   Credit_History Property_Area Loan_Status  \n",
       "0             1.0         Rural           N  \n",
       "1             1.0         Urban           Y  \n",
       "2             1.0         Urban           Y  \n",
       "3             1.0         Urban           Y  \n",
       "4             1.0         Urban           Y  "
      ]
     },
     "execution_count": 27,
     "metadata": {},
     "output_type": "execute_result"
    }
   ],
   "source": [
    "loan.head()"
   ]
  },
  {
   "cell_type": "code",
   "execution_count": 28,
   "id": "c7a87d00",
   "metadata": {
    "execution": {
     "iopub.execute_input": "2024-02-29T17:36:20.856926Z",
     "iopub.status.busy": "2024-02-29T17:36:20.856269Z",
     "iopub.status.idle": "2024-02-29T17:36:20.866124Z",
     "shell.execute_reply": "2024-02-29T17:36:20.865100Z"
    },
    "papermill": {
     "duration": 0.029358,
     "end_time": "2024-02-29T17:36:20.868263",
     "exception": false,
     "start_time": "2024-02-29T17:36:20.838905",
     "status": "completed"
    },
    "tags": []
   },
   "outputs": [
    {
     "data": {
      "text/plain": [
       "Loan_ID               0\n",
       "Gender                5\n",
       "Married               0\n",
       "Dependents            8\n",
       "Education             0\n",
       "Self_Employed        21\n",
       "ApplicantIncome       0\n",
       "CoapplicantIncome     0\n",
       "LoanAmount            0\n",
       "Loan_Amount_Term      0\n",
       "Credit_History       30\n",
       "Property_Area         0\n",
       "Loan_Status           0\n",
       "dtype: int64"
      ]
     },
     "execution_count": 28,
     "metadata": {},
     "output_type": "execute_result"
    }
   ],
   "source": [
    "#filling the missing values\n",
    "loan.fillna({'Loan_Amount_Term': med1}, inplace = True)\n",
    "loan.isnull().sum()"
   ]
  },
  {
   "cell_type": "code",
   "execution_count": 29,
   "id": "8d95df6b",
   "metadata": {
    "execution": {
     "iopub.execute_input": "2024-02-29T17:36:20.903252Z",
     "iopub.status.busy": "2024-02-29T17:36:20.902558Z",
     "iopub.status.idle": "2024-02-29T17:36:21.272556Z",
     "shell.execute_reply": "2024-02-29T17:36:21.271341Z"
    },
    "papermill": {
     "duration": 0.390379,
     "end_time": "2024-02-29T17:36:21.274872",
     "exception": false,
     "start_time": "2024-02-29T17:36:20.884493",
     "status": "completed"
    },
    "tags": []
   },
   "outputs": [
    {
     "name": "stderr",
     "output_type": "stream",
     "text": [
      "/opt/conda/lib/python3.10/site-packages/seaborn/_oldcore.py:1119: FutureWarning: use_inf_as_na option is deprecated and will be removed in a future version. Convert inf values to NaN before operating instead.\n",
      "  with pd.option_context('mode.use_inf_as_na', True):\n"
     ]
    },
    {
     "data": {
      "text/plain": [
       "Text(0.5, 1.0, 'A plot showing credit history')"
      ]
     },
     "execution_count": 29,
     "metadata": {},
     "output_type": "execute_result"
    },
    {
     "data": {
      "image/png": "[encoded data removed]",
      "text/plain": [
       "<Figure size 640x480 with 1 Axes>"
      ]
     },
     "metadata": {},
     "output_type": "display_data"
    }
   ],
   "source": [
    "#histogram of credit history\n",
    "sns.histplot(loan, x = 'Credit_History', kde = True )\n",
    "plt.title(\"A plot showing credit history\")"
   ]
  },
  {
   "cell_type": "code",
   "execution_count": 30,
   "id": "dd2ea2aa",
   "metadata": {
    "execution": {
     "iopub.execute_input": "2024-02-29T17:36:21.309639Z",
     "iopub.status.busy": "2024-02-29T17:36:21.309282Z",
     "iopub.status.idle": "2024-02-29T17:36:21.316531Z",
     "shell.execute_reply": "2024-02-29T17:36:21.315472Z"
    },
    "papermill": {
     "duration": 0.027135,
     "end_time": "2024-02-29T17:36:21.318577",
     "exception": false,
     "start_time": "2024-02-29T17:36:21.291442",
     "status": "completed"
    },
    "tags": []
   },
   "outputs": [
    {
     "data": {
      "text/plain": [
       "1.0"
      ]
     },
     "execution_count": 30,
     "metadata": {},
     "output_type": "execute_result"
    }
   ],
   "source": [
    "med_ced = loan['Credit_History'].median()\n",
    "med_ced"
   ]
  },
  {
   "cell_type": "code",
   "execution_count": 31,
   "id": "cddc4da8",
   "metadata": {
    "execution": {
     "iopub.execute_input": "2024-02-29T17:36:21.354342Z",
     "iopub.status.busy": "2024-02-29T17:36:21.353616Z",
     "iopub.status.idle": "2024-02-29T17:36:21.359648Z",
     "shell.execute_reply": "2024-02-29T17:36:21.358680Z"
    },
    "papermill": {
     "duration": 0.026233,
     "end_time": "2024-02-29T17:36:21.361619",
     "exception": false,
     "start_time": "2024-02-29T17:36:21.335386",
     "status": "completed"
    },
    "tags": []
   },
   "outputs": [
    {
     "data": {
      "text/plain": [
       "0.8376068376068376"
      ]
     },
     "execution_count": 31,
     "metadata": {},
     "output_type": "execute_result"
    }
   ],
   "source": [
    "med_mean = loan['Credit_History'].mean()\n",
    "med_mean"
   ]
  },
  {
   "cell_type": "code",
   "execution_count": 32,
   "id": "c3a55252",
   "metadata": {
    "execution": {
     "iopub.execute_input": "2024-02-29T17:36:21.397299Z",
     "iopub.status.busy": "2024-02-29T17:36:21.396561Z",
     "iopub.status.idle": "2024-02-29T17:36:21.404349Z",
     "shell.execute_reply": "2024-02-29T17:36:21.403423Z"
    },
    "papermill": {
     "duration": 0.027719,
     "end_time": "2024-02-29T17:36:21.406385",
     "exception": false,
     "start_time": "2024-02-29T17:36:21.378666",
     "status": "completed"
    },
    "tags": []
   },
   "outputs": [
    {
     "data": {
      "text/plain": [
       "0    1.0\n",
       "Name: Credit_History, dtype: float64"
      ]
     },
     "execution_count": 32,
     "metadata": {},
     "output_type": "execute_result"
    }
   ],
   "source": [
    "med_mode = loan['Credit_History'].mode()\n",
    "med_mode"
   ]
  },
  {
   "cell_type": "code",
   "execution_count": 33,
   "id": "36e408c3",
   "metadata": {
    "execution": {
     "iopub.execute_input": "2024-02-29T17:36:21.442867Z",
     "iopub.status.busy": "2024-02-29T17:36:21.442131Z",
     "iopub.status.idle": "2024-02-29T17:36:21.451193Z",
     "shell.execute_reply": "2024-02-29T17:36:21.450477Z"
    },
    "papermill": {
     "duration": 0.02975,
     "end_time": "2024-02-29T17:36:21.453122",
     "exception": false,
     "start_time": "2024-02-29T17:36:21.423372",
     "status": "completed"
    },
    "tags": []
   },
   "outputs": [
    {
     "data": {
      "text/plain": [
       "Loan_ID               0\n",
       "Gender                5\n",
       "Married               0\n",
       "Dependents            8\n",
       "Education             0\n",
       "Self_Employed        21\n",
       "ApplicantIncome       0\n",
       "CoapplicantIncome     0\n",
       "LoanAmount            0\n",
       "Loan_Amount_Term      0\n",
       "Credit_History        0\n",
       "Property_Area         0\n",
       "Loan_Status           0\n",
       "dtype: int64"
      ]
     },
     "execution_count": 33,
     "metadata": {},
     "output_type": "execute_result"
    }
   ],
   "source": [
    "#filling in the missing values\n",
    "loan.fillna({'Credit_History': med_ced}, inplace = True)\n",
    "loan.isnull().sum()"
   ]
  },
  {
   "cell_type": "code",
   "execution_count": null,
   "id": "e12aafc7",
   "metadata": {
    "papermill": {
     "duration": 0.017181,
     "end_time": "2024-02-29T17:36:21.487390",
     "exception": false,
     "start_time": "2024-02-29T17:36:21.470209",
     "status": "completed"
    },
    "tags": []
   },
   "outputs": [],
   "source": []
  }
 ],
 "metadata": {
  "kaggle": {
   "accelerator": "none",
   "dataSources": [
    {
     "datasetId": 4516829,
     "sourceId": 7730056,
     "sourceType": "datasetVersion"
    }
   ],
   "dockerImageVersionId": 30664,
   "isGpuEnabled": false,
   "isInternetEnabled": true,
   "language": "python",
   "sourceType": "notebook"
  },
  "kernelspec": {
   "display_name": "Python 3",
   "language": "python",
   "name": "python3"
  },
  "language_info": {
   "codemirror_mode": {
    "name": "ipython",
    "version": 3
   },
   "file_extension": ".py",
   "mimetype": "text/x-python",
   "name": "python",
   "nbconvert_exporter": "python",
   "pygments_lexer": "ipython3",
   "version": "3.10.13"
  },
  "papermill": {
   "default_parameters": {},
   "duration": 7.795074,
   "end_time": "2024-02-29T17:36:22.024377",
   "environment_variables": {},
   "exception": null,
   "input_path": "__notebook__.ipynb",
   "output_path": "__notebook__.ipynb",
   "parameters": {},
   "start_time": "2024-02-29T17:36:14.229303",
   "version": "2.5.0"
  }
 },
 "nbformat": 4,
 "nbformat_minor": 5
}
